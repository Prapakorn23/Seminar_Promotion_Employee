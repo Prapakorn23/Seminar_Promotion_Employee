{
  "cells": [
    {
      "cell_type": "code",
      "execution_count": 1,
      "metadata": {},
      "outputs": [],
      "source": [
        "# Import libraries\n",
        "import pandas as pd\n",
        "import numpy as np\n",
        "import seaborn as sns\n",
        "import matplotlib.pyplot as plt\n",
        "import xgboost as xgb\n",
        "import sklearn\n",
        "from sklearn.svm import SVC\n",
        "from sklearn.model_selection import cross_val_score, StratifiedKFold\n",
        "from sklearn.model_selection import train_test_split\n",
        "from sklearn.preprocessing import LabelEncoder, StandardScaler\n",
        "from sklearn.ensemble import RandomForestClassifier\n",
        "from sklearn.tree import DecisionTreeClassifier\n",
        "from sklearn.model_selection import GridSearchCV\n",
        "from sklearn.feature_selection import RFE\n",
        "from sklearn.feature_selection import mutual_info_classif\n",
        "from sklearn.feature_selection import SelectKBest, f_classif\n",
        "from sklearn.metrics import accuracy_score, precision_score, recall_score, f1_score\n",
        "from sklearn.metrics import confusion_matrix,classification_report\n",
        "from imblearn.over_sampling import SMOTE\n",
        "from xgboost import XGBClassifier"
      ]
    },
    {
      "cell_type": "code",
      "execution_count": 7,
      "metadata": {},
      "outputs": [],
      "source": [
        "#import file\n",
        "Employee =pd.read_csv(\"Employee.csv\")"
      ]
    },
    {
      "cell_type": "code",
      "execution_count": null,
      "metadata": {
        "colab": {
          "base_uri": "https://localhost:8080/"
        },
        "id": "DiNtzl_vapFh",
        "outputId": "be0fac50-b414-46f0-c934-f28e036edc59"
      },
      "outputs": [
        {
          "name": "stdout",
          "output_type": "stream",
          "text": [
            "<class 'pandas.core.frame.DataFrame'>\n",
            "RangeIndex: 48660 entries, 0 to 48659\n",
            "Data columns (total 13 columns):\n",
            " #   Column                Non-Null Count  Dtype   \n",
            "---  ------                --------------  -----   \n",
            " 0   employee_id           48660 non-null  category\n",
            " 1   department            48660 non-null  object  \n",
            " 2   region                48660 non-null  object  \n",
            " 3   education             48660 non-null  object  \n",
            " 4   gender                48660 non-null  object  \n",
            " 5   recruitment_channel   48660 non-null  object  \n",
            " 6   no_of_trainings       48660 non-null  int64   \n",
            " 7   age                   48660 non-null  int64   \n",
            " 8   previous_year_rating  48660 non-null  int64   \n",
            " 9   length_of_service     48660 non-null  int64   \n",
            " 10  awards_won?           48660 non-null  category\n",
            " 11  avg_training_score    48660 non-null  int64   \n",
            " 12  is_promoted           48660 non-null  category\n",
            "dtypes: category(3), int64(5), object(5)\n",
            "memory usage: 5.4+ MB\n"
          ]
        }
      ],
      "source": [
        "#แปลงType\n",
        "Employee['employee_id'] = Employee['employee_id'].astype('category')\n",
        "Employee['awards_won?'] = Employee['awards_won?'].astype('category')\n",
        "Employee['is_promoted'] = Employee['is_promoted'].astype('category')\n",
        "\n",
        "#เช็คจำนวนและTypeของData หลังแปลง Type แล้ว\n",
        "Employee.info()"
      ]
    },
    {
      "cell_type": "code",
      "execution_count": null,
      "metadata": {
        "id": "dURoxzc1bWnu"
      },
      "outputs": [],
      "source": [
        "#สำหรับ SVM\n",
        "from sklearn.preprocessing import StandardScaler\n",
        "from sklearn.preprocessing import OneHotEncoder\n",
        "\n",
        "# แยกคอลัมน์เชิงปริมาณกับเชิงกลุ่ม\n",
        "quant_cols = Employee.select_dtypes(include=['int64', 'float64']).columns\n",
        "cat_cols = Employee.select_dtypes(include=['object', 'category']).columns\n",
        "cat_cols = cat_cols.drop('employee_id','is_promoted')\n",
        "target = Employee['is_promoted']\n",
        "\n",
        "# Standardize ข้อมูลเชิงปริมาณ\n",
        "scaler = StandardScaler()\n",
        "quant_scaled = pd.DataFrame(scaler.fit_transform(Employee[quant_cols]), columns=quant_cols)\n",
        "\n",
        "# 2. One-hot encoding ข้อมูลเชิงกลุ่ม\n",
        "encoder = OneHotEncoder(sparse_output=False)  # drop='first' เพื่อลด multicollinearity\n",
        "cat_encoded = pd.DataFrame(encoder.fit_transform(Employee[cat_cols]),\n",
        "                           columns=encoder.get_feature_names_out(cat_cols))\n",
        "\n",
        "quant_cols = pd.DataFrame(quant_cols)\n",
        "# 3. รวมข้อมูลกลับ\n",
        "df_standard = pd.concat([quant_scaled.reset_index(drop=True), cat_encoded.reset_index(drop=True), target.reset_index(drop=True)], axis=1)\n",
        "df_standard = df_standard.drop(columns=['is_promoted_0','is_promoted_1'])\n",
        "\n"
      ]
    },
    {
      "cell_type": "code",
      "execution_count": null,
      "metadata": {
        "id": "Q3ofnrOdk0om"
      },
      "outputs": [],
      "source": [
        "#สำหรับข้อมูลปกติ\n",
        "\n",
        "# แยกคอลัมน์เชิงปริมาณกับเชิงกลุ่ม\n",
        "quant_cols = Employee.select_dtypes(include=['int64', 'float64']).columns\n",
        "cat_cols = Employee.select_dtypes(include=['object', 'category']).columns\n",
        "\n",
        "# ลบคอลัมน์ที่ไม่ต้องการ one-hot encode\n",
        "cat_cols = cat_cols.drop(['employee_id', 'is_promoted'])\n",
        "\n",
        "# แยก target variable\n",
        "target = Employee['is_promoted']\n",
        "\n",
        "# One-hot encoding ข้อมูลเชิงกลุ่ม\n",
        "encoder = OneHotEncoder(sparse_output=False)\n",
        "cat_encoded = pd.DataFrame(encoder.fit_transform(Employee[cat_cols]),\n",
        "                           columns=encoder.get_feature_names_out(cat_cols),\n",
        "                           index=Employee.index)\n",
        "\n",
        "# ดึงข้อมูลเชิงปริมาณ (DataFrame จริง)\n",
        "quant_data = Employee[quant_cols]\n",
        "\n",
        "# รวมข้อมูลกลับ\n",
        "df_final = pd.concat([quant_data, cat_encoded,target], axis=1)\n",
        "#df_final = df_final.drop(columns=['is_promoted_0','is_promoted_1'])\n"
      ]
    },
    {
      "cell_type": "markdown",
      "metadata": {
        "id": "Gvr8S9gMJnzv"
      },
      "source": [
        "# การนำเข้าข้อมูล"
      ]
    },
    {
      "cell_type": "code",
      "execution_count": null,
      "metadata": {
        "colab": {
          "base_uri": "https://localhost:8080/",
          "height": 278
        },
        "id": "_I4Jo9g4lZGV",
        "outputId": "10e4fb75-c38d-4b52-9ae0-156e346efe50"
      },
      "outputs": [
        {
          "data": {
            "application/vnd.google.colaboratory.intrinsic+json": {
              "summary": "{\n  \"name\": \"Employee\",\n  \"rows\": 48660,\n  \"fields\": [\n    {\n      \"column\": \"employee_id\",\n      \"properties\": {\n        \"dtype\": \"category\",\n        \"num_unique_values\": 48660,\n        \"samples\": [\n          58074,\n          28350,\n          58992\n        ],\n        \"semantic_type\": \"\",\n        \"description\": \"\"\n      }\n    },\n    {\n      \"column\": \"department\",\n      \"properties\": {\n        \"dtype\": \"category\",\n        \"num_unique_values\": 9,\n        \"samples\": [\n          \"HR\",\n          \"Operations\",\n          \"Procurement\"\n        ],\n        \"semantic_type\": \"\",\n        \"description\": \"\"\n      }\n    },\n    {\n      \"column\": \"region\",\n      \"properties\": {\n        \"dtype\": \"category\",\n        \"num_unique_values\": 34,\n        \"samples\": [\n          \"region_5\",\n          \"region_16\",\n          \"region_6\"\n        ],\n        \"semantic_type\": \"\",\n        \"description\": \"\"\n      }\n    },\n    {\n      \"column\": \"education\",\n      \"properties\": {\n        \"dtype\": \"category\",\n        \"num_unique_values\": 3,\n        \"samples\": [\n          \"Master's & above\",\n          \"Bachelor's\",\n          \"Below Secondary\"\n        ],\n        \"semantic_type\": \"\",\n        \"description\": \"\"\n      }\n    },\n    {\n      \"column\": \"gender\",\n      \"properties\": {\n        \"dtype\": \"category\",\n        \"num_unique_values\": 2,\n        \"samples\": [\n          \"m\",\n          \"f\"\n        ],\n        \"semantic_type\": \"\",\n        \"description\": \"\"\n      }\n    },\n    {\n      \"column\": \"recruitment_channel\",\n      \"properties\": {\n        \"dtype\": \"category\",\n        \"num_unique_values\": 3,\n        \"samples\": [\n          \"sourcing\",\n          \"other\"\n        ],\n        \"semantic_type\": \"\",\n        \"description\": \"\"\n      }\n    },\n    {\n      \"column\": \"no_of_trainings\",\n      \"properties\": {\n        \"dtype\": \"number\",\n        \"std\": 0,\n        \"min\": 1,\n        \"max\": 10,\n        \"num_unique_values\": 10,\n        \"samples\": [\n          8,\n          2\n        ],\n        \"semantic_type\": \"\",\n        \"description\": \"\"\n      }\n    },\n    {\n      \"column\": \"age\",\n      \"properties\": {\n        \"dtype\": \"number\",\n        \"std\": 7,\n        \"min\": 20,\n        \"max\": 60,\n        \"num_unique_values\": 41,\n        \"samples\": [\n          25,\n          29\n        ],\n        \"semantic_type\": \"\",\n        \"description\": \"\"\n      }\n    },\n    {\n      \"column\": \"previous_year_rating\",\n      \"properties\": {\n        \"dtype\": \"number\",\n        \"std\": 1,\n        \"min\": 1,\n        \"max\": 5,\n        \"num_unique_values\": 5,\n        \"samples\": [\n          3,\n          2\n        ],\n        \"semantic_type\": \"\",\n        \"description\": \"\"\n      }\n    },\n    {\n      \"column\": \"length_of_service\",\n      \"properties\": {\n        \"dtype\": \"number\",\n        \"std\": 4,\n        \"min\": 1,\n        \"max\": 37,\n        \"num_unique_values\": 35,\n        \"samples\": [\n          31,\n          17\n        ],\n        \"semantic_type\": \"\",\n        \"description\": \"\"\n      }\n    },\n    {\n      \"column\": \"awards_won?\",\n      \"properties\": {\n        \"dtype\": \"category\",\n        \"num_unique_values\": 2,\n        \"samples\": [\n          1,\n          0\n        ],\n        \"semantic_type\": \"\",\n        \"description\": \"\"\n      }\n    },\n    {\n      \"column\": \"avg_training_score\",\n      \"properties\": {\n        \"dtype\": \"number\",\n        \"std\": 13,\n        \"min\": 39,\n        \"max\": 99,\n        \"num_unique_values\": 61,\n        \"samples\": [\n          49,\n          59\n        ],\n        \"semantic_type\": \"\",\n        \"description\": \"\"\n      }\n    },\n    {\n      \"column\": \"is_promoted\",\n      \"properties\": {\n        \"dtype\": \"category\",\n        \"num_unique_values\": 2,\n        \"samples\": [\n          1,\n          0\n        ],\n        \"semantic_type\": \"\",\n        \"description\": \"\"\n      }\n    }\n  ]\n}",
              "type": "dataframe",
              "variable_name": "Employee"
            },
            "text/html": [
              "\n",
              "  <div id=\"df-1c0f3dc1-b415-4a71-b692-f4ec57432f11\" class=\"colab-df-container\">\n",
              "    <div>\n",
              "<style scoped>\n",
              "    .dataframe tbody tr th:only-of-type {\n",
              "        vertical-align: middle;\n",
              "    }\n",
              "\n",
              "    .dataframe tbody tr th {\n",
              "        vertical-align: top;\n",
              "    }\n",
              "\n",
              "    .dataframe thead th {\n",
              "        text-align: right;\n",
              "    }\n",
              "</style>\n",
              "<table border=\"1\" class=\"dataframe\">\n",
              "  <thead>\n",
              "    <tr style=\"text-align: right;\">\n",
              "      <th></th>\n",
              "      <th>employee_id</th>\n",
              "      <th>department</th>\n",
              "      <th>region</th>\n",
              "      <th>education</th>\n",
              "      <th>gender</th>\n",
              "      <th>recruitment_channel</th>\n",
              "      <th>no_of_trainings</th>\n",
              "      <th>age</th>\n",
              "      <th>previous_year_rating</th>\n",
              "      <th>length_of_service</th>\n",
              "      <th>awards_won?</th>\n",
              "      <th>avg_training_score</th>\n",
              "      <th>is_promoted</th>\n",
              "    </tr>\n",
              "  </thead>\n",
              "  <tbody>\n",
              "    <tr>\n",
              "      <th>0</th>\n",
              "      <td>65438</td>\n",
              "      <td>Sales &amp; Marketing</td>\n",
              "      <td>region_7</td>\n",
              "      <td>Master's &amp; above</td>\n",
              "      <td>f</td>\n",
              "      <td>sourcing</td>\n",
              "      <td>1</td>\n",
              "      <td>35</td>\n",
              "      <td>5</td>\n",
              "      <td>8</td>\n",
              "      <td>0</td>\n",
              "      <td>49</td>\n",
              "      <td>0</td>\n",
              "    </tr>\n",
              "    <tr>\n",
              "      <th>1</th>\n",
              "      <td>65141</td>\n",
              "      <td>Operations</td>\n",
              "      <td>region_22</td>\n",
              "      <td>Bachelor's</td>\n",
              "      <td>m</td>\n",
              "      <td>other</td>\n",
              "      <td>1</td>\n",
              "      <td>30</td>\n",
              "      <td>5</td>\n",
              "      <td>4</td>\n",
              "      <td>0</td>\n",
              "      <td>60</td>\n",
              "      <td>0</td>\n",
              "    </tr>\n",
              "    <tr>\n",
              "      <th>2</th>\n",
              "      <td>7513</td>\n",
              "      <td>Sales &amp; Marketing</td>\n",
              "      <td>region_19</td>\n",
              "      <td>Bachelor's</td>\n",
              "      <td>m</td>\n",
              "      <td>sourcing</td>\n",
              "      <td>1</td>\n",
              "      <td>34</td>\n",
              "      <td>3</td>\n",
              "      <td>7</td>\n",
              "      <td>0</td>\n",
              "      <td>50</td>\n",
              "      <td>0</td>\n",
              "    </tr>\n",
              "    <tr>\n",
              "      <th>3</th>\n",
              "      <td>2542</td>\n",
              "      <td>Sales &amp; Marketing</td>\n",
              "      <td>region_23</td>\n",
              "      <td>Bachelor's</td>\n",
              "      <td>m</td>\n",
              "      <td>other</td>\n",
              "      <td>2</td>\n",
              "      <td>39</td>\n",
              "      <td>1</td>\n",
              "      <td>10</td>\n",
              "      <td>0</td>\n",
              "      <td>50</td>\n",
              "      <td>0</td>\n",
              "    </tr>\n",
              "    <tr>\n",
              "      <th>4</th>\n",
              "      <td>48945</td>\n",
              "      <td>Technology</td>\n",
              "      <td>region_26</td>\n",
              "      <td>Bachelor's</td>\n",
              "      <td>m</td>\n",
              "      <td>other</td>\n",
              "      <td>1</td>\n",
              "      <td>45</td>\n",
              "      <td>3</td>\n",
              "      <td>2</td>\n",
              "      <td>0</td>\n",
              "      <td>73</td>\n",
              "      <td>0</td>\n",
              "    </tr>\n",
              "  </tbody>\n",
              "</table>\n",
              "</div>\n",
              "    <div class=\"colab-df-buttons\">\n",
              "\n",
              "  <div class=\"colab-df-container\">\n",
              "    <button class=\"colab-df-convert\" onclick=\"convertToInteractive('df-1c0f3dc1-b415-4a71-b692-f4ec57432f11')\"\n",
              "            title=\"Convert this dataframe to an interactive table.\"\n",
              "            style=\"display:none;\">\n",
              "\n",
              "  <svg xmlns=\"http://www.w3.org/2000/svg\" height=\"24px\" viewBox=\"0 -960 960 960\">\n",
              "    <path d=\"M120-120v-720h720v720H120Zm60-500h600v-160H180v160Zm220 220h160v-160H400v160Zm0 220h160v-160H400v160ZM180-400h160v-160H180v160Zm440 0h160v-160H620v160ZM180-180h160v-160H180v160Zm440 0h160v-160H620v160Z\"/>\n",
              "  </svg>\n",
              "    </button>\n",
              "\n",
              "  <style>\n",
              "    .colab-df-container {\n",
              "      display:flex;\n",
              "      gap: 12px;\n",
              "    }\n",
              "\n",
              "    .colab-df-convert {\n",
              "      background-color: #E8F0FE;\n",
              "      border: none;\n",
              "      border-radius: 50%;\n",
              "      cursor: pointer;\n",
              "      display: none;\n",
              "      fill: #1967D2;\n",
              "      height: 32px;\n",
              "      padding: 0 0 0 0;\n",
              "      width: 32px;\n",
              "    }\n",
              "\n",
              "    .colab-df-convert:hover {\n",
              "      background-color: #E2EBFA;\n",
              "      box-shadow: 0px 1px 2px rgba(60, 64, 67, 0.3), 0px 1px 3px 1px rgba(60, 64, 67, 0.15);\n",
              "      fill: #174EA6;\n",
              "    }\n",
              "\n",
              "    .colab-df-buttons div {\n",
              "      margin-bottom: 4px;\n",
              "    }\n",
              "\n",
              "    [theme=dark] .colab-df-convert {\n",
              "      background-color: #3B4455;\n",
              "      fill: #D2E3FC;\n",
              "    }\n",
              "\n",
              "    [theme=dark] .colab-df-convert:hover {\n",
              "      background-color: #434B5C;\n",
              "      box-shadow: 0px 1px 3px 1px rgba(0, 0, 0, 0.15);\n",
              "      filter: drop-shadow(0px 1px 2px rgba(0, 0, 0, 0.3));\n",
              "      fill: #FFFFFF;\n",
              "    }\n",
              "  </style>\n",
              "\n",
              "    <script>\n",
              "      const buttonEl =\n",
              "        document.querySelector('#df-1c0f3dc1-b415-4a71-b692-f4ec57432f11 button.colab-df-convert');\n",
              "      buttonEl.style.display =\n",
              "        google.colab.kernel.accessAllowed ? 'block' : 'none';\n",
              "\n",
              "      async function convertToInteractive(key) {\n",
              "        const element = document.querySelector('#df-1c0f3dc1-b415-4a71-b692-f4ec57432f11');\n",
              "        const dataTable =\n",
              "          await google.colab.kernel.invokeFunction('convertToInteractive',\n",
              "                                                    [key], {});\n",
              "        if (!dataTable) return;\n",
              "\n",
              "        const docLinkHtml = 'Like what you see? Visit the ' +\n",
              "          '<a target=\"_blank\" href=https://colab.research.google.com/notebooks/data_table.ipynb>data table notebook</a>'\n",
              "          + ' to learn more about interactive tables.';\n",
              "        element.innerHTML = '';\n",
              "        dataTable['output_type'] = 'display_data';\n",
              "        await google.colab.output.renderOutput(dataTable, element);\n",
              "        const docLink = document.createElement('div');\n",
              "        docLink.innerHTML = docLinkHtml;\n",
              "        element.appendChild(docLink);\n",
              "      }\n",
              "    </script>\n",
              "  </div>\n",
              "\n",
              "\n",
              "<div id=\"df-2b11a667-bde3-476d-b0e2-81e2cca6493d\">\n",
              "  <button class=\"colab-df-quickchart\" onclick=\"quickchart('df-2b11a667-bde3-476d-b0e2-81e2cca6493d')\"\n",
              "            title=\"Suggest charts\"\n",
              "            style=\"display:none;\">\n",
              "\n",
              "<svg xmlns=\"http://www.w3.org/2000/svg\" height=\"24px\"viewBox=\"0 0 24 24\"\n",
              "     width=\"24px\">\n",
              "    <g>\n",
              "        <path d=\"M19 3H5c-1.1 0-2 .9-2 2v14c0 1.1.9 2 2 2h14c1.1 0 2-.9 2-2V5c0-1.1-.9-2-2-2zM9 17H7v-7h2v7zm4 0h-2V7h2v10zm4 0h-2v-4h2v4z\"/>\n",
              "    </g>\n",
              "</svg>\n",
              "  </button>\n",
              "\n",
              "<style>\n",
              "  .colab-df-quickchart {\n",
              "      --bg-color: #E8F0FE;\n",
              "      --fill-color: #1967D2;\n",
              "      --hover-bg-color: #E2EBFA;\n",
              "      --hover-fill-color: #174EA6;\n",
              "      --disabled-fill-color: #AAA;\n",
              "      --disabled-bg-color: #DDD;\n",
              "  }\n",
              "\n",
              "  [theme=dark] .colab-df-quickchart {\n",
              "      --bg-color: #3B4455;\n",
              "      --fill-color: #D2E3FC;\n",
              "      --hover-bg-color: #434B5C;\n",
              "      --hover-fill-color: #FFFFFF;\n",
              "      --disabled-bg-color: #3B4455;\n",
              "      --disabled-fill-color: #666;\n",
              "  }\n",
              "\n",
              "  .colab-df-quickchart {\n",
              "    background-color: var(--bg-color);\n",
              "    border: none;\n",
              "    border-radius: 50%;\n",
              "    cursor: pointer;\n",
              "    display: none;\n",
              "    fill: var(--fill-color);\n",
              "    height: 32px;\n",
              "    padding: 0;\n",
              "    width: 32px;\n",
              "  }\n",
              "\n",
              "  .colab-df-quickchart:hover {\n",
              "    background-color: var(--hover-bg-color);\n",
              "    box-shadow: 0 1px 2px rgba(60, 64, 67, 0.3), 0 1px 3px 1px rgba(60, 64, 67, 0.15);\n",
              "    fill: var(--button-hover-fill-color);\n",
              "  }\n",
              "\n",
              "  .colab-df-quickchart-complete:disabled,\n",
              "  .colab-df-quickchart-complete:disabled:hover {\n",
              "    background-color: var(--disabled-bg-color);\n",
              "    fill: var(--disabled-fill-color);\n",
              "    box-shadow: none;\n",
              "  }\n",
              "\n",
              "  .colab-df-spinner {\n",
              "    border: 2px solid var(--fill-color);\n",
              "    border-color: transparent;\n",
              "    border-bottom-color: var(--fill-color);\n",
              "    animation:\n",
              "      spin 1s steps(1) infinite;\n",
              "  }\n",
              "\n",
              "  @keyframes spin {\n",
              "    0% {\n",
              "      border-color: transparent;\n",
              "      border-bottom-color: var(--fill-color);\n",
              "      border-left-color: var(--fill-color);\n",
              "    }\n",
              "    20% {\n",
              "      border-color: transparent;\n",
              "      border-left-color: var(--fill-color);\n",
              "      border-top-color: var(--fill-color);\n",
              "    }\n",
              "    30% {\n",
              "      border-color: transparent;\n",
              "      border-left-color: var(--fill-color);\n",
              "      border-top-color: var(--fill-color);\n",
              "      border-right-color: var(--fill-color);\n",
              "    }\n",
              "    40% {\n",
              "      border-color: transparent;\n",
              "      border-right-color: var(--fill-color);\n",
              "      border-top-color: var(--fill-color);\n",
              "    }\n",
              "    60% {\n",
              "      border-color: transparent;\n",
              "      border-right-color: var(--fill-color);\n",
              "    }\n",
              "    80% {\n",
              "      border-color: transparent;\n",
              "      border-right-color: var(--fill-color);\n",
              "      border-bottom-color: var(--fill-color);\n",
              "    }\n",
              "    90% {\n",
              "      border-color: transparent;\n",
              "      border-bottom-color: var(--fill-color);\n",
              "    }\n",
              "  }\n",
              "</style>\n",
              "\n",
              "  <script>\n",
              "    async function quickchart(key) {\n",
              "      const quickchartButtonEl =\n",
              "        document.querySelector('#' + key + ' button');\n",
              "      quickchartButtonEl.disabled = true;  // To prevent multiple clicks.\n",
              "      quickchartButtonEl.classList.add('colab-df-spinner');\n",
              "      try {\n",
              "        const charts = await google.colab.kernel.invokeFunction(\n",
              "            'suggestCharts', [key], {});\n",
              "      } catch (error) {\n",
              "        console.error('Error during call to suggestCharts:', error);\n",
              "      }\n",
              "      quickchartButtonEl.classList.remove('colab-df-spinner');\n",
              "      quickchartButtonEl.classList.add('colab-df-quickchart-complete');\n",
              "    }\n",
              "    (() => {\n",
              "      let quickchartButtonEl =\n",
              "        document.querySelector('#df-2b11a667-bde3-476d-b0e2-81e2cca6493d button');\n",
              "      quickchartButtonEl.style.display =\n",
              "        google.colab.kernel.accessAllowed ? 'block' : 'none';\n",
              "    })();\n",
              "  </script>\n",
              "</div>\n",
              "\n",
              "    </div>\n",
              "  </div>\n"
            ],
            "text/plain": [
              "  employee_id         department     region         education gender  \\\n",
              "0       65438  Sales & Marketing   region_7  Master's & above      f   \n",
              "1       65141         Operations  region_22        Bachelor's      m   \n",
              "2        7513  Sales & Marketing  region_19        Bachelor's      m   \n",
              "3        2542  Sales & Marketing  region_23        Bachelor's      m   \n",
              "4       48945         Technology  region_26        Bachelor's      m   \n",
              "\n",
              "  recruitment_channel  no_of_trainings  age  previous_year_rating  \\\n",
              "0            sourcing                1   35                     5   \n",
              "1               other                1   30                     5   \n",
              "2            sourcing                1   34                     3   \n",
              "3               other                2   39                     1   \n",
              "4               other                1   45                     3   \n",
              "\n",
              "   length_of_service awards_won?  avg_training_score is_promoted  \n",
              "0                  8           0                  49           0  \n",
              "1                  4           0                  60           0  \n",
              "2                  7           0                  50           0  \n",
              "3                 10           0                  50           0  \n",
              "4                  2           0                  73           0  "
            ]
          },
          "execution_count": 6,
          "metadata": {},
          "output_type": "execute_result"
        }
      ],
      "source": [
        "#\n",
        "Employee.head()"
      ]
    },
    {
      "cell_type": "code",
      "execution_count": null,
      "metadata": {
        "colab": {
          "base_uri": "https://localhost:8080/"
        },
        "id": "GnXp-PcBaWYF",
        "outputId": "613391cc-d73f-453a-83f7-c5a2631d6110"
      },
      "outputs": [
        {
          "name": "stdout",
          "output_type": "stream",
          "text": [
            "<class 'pandas.core.frame.DataFrame'>\n",
            "RangeIndex: 48660 entries, 0 to 48659\n",
            "Data columns (total 13 columns):\n",
            " #   Column                Non-Null Count  Dtype   \n",
            "---  ------                --------------  -----   \n",
            " 0   employee_id           48660 non-null  category\n",
            " 1   department            48660 non-null  object  \n",
            " 2   region                48660 non-null  object  \n",
            " 3   education             48660 non-null  object  \n",
            " 4   gender                48660 non-null  object  \n",
            " 5   recruitment_channel   48660 non-null  object  \n",
            " 6   no_of_trainings       48660 non-null  int64   \n",
            " 7   age                   48660 non-null  int64   \n",
            " 8   previous_year_rating  48660 non-null  int64   \n",
            " 9   length_of_service     48660 non-null  int64   \n",
            " 10  awards_won?           48660 non-null  category\n",
            " 11  avg_training_score    48660 non-null  int64   \n",
            " 12  is_promoted           48660 non-null  category\n",
            "dtypes: category(3), int64(5), object(5)\n",
            "memory usage: 5.4+ MB\n"
          ]
        }
      ],
      "source": [
        "#เช็คจำนวนและ Type ของ Data\n",
        "Employee.info()"
      ]
    },
    {
      "cell_type": "code",
      "execution_count": null,
      "metadata": {
        "colab": {
          "base_uri": "https://localhost:8080/",
          "height": 491
        },
        "id": "-aFjJxYXNkMH",
        "outputId": "344bde97-d52f-444f-9a12-8d1dd19981aa"
      },
      "outputs": [
        {
          "data": {
            "text/html": [
              "<div>\n",
              "<style scoped>\n",
              "    .dataframe tbody tr th:only-of-type {\n",
              "        vertical-align: middle;\n",
              "    }\n",
              "\n",
              "    .dataframe tbody tr th {\n",
              "        vertical-align: top;\n",
              "    }\n",
              "\n",
              "    .dataframe thead th {\n",
              "        text-align: right;\n",
              "    }\n",
              "</style>\n",
              "<table border=\"1\" class=\"dataframe\">\n",
              "  <thead>\n",
              "    <tr style=\"text-align: right;\">\n",
              "      <th></th>\n",
              "      <th>0</th>\n",
              "    </tr>\n",
              "  </thead>\n",
              "  <tbody>\n",
              "    <tr>\n",
              "      <th>employee_id</th>\n",
              "      <td>0</td>\n",
              "    </tr>\n",
              "    <tr>\n",
              "      <th>department</th>\n",
              "      <td>0</td>\n",
              "    </tr>\n",
              "    <tr>\n",
              "      <th>region</th>\n",
              "      <td>0</td>\n",
              "    </tr>\n",
              "    <tr>\n",
              "      <th>education</th>\n",
              "      <td>0</td>\n",
              "    </tr>\n",
              "    <tr>\n",
              "      <th>gender</th>\n",
              "      <td>0</td>\n",
              "    </tr>\n",
              "    <tr>\n",
              "      <th>recruitment_channel</th>\n",
              "      <td>0</td>\n",
              "    </tr>\n",
              "    <tr>\n",
              "      <th>no_of_trainings</th>\n",
              "      <td>0</td>\n",
              "    </tr>\n",
              "    <tr>\n",
              "      <th>age</th>\n",
              "      <td>0</td>\n",
              "    </tr>\n",
              "    <tr>\n",
              "      <th>previous_year_rating</th>\n",
              "      <td>0</td>\n",
              "    </tr>\n",
              "    <tr>\n",
              "      <th>length_of_service</th>\n",
              "      <td>0</td>\n",
              "    </tr>\n",
              "    <tr>\n",
              "      <th>awards_won?</th>\n",
              "      <td>0</td>\n",
              "    </tr>\n",
              "    <tr>\n",
              "      <th>avg_training_score</th>\n",
              "      <td>0</td>\n",
              "    </tr>\n",
              "    <tr>\n",
              "      <th>is_promoted</th>\n",
              "      <td>0</td>\n",
              "    </tr>\n",
              "  </tbody>\n",
              "</table>\n",
              "</div><br><label><b>dtype:</b> int64</label>"
            ],
            "text/plain": [
              "employee_id             0\n",
              "department              0\n",
              "region                  0\n",
              "education               0\n",
              "gender                  0\n",
              "recruitment_channel     0\n",
              "no_of_trainings         0\n",
              "age                     0\n",
              "previous_year_rating    0\n",
              "length_of_service       0\n",
              "awards_won?             0\n",
              "avg_training_score      0\n",
              "is_promoted             0\n",
              "dtype: int64"
            ]
          },
          "execution_count": 8,
          "metadata": {},
          "output_type": "execute_result"
        }
      ],
      "source": [
        "Employee.isnull().sum()"
      ]
    },
    {
      "cell_type": "code",
      "execution_count": null,
      "metadata": {
        "id": "Dl38zvqNqN_F"
      },
      "outputs": [],
      "source": [
        "# ทำการเคลียร์ค่าว่างทั้งหมด\n",
        "Employee = Employee.dropna()"
      ]
    },
    {
      "cell_type": "code",
      "execution_count": null,
      "metadata": {
        "colab": {
          "base_uri": "https://localhost:8080/",
          "height": 491
        },
        "id": "oPUnE9WkZn_D",
        "outputId": "810ec7fd-4fe1-4f0c-da9d-7555e5103b46"
      },
      "outputs": [
        {
          "data": {
            "text/html": [
              "<div>\n",
              "<style scoped>\n",
              "    .dataframe tbody tr th:only-of-type {\n",
              "        vertical-align: middle;\n",
              "    }\n",
              "\n",
              "    .dataframe tbody tr th {\n",
              "        vertical-align: top;\n",
              "    }\n",
              "\n",
              "    .dataframe thead th {\n",
              "        text-align: right;\n",
              "    }\n",
              "</style>\n",
              "<table border=\"1\" class=\"dataframe\">\n",
              "  <thead>\n",
              "    <tr style=\"text-align: right;\">\n",
              "      <th></th>\n",
              "      <th>0</th>\n",
              "    </tr>\n",
              "  </thead>\n",
              "  <tbody>\n",
              "    <tr>\n",
              "      <th>employee_id</th>\n",
              "      <td>0</td>\n",
              "    </tr>\n",
              "    <tr>\n",
              "      <th>department</th>\n",
              "      <td>0</td>\n",
              "    </tr>\n",
              "    <tr>\n",
              "      <th>region</th>\n",
              "      <td>0</td>\n",
              "    </tr>\n",
              "    <tr>\n",
              "      <th>education</th>\n",
              "      <td>0</td>\n",
              "    </tr>\n",
              "    <tr>\n",
              "      <th>gender</th>\n",
              "      <td>0</td>\n",
              "    </tr>\n",
              "    <tr>\n",
              "      <th>recruitment_channel</th>\n",
              "      <td>0</td>\n",
              "    </tr>\n",
              "    <tr>\n",
              "      <th>no_of_trainings</th>\n",
              "      <td>0</td>\n",
              "    </tr>\n",
              "    <tr>\n",
              "      <th>age</th>\n",
              "      <td>0</td>\n",
              "    </tr>\n",
              "    <tr>\n",
              "      <th>previous_year_rating</th>\n",
              "      <td>0</td>\n",
              "    </tr>\n",
              "    <tr>\n",
              "      <th>length_of_service</th>\n",
              "      <td>0</td>\n",
              "    </tr>\n",
              "    <tr>\n",
              "      <th>awards_won?</th>\n",
              "      <td>0</td>\n",
              "    </tr>\n",
              "    <tr>\n",
              "      <th>avg_training_score</th>\n",
              "      <td>0</td>\n",
              "    </tr>\n",
              "    <tr>\n",
              "      <th>is_promoted</th>\n",
              "      <td>0</td>\n",
              "    </tr>\n",
              "  </tbody>\n",
              "</table>\n",
              "</div><br><label><b>dtype:</b> int64</label>"
            ],
            "text/plain": [
              "employee_id             0\n",
              "department              0\n",
              "region                  0\n",
              "education               0\n",
              "gender                  0\n",
              "recruitment_channel     0\n",
              "no_of_trainings         0\n",
              "age                     0\n",
              "previous_year_rating    0\n",
              "length_of_service       0\n",
              "awards_won?             0\n",
              "avg_training_score      0\n",
              "is_promoted             0\n",
              "dtype: int64"
            ]
          },
          "execution_count": 10,
          "metadata": {},
          "output_type": "execute_result"
        }
      ],
      "source": [
        "# Check Missing Value before clean missing value\n",
        "Employee.isnull().sum()"
      ]
    },
    {
      "cell_type": "code",
      "execution_count": null,
      "metadata": {
        "colab": {
          "base_uri": "https://localhost:8080/"
        },
        "id": "wh1R0e3ES63b",
        "outputId": "fd56bdf0-d0b5-4991-b663-5e3b430428aa"
      },
      "outputs": [
        {
          "name": "stdout",
          "output_type": "stream",
          "text": [
            "<class 'pandas.core.frame.DataFrame'>\n",
            "RangeIndex: 48660 entries, 0 to 48659\n",
            "Data columns (total 13 columns):\n",
            " #   Column                Non-Null Count  Dtype   \n",
            "---  ------                --------------  -----   \n",
            " 0   employee_id           48660 non-null  category\n",
            " 1   department            48660 non-null  object  \n",
            " 2   region                48660 non-null  object  \n",
            " 3   education             48660 non-null  object  \n",
            " 4   gender                48660 non-null  object  \n",
            " 5   recruitment_channel   48660 non-null  object  \n",
            " 6   no_of_trainings       48660 non-null  int64   \n",
            " 7   age                   48660 non-null  int64   \n",
            " 8   previous_year_rating  48660 non-null  int64   \n",
            " 9   length_of_service     48660 non-null  int64   \n",
            " 10  awards_won?           48660 non-null  category\n",
            " 11  avg_training_score    48660 non-null  int64   \n",
            " 12  is_promoted           48660 non-null  category\n",
            "dtypes: category(3), int64(5), object(5)\n",
            "memory usage: 5.4+ MB\n"
          ]
        }
      ],
      "source": [
        "Employee.info()"
      ]
    },
    {
      "cell_type": "code",
      "execution_count": null,
      "metadata": {
        "colab": {
          "base_uri": "https://localhost:8080/"
        },
        "id": "krqgn5aR-nU3",
        "outputId": "5503b725-0194-4b5a-c560-cb539b25d5aa"
      },
      "outputs": [
        {
          "data": {
            "text/plain": [
              "np.int64(0)"
            ]
          },
          "execution_count": 12,
          "metadata": {},
          "output_type": "execute_result"
        }
      ],
      "source": [
        "Employee.duplicated().sum()"
      ]
    },
    {
      "cell_type": "code",
      "execution_count": null,
      "metadata": {
        "colab": {
          "base_uri": "https://localhost:8080/",
          "height": 300
        },
        "id": "bHOEawCbbXQY",
        "outputId": "1234ee10-f543-4684-ee82-f16bb97382a3"
      },
      "outputs": [
        {
          "data": {
            "application/vnd.google.colaboratory.intrinsic+json": {
              "summary": "{\n  \"name\": \"Employee\",\n  \"rows\": 8,\n  \"fields\": [\n    {\n      \"column\": \"no_of_trainings\",\n      \"properties\": {\n        \"dtype\": \"number\",\n        \"std\": 17203.10737815828,\n        \"min\": 0.6049939902422696,\n        \"max\": 48660.0,\n        \"num_unique_values\": 5,\n        \"samples\": [\n          1.251993423756679,\n          10.0,\n          0.6049939902422696\n        ],\n        \"semantic_type\": \"\",\n        \"description\": \"\"\n      }\n    },\n    {\n      \"column\": \"age\",\n      \"properties\": {\n        \"dtype\": \"number\",\n        \"std\": 17192.493629127006,\n        \"min\": 7.534571015323289,\n        \"max\": 48660.0,\n        \"num_unique_values\": 8,\n        \"samples\": [\n          35.58943690916564,\n          34.0,\n          48660.0\n        ],\n        \"semantic_type\": \"\",\n        \"description\": \"\"\n      }\n    },\n    {\n      \"column\": \"previous_year_rating\",\n      \"properties\": {\n        \"dtype\": \"number\",\n        \"std\": 17202.867809401723,\n        \"min\": 1.0,\n        \"max\": 48660.0,\n        \"num_unique_values\": 7,\n        \"samples\": [\n          48660.0,\n          3.3375256884504725,\n          4.0\n        ],\n        \"semantic_type\": \"\",\n        \"description\": \"\"\n      }\n    },\n    {\n      \"column\": \"length_of_service\",\n      \"properties\": {\n        \"dtype\": \"number\",\n        \"std\": 17200.653285229004,\n        \"min\": 1.0,\n        \"max\": 48660.0,\n        \"num_unique_values\": 8,\n        \"samples\": [\n          6.311570078092889,\n          5.0,\n          48660.0\n        ],\n        \"semantic_type\": \"\",\n        \"description\": \"\"\n      }\n    },\n    {\n      \"column\": \"avg_training_score\",\n      \"properties\": {\n        \"dtype\": \"number\",\n        \"std\": 17183.62863326718,\n        \"min\": 13.273502102279897,\n        \"max\": 48660.0,\n        \"num_unique_values\": 8,\n        \"samples\": [\n          63.60330867242088,\n          60.0,\n          48660.0\n        ],\n        \"semantic_type\": \"\",\n        \"description\": \"\"\n      }\n    }\n  ]\n}",
              "type": "dataframe"
            },
            "text/html": [
              "\n",
              "  <div id=\"df-c6523326-7f8f-4e8a-bc3a-d06d4bc0f5f7\" class=\"colab-df-container\">\n",
              "    <div>\n",
              "<style scoped>\n",
              "    .dataframe tbody tr th:only-of-type {\n",
              "        vertical-align: middle;\n",
              "    }\n",
              "\n",
              "    .dataframe tbody tr th {\n",
              "        vertical-align: top;\n",
              "    }\n",
              "\n",
              "    .dataframe thead th {\n",
              "        text-align: right;\n",
              "    }\n",
              "</style>\n",
              "<table border=\"1\" class=\"dataframe\">\n",
              "  <thead>\n",
              "    <tr style=\"text-align: right;\">\n",
              "      <th></th>\n",
              "      <th>no_of_trainings</th>\n",
              "      <th>age</th>\n",
              "      <th>previous_year_rating</th>\n",
              "      <th>length_of_service</th>\n",
              "      <th>avg_training_score</th>\n",
              "    </tr>\n",
              "  </thead>\n",
              "  <tbody>\n",
              "    <tr>\n",
              "      <th>count</th>\n",
              "      <td>48660.000000</td>\n",
              "      <td>48660.000000</td>\n",
              "      <td>48660.000000</td>\n",
              "      <td>48660.00000</td>\n",
              "      <td>48660.000000</td>\n",
              "    </tr>\n",
              "    <tr>\n",
              "      <th>mean</th>\n",
              "      <td>1.251993</td>\n",
              "      <td>35.589437</td>\n",
              "      <td>3.337526</td>\n",
              "      <td>6.31157</td>\n",
              "      <td>63.603309</td>\n",
              "    </tr>\n",
              "    <tr>\n",
              "      <th>std</th>\n",
              "      <td>0.604994</td>\n",
              "      <td>7.534571</td>\n",
              "      <td>1.257922</td>\n",
              "      <td>4.20476</td>\n",
              "      <td>13.273502</td>\n",
              "    </tr>\n",
              "    <tr>\n",
              "      <th>min</th>\n",
              "      <td>1.000000</td>\n",
              "      <td>20.000000</td>\n",
              "      <td>1.000000</td>\n",
              "      <td>1.00000</td>\n",
              "      <td>39.000000</td>\n",
              "    </tr>\n",
              "    <tr>\n",
              "      <th>25%</th>\n",
              "      <td>1.000000</td>\n",
              "      <td>30.000000</td>\n",
              "      <td>3.000000</td>\n",
              "      <td>3.00000</td>\n",
              "      <td>51.000000</td>\n",
              "    </tr>\n",
              "    <tr>\n",
              "      <th>50%</th>\n",
              "      <td>1.000000</td>\n",
              "      <td>34.000000</td>\n",
              "      <td>3.000000</td>\n",
              "      <td>5.00000</td>\n",
              "      <td>60.000000</td>\n",
              "    </tr>\n",
              "    <tr>\n",
              "      <th>75%</th>\n",
              "      <td>1.000000</td>\n",
              "      <td>39.000000</td>\n",
              "      <td>4.000000</td>\n",
              "      <td>8.00000</td>\n",
              "      <td>76.000000</td>\n",
              "    </tr>\n",
              "    <tr>\n",
              "      <th>max</th>\n",
              "      <td>10.000000</td>\n",
              "      <td>60.000000</td>\n",
              "      <td>5.000000</td>\n",
              "      <td>37.00000</td>\n",
              "      <td>99.000000</td>\n",
              "    </tr>\n",
              "  </tbody>\n",
              "</table>\n",
              "</div>\n",
              "    <div class=\"colab-df-buttons\">\n",
              "\n",
              "  <div class=\"colab-df-container\">\n",
              "    <button class=\"colab-df-convert\" onclick=\"convertToInteractive('df-c6523326-7f8f-4e8a-bc3a-d06d4bc0f5f7')\"\n",
              "            title=\"Convert this dataframe to an interactive table.\"\n",
              "            style=\"display:none;\">\n",
              "\n",
              "  <svg xmlns=\"http://www.w3.org/2000/svg\" height=\"24px\" viewBox=\"0 -960 960 960\">\n",
              "    <path d=\"M120-120v-720h720v720H120Zm60-500h600v-160H180v160Zm220 220h160v-160H400v160Zm0 220h160v-160H400v160ZM180-400h160v-160H180v160Zm440 0h160v-160H620v160ZM180-180h160v-160H180v160Zm440 0h160v-160H620v160Z\"/>\n",
              "  </svg>\n",
              "    </button>\n",
              "\n",
              "  <style>\n",
              "    .colab-df-container {\n",
              "      display:flex;\n",
              "      gap: 12px;\n",
              "    }\n",
              "\n",
              "    .colab-df-convert {\n",
              "      background-color: #E8F0FE;\n",
              "      border: none;\n",
              "      border-radius: 50%;\n",
              "      cursor: pointer;\n",
              "      display: none;\n",
              "      fill: #1967D2;\n",
              "      height: 32px;\n",
              "      padding: 0 0 0 0;\n",
              "      width: 32px;\n",
              "    }\n",
              "\n",
              "    .colab-df-convert:hover {\n",
              "      background-color: #E2EBFA;\n",
              "      box-shadow: 0px 1px 2px rgba(60, 64, 67, 0.3), 0px 1px 3px 1px rgba(60, 64, 67, 0.15);\n",
              "      fill: #174EA6;\n",
              "    }\n",
              "\n",
              "    .colab-df-buttons div {\n",
              "      margin-bottom: 4px;\n",
              "    }\n",
              "\n",
              "    [theme=dark] .colab-df-convert {\n",
              "      background-color: #3B4455;\n",
              "      fill: #D2E3FC;\n",
              "    }\n",
              "\n",
              "    [theme=dark] .colab-df-convert:hover {\n",
              "      background-color: #434B5C;\n",
              "      box-shadow: 0px 1px 3px 1px rgba(0, 0, 0, 0.15);\n",
              "      filter: drop-shadow(0px 1px 2px rgba(0, 0, 0, 0.3));\n",
              "      fill: #FFFFFF;\n",
              "    }\n",
              "  </style>\n",
              "\n",
              "    <script>\n",
              "      const buttonEl =\n",
              "        document.querySelector('#df-c6523326-7f8f-4e8a-bc3a-d06d4bc0f5f7 button.colab-df-convert');\n",
              "      buttonEl.style.display =\n",
              "        google.colab.kernel.accessAllowed ? 'block' : 'none';\n",
              "\n",
              "      async function convertToInteractive(key) {\n",
              "        const element = document.querySelector('#df-c6523326-7f8f-4e8a-bc3a-d06d4bc0f5f7');\n",
              "        const dataTable =\n",
              "          await google.colab.kernel.invokeFunction('convertToInteractive',\n",
              "                                                    [key], {});\n",
              "        if (!dataTable) return;\n",
              "\n",
              "        const docLinkHtml = 'Like what you see? Visit the ' +\n",
              "          '<a target=\"_blank\" href=https://colab.research.google.com/notebooks/data_table.ipynb>data table notebook</a>'\n",
              "          + ' to learn more about interactive tables.';\n",
              "        element.innerHTML = '';\n",
              "        dataTable['output_type'] = 'display_data';\n",
              "        await google.colab.output.renderOutput(dataTable, element);\n",
              "        const docLink = document.createElement('div');\n",
              "        docLink.innerHTML = docLinkHtml;\n",
              "        element.appendChild(docLink);\n",
              "      }\n",
              "    </script>\n",
              "  </div>\n",
              "\n",
              "\n",
              "<div id=\"df-e1b658a1-e401-4851-966e-087dd2f3f83b\">\n",
              "  <button class=\"colab-df-quickchart\" onclick=\"quickchart('df-e1b658a1-e401-4851-966e-087dd2f3f83b')\"\n",
              "            title=\"Suggest charts\"\n",
              "            style=\"display:none;\">\n",
              "\n",
              "<svg xmlns=\"http://www.w3.org/2000/svg\" height=\"24px\"viewBox=\"0 0 24 24\"\n",
              "     width=\"24px\">\n",
              "    <g>\n",
              "        <path d=\"M19 3H5c-1.1 0-2 .9-2 2v14c0 1.1.9 2 2 2h14c1.1 0 2-.9 2-2V5c0-1.1-.9-2-2-2zM9 17H7v-7h2v7zm4 0h-2V7h2v10zm4 0h-2v-4h2v4z\"/>\n",
              "    </g>\n",
              "</svg>\n",
              "  </button>\n",
              "\n",
              "<style>\n",
              "  .colab-df-quickchart {\n",
              "      --bg-color: #E8F0FE;\n",
              "      --fill-color: #1967D2;\n",
              "      --hover-bg-color: #E2EBFA;\n",
              "      --hover-fill-color: #174EA6;\n",
              "      --disabled-fill-color: #AAA;\n",
              "      --disabled-bg-color: #DDD;\n",
              "  }\n",
              "\n",
              "  [theme=dark] .colab-df-quickchart {\n",
              "      --bg-color: #3B4455;\n",
              "      --fill-color: #D2E3FC;\n",
              "      --hover-bg-color: #434B5C;\n",
              "      --hover-fill-color: #FFFFFF;\n",
              "      --disabled-bg-color: #3B4455;\n",
              "      --disabled-fill-color: #666;\n",
              "  }\n",
              "\n",
              "  .colab-df-quickchart {\n",
              "    background-color: var(--bg-color);\n",
              "    border: none;\n",
              "    border-radius: 50%;\n",
              "    cursor: pointer;\n",
              "    display: none;\n",
              "    fill: var(--fill-color);\n",
              "    height: 32px;\n",
              "    padding: 0;\n",
              "    width: 32px;\n",
              "  }\n",
              "\n",
              "  .colab-df-quickchart:hover {\n",
              "    background-color: var(--hover-bg-color);\n",
              "    box-shadow: 0 1px 2px rgba(60, 64, 67, 0.3), 0 1px 3px 1px rgba(60, 64, 67, 0.15);\n",
              "    fill: var(--button-hover-fill-color);\n",
              "  }\n",
              "\n",
              "  .colab-df-quickchart-complete:disabled,\n",
              "  .colab-df-quickchart-complete:disabled:hover {\n",
              "    background-color: var(--disabled-bg-color);\n",
              "    fill: var(--disabled-fill-color);\n",
              "    box-shadow: none;\n",
              "  }\n",
              "\n",
              "  .colab-df-spinner {\n",
              "    border: 2px solid var(--fill-color);\n",
              "    border-color: transparent;\n",
              "    border-bottom-color: var(--fill-color);\n",
              "    animation:\n",
              "      spin 1s steps(1) infinite;\n",
              "  }\n",
              "\n",
              "  @keyframes spin {\n",
              "    0% {\n",
              "      border-color: transparent;\n",
              "      border-bottom-color: var(--fill-color);\n",
              "      border-left-color: var(--fill-color);\n",
              "    }\n",
              "    20% {\n",
              "      border-color: transparent;\n",
              "      border-left-color: var(--fill-color);\n",
              "      border-top-color: var(--fill-color);\n",
              "    }\n",
              "    30% {\n",
              "      border-color: transparent;\n",
              "      border-left-color: var(--fill-color);\n",
              "      border-top-color: var(--fill-color);\n",
              "      border-right-color: var(--fill-color);\n",
              "    }\n",
              "    40% {\n",
              "      border-color: transparent;\n",
              "      border-right-color: var(--fill-color);\n",
              "      border-top-color: var(--fill-color);\n",
              "    }\n",
              "    60% {\n",
              "      border-color: transparent;\n",
              "      border-right-color: var(--fill-color);\n",
              "    }\n",
              "    80% {\n",
              "      border-color: transparent;\n",
              "      border-right-color: var(--fill-color);\n",
              "      border-bottom-color: var(--fill-color);\n",
              "    }\n",
              "    90% {\n",
              "      border-color: transparent;\n",
              "      border-bottom-color: var(--fill-color);\n",
              "    }\n",
              "  }\n",
              "</style>\n",
              "\n",
              "  <script>\n",
              "    async function quickchart(key) {\n",
              "      const quickchartButtonEl =\n",
              "        document.querySelector('#' + key + ' button');\n",
              "      quickchartButtonEl.disabled = true;  // To prevent multiple clicks.\n",
              "      quickchartButtonEl.classList.add('colab-df-spinner');\n",
              "      try {\n",
              "        const charts = await google.colab.kernel.invokeFunction(\n",
              "            'suggestCharts', [key], {});\n",
              "      } catch (error) {\n",
              "        console.error('Error during call to suggestCharts:', error);\n",
              "      }\n",
              "      quickchartButtonEl.classList.remove('colab-df-spinner');\n",
              "      quickchartButtonEl.classList.add('colab-df-quickchart-complete');\n",
              "    }\n",
              "    (() => {\n",
              "      let quickchartButtonEl =\n",
              "        document.querySelector('#df-e1b658a1-e401-4851-966e-087dd2f3f83b button');\n",
              "      quickchartButtonEl.style.display =\n",
              "        google.colab.kernel.accessAllowed ? 'block' : 'none';\n",
              "    })();\n",
              "  </script>\n",
              "</div>\n",
              "\n",
              "    </div>\n",
              "  </div>\n"
            ],
            "text/plain": [
              "       no_of_trainings           age  previous_year_rating  length_of_service  \\\n",
              "count     48660.000000  48660.000000          48660.000000        48660.00000   \n",
              "mean          1.251993     35.589437              3.337526            6.31157   \n",
              "std           0.604994      7.534571              1.257922            4.20476   \n",
              "min           1.000000     20.000000              1.000000            1.00000   \n",
              "25%           1.000000     30.000000              3.000000            3.00000   \n",
              "50%           1.000000     34.000000              3.000000            5.00000   \n",
              "75%           1.000000     39.000000              4.000000            8.00000   \n",
              "max          10.000000     60.000000              5.000000           37.00000   \n",
              "\n",
              "       avg_training_score  \n",
              "count        48660.000000  \n",
              "mean            63.603309  \n",
              "std             13.273502  \n",
              "min             39.000000  \n",
              "25%             51.000000  \n",
              "50%             60.000000  \n",
              "75%             76.000000  \n",
              "max             99.000000  "
            ]
          },
          "execution_count": 13,
          "metadata": {},
          "output_type": "execute_result"
        }
      ],
      "source": [
        "#หาค่าสถิติเบื้องต้น\n",
        "Employee.describe()"
      ]
    },
    {
      "cell_type": "code",
      "execution_count": null,
      "metadata": {
        "colab": {
          "base_uri": "https://localhost:8080/",
          "height": 530
        },
        "id": "CWgZJd3pHAfW",
        "outputId": "0d18f795-4dee-49ea-e7d5-7abbcff8f625"
      },
      "outputs": [
        {
          "data": {
            "application/vnd.google.colaboratory.intrinsic+json": {
              "summary": "{\n  \"name\": \"Employee\",\n  \"rows\": 48660,\n  \"fields\": [\n    {\n      \"column\": \"employee_id\",\n      \"properties\": {\n        \"dtype\": \"category\",\n        \"num_unique_values\": 48660,\n        \"samples\": [\n          58074,\n          28350,\n          58992\n        ],\n        \"semantic_type\": \"\",\n        \"description\": \"\"\n      }\n    },\n    {\n      \"column\": \"department\",\n      \"properties\": {\n        \"dtype\": \"category\",\n        \"num_unique_values\": 9,\n        \"samples\": [\n          \"HR\",\n          \"Operations\",\n          \"Procurement\"\n        ],\n        \"semantic_type\": \"\",\n        \"description\": \"\"\n      }\n    },\n    {\n      \"column\": \"region\",\n      \"properties\": {\n        \"dtype\": \"category\",\n        \"num_unique_values\": 34,\n        \"samples\": [\n          \"region_5\",\n          \"region_16\",\n          \"region_6\"\n        ],\n        \"semantic_type\": \"\",\n        \"description\": \"\"\n      }\n    },\n    {\n      \"column\": \"education\",\n      \"properties\": {\n        \"dtype\": \"category\",\n        \"num_unique_values\": 3,\n        \"samples\": [\n          \"Master's & above\",\n          \"Bachelor's\",\n          \"Below Secondary\"\n        ],\n        \"semantic_type\": \"\",\n        \"description\": \"\"\n      }\n    },\n    {\n      \"column\": \"gender\",\n      \"properties\": {\n        \"dtype\": \"category\",\n        \"num_unique_values\": 2,\n        \"samples\": [\n          \"m\",\n          \"f\"\n        ],\n        \"semantic_type\": \"\",\n        \"description\": \"\"\n      }\n    },\n    {\n      \"column\": \"recruitment_channel\",\n      \"properties\": {\n        \"dtype\": \"category\",\n        \"num_unique_values\": 3,\n        \"samples\": [\n          \"sourcing\",\n          \"other\"\n        ],\n        \"semantic_type\": \"\",\n        \"description\": \"\"\n      }\n    },\n    {\n      \"column\": \"no_of_trainings\",\n      \"properties\": {\n        \"dtype\": \"number\",\n        \"std\": 0,\n        \"min\": 1,\n        \"max\": 10,\n        \"num_unique_values\": 10,\n        \"samples\": [\n          8,\n          2\n        ],\n        \"semantic_type\": \"\",\n        \"description\": \"\"\n      }\n    },\n    {\n      \"column\": \"age\",\n      \"properties\": {\n        \"dtype\": \"number\",\n        \"std\": 7,\n        \"min\": 20,\n        \"max\": 60,\n        \"num_unique_values\": 41,\n        \"samples\": [\n          25,\n          29\n        ],\n        \"semantic_type\": \"\",\n        \"description\": \"\"\n      }\n    },\n    {\n      \"column\": \"previous_year_rating\",\n      \"properties\": {\n        \"dtype\": \"number\",\n        \"std\": 1,\n        \"min\": 1,\n        \"max\": 5,\n        \"num_unique_values\": 5,\n        \"samples\": [\n          3,\n          2\n        ],\n        \"semantic_type\": \"\",\n        \"description\": \"\"\n      }\n    },\n    {\n      \"column\": \"length_of_service\",\n      \"properties\": {\n        \"dtype\": \"number\",\n        \"std\": 4,\n        \"min\": 1,\n        \"max\": 37,\n        \"num_unique_values\": 35,\n        \"samples\": [\n          31,\n          17\n        ],\n        \"semantic_type\": \"\",\n        \"description\": \"\"\n      }\n    },\n    {\n      \"column\": \"awards_won?\",\n      \"properties\": {\n        \"dtype\": \"category\",\n        \"num_unique_values\": 2,\n        \"samples\": [\n          1,\n          0\n        ],\n        \"semantic_type\": \"\",\n        \"description\": \"\"\n      }\n    },\n    {\n      \"column\": \"avg_training_score\",\n      \"properties\": {\n        \"dtype\": \"number\",\n        \"std\": 13,\n        \"min\": 39,\n        \"max\": 99,\n        \"num_unique_values\": 61,\n        \"samples\": [\n          49,\n          59\n        ],\n        \"semantic_type\": \"\",\n        \"description\": \"\"\n      }\n    },\n    {\n      \"column\": \"is_promoted\",\n      \"properties\": {\n        \"dtype\": \"category\",\n        \"num_unique_values\": 2,\n        \"samples\": [\n          1,\n          0\n        ],\n        \"semantic_type\": \"\",\n        \"description\": \"\"\n      }\n    }\n  ]\n}",
              "type": "dataframe",
              "variable_name": "Employee"
            },
            "text/html": [
              "\n",
              "  <div id=\"df-effde6a6-4973-4515-8f43-1c9fd59e7289\" class=\"colab-df-container\">\n",
              "    <div>\n",
              "<style scoped>\n",
              "    .dataframe tbody tr th:only-of-type {\n",
              "        vertical-align: middle;\n",
              "    }\n",
              "\n",
              "    .dataframe tbody tr th {\n",
              "        vertical-align: top;\n",
              "    }\n",
              "\n",
              "    .dataframe thead th {\n",
              "        text-align: right;\n",
              "    }\n",
              "</style>\n",
              "<table border=\"1\" class=\"dataframe\">\n",
              "  <thead>\n",
              "    <tr style=\"text-align: right;\">\n",
              "      <th></th>\n",
              "      <th>employee_id</th>\n",
              "      <th>department</th>\n",
              "      <th>region</th>\n",
              "      <th>education</th>\n",
              "      <th>gender</th>\n",
              "      <th>recruitment_channel</th>\n",
              "      <th>no_of_trainings</th>\n",
              "      <th>age</th>\n",
              "      <th>previous_year_rating</th>\n",
              "      <th>length_of_service</th>\n",
              "      <th>awards_won?</th>\n",
              "      <th>avg_training_score</th>\n",
              "      <th>is_promoted</th>\n",
              "    </tr>\n",
              "  </thead>\n",
              "  <tbody>\n",
              "    <tr>\n",
              "      <th>0</th>\n",
              "      <td>65438</td>\n",
              "      <td>Sales &amp; Marketing</td>\n",
              "      <td>region_7</td>\n",
              "      <td>Master's &amp; above</td>\n",
              "      <td>f</td>\n",
              "      <td>sourcing</td>\n",
              "      <td>1</td>\n",
              "      <td>35</td>\n",
              "      <td>5</td>\n",
              "      <td>8</td>\n",
              "      <td>0</td>\n",
              "      <td>49</td>\n",
              "      <td>0</td>\n",
              "    </tr>\n",
              "    <tr>\n",
              "      <th>1</th>\n",
              "      <td>65141</td>\n",
              "      <td>Operations</td>\n",
              "      <td>region_22</td>\n",
              "      <td>Bachelor's</td>\n",
              "      <td>m</td>\n",
              "      <td>other</td>\n",
              "      <td>1</td>\n",
              "      <td>30</td>\n",
              "      <td>5</td>\n",
              "      <td>4</td>\n",
              "      <td>0</td>\n",
              "      <td>60</td>\n",
              "      <td>0</td>\n",
              "    </tr>\n",
              "    <tr>\n",
              "      <th>2</th>\n",
              "      <td>7513</td>\n",
              "      <td>Sales &amp; Marketing</td>\n",
              "      <td>region_19</td>\n",
              "      <td>Bachelor's</td>\n",
              "      <td>m</td>\n",
              "      <td>sourcing</td>\n",
              "      <td>1</td>\n",
              "      <td>34</td>\n",
              "      <td>3</td>\n",
              "      <td>7</td>\n",
              "      <td>0</td>\n",
              "      <td>50</td>\n",
              "      <td>0</td>\n",
              "    </tr>\n",
              "    <tr>\n",
              "      <th>3</th>\n",
              "      <td>2542</td>\n",
              "      <td>Sales &amp; Marketing</td>\n",
              "      <td>region_23</td>\n",
              "      <td>Bachelor's</td>\n",
              "      <td>m</td>\n",
              "      <td>other</td>\n",
              "      <td>2</td>\n",
              "      <td>39</td>\n",
              "      <td>1</td>\n",
              "      <td>10</td>\n",
              "      <td>0</td>\n",
              "      <td>50</td>\n",
              "      <td>0</td>\n",
              "    </tr>\n",
              "    <tr>\n",
              "      <th>4</th>\n",
              "      <td>48945</td>\n",
              "      <td>Technology</td>\n",
              "      <td>region_26</td>\n",
              "      <td>Bachelor's</td>\n",
              "      <td>m</td>\n",
              "      <td>other</td>\n",
              "      <td>1</td>\n",
              "      <td>45</td>\n",
              "      <td>3</td>\n",
              "      <td>2</td>\n",
              "      <td>0</td>\n",
              "      <td>73</td>\n",
              "      <td>0</td>\n",
              "    </tr>\n",
              "    <tr>\n",
              "      <th>...</th>\n",
              "      <td>...</td>\n",
              "      <td>...</td>\n",
              "      <td>...</td>\n",
              "      <td>...</td>\n",
              "      <td>...</td>\n",
              "      <td>...</td>\n",
              "      <td>...</td>\n",
              "      <td>...</td>\n",
              "      <td>...</td>\n",
              "      <td>...</td>\n",
              "      <td>...</td>\n",
              "      <td>...</td>\n",
              "      <td>...</td>\n",
              "    </tr>\n",
              "    <tr>\n",
              "      <th>48655</th>\n",
              "      <td>6915</td>\n",
              "      <td>Sales &amp; Marketing</td>\n",
              "      <td>region_14</td>\n",
              "      <td>Bachelor's</td>\n",
              "      <td>m</td>\n",
              "      <td>other</td>\n",
              "      <td>2</td>\n",
              "      <td>31</td>\n",
              "      <td>1</td>\n",
              "      <td>2</td>\n",
              "      <td>0</td>\n",
              "      <td>49</td>\n",
              "      <td>0</td>\n",
              "    </tr>\n",
              "    <tr>\n",
              "      <th>48656</th>\n",
              "      <td>3030</td>\n",
              "      <td>Technology</td>\n",
              "      <td>region_14</td>\n",
              "      <td>Bachelor's</td>\n",
              "      <td>m</td>\n",
              "      <td>sourcing</td>\n",
              "      <td>1</td>\n",
              "      <td>48</td>\n",
              "      <td>3</td>\n",
              "      <td>17</td>\n",
              "      <td>0</td>\n",
              "      <td>78</td>\n",
              "      <td>0</td>\n",
              "    </tr>\n",
              "    <tr>\n",
              "      <th>48657</th>\n",
              "      <td>74592</td>\n",
              "      <td>Operations</td>\n",
              "      <td>region_27</td>\n",
              "      <td>Master's &amp; above</td>\n",
              "      <td>f</td>\n",
              "      <td>other</td>\n",
              "      <td>1</td>\n",
              "      <td>37</td>\n",
              "      <td>2</td>\n",
              "      <td>6</td>\n",
              "      <td>0</td>\n",
              "      <td>56</td>\n",
              "      <td>0</td>\n",
              "    </tr>\n",
              "    <tr>\n",
              "      <th>48658</th>\n",
              "      <td>13918</td>\n",
              "      <td>Analytics</td>\n",
              "      <td>region_1</td>\n",
              "      <td>Bachelor's</td>\n",
              "      <td>m</td>\n",
              "      <td>other</td>\n",
              "      <td>1</td>\n",
              "      <td>27</td>\n",
              "      <td>5</td>\n",
              "      <td>3</td>\n",
              "      <td>0</td>\n",
              "      <td>79</td>\n",
              "      <td>0</td>\n",
              "    </tr>\n",
              "    <tr>\n",
              "      <th>48659</th>\n",
              "      <td>51526</td>\n",
              "      <td>HR</td>\n",
              "      <td>region_22</td>\n",
              "      <td>Bachelor's</td>\n",
              "      <td>m</td>\n",
              "      <td>other</td>\n",
              "      <td>1</td>\n",
              "      <td>27</td>\n",
              "      <td>1</td>\n",
              "      <td>5</td>\n",
              "      <td>0</td>\n",
              "      <td>49</td>\n",
              "      <td>0</td>\n",
              "    </tr>\n",
              "  </tbody>\n",
              "</table>\n",
              "<p>48660 rows × 13 columns</p>\n",
              "</div>\n",
              "    <div class=\"colab-df-buttons\">\n",
              "\n",
              "  <div class=\"colab-df-container\">\n",
              "    <button class=\"colab-df-convert\" onclick=\"convertToInteractive('df-effde6a6-4973-4515-8f43-1c9fd59e7289')\"\n",
              "            title=\"Convert this dataframe to an interactive table.\"\n",
              "            style=\"display:none;\">\n",
              "\n",
              "  <svg xmlns=\"http://www.w3.org/2000/svg\" height=\"24px\" viewBox=\"0 -960 960 960\">\n",
              "    <path d=\"M120-120v-720h720v720H120Zm60-500h600v-160H180v160Zm220 220h160v-160H400v160Zm0 220h160v-160H400v160ZM180-400h160v-160H180v160Zm440 0h160v-160H620v160ZM180-180h160v-160H180v160Zm440 0h160v-160H620v160Z\"/>\n",
              "  </svg>\n",
              "    </button>\n",
              "\n",
              "  <style>\n",
              "    .colab-df-container {\n",
              "      display:flex;\n",
              "      gap: 12px;\n",
              "    }\n",
              "\n",
              "    .colab-df-convert {\n",
              "      background-color: #E8F0FE;\n",
              "      border: none;\n",
              "      border-radius: 50%;\n",
              "      cursor: pointer;\n",
              "      display: none;\n",
              "      fill: #1967D2;\n",
              "      height: 32px;\n",
              "      padding: 0 0 0 0;\n",
              "      width: 32px;\n",
              "    }\n",
              "\n",
              "    .colab-df-convert:hover {\n",
              "      background-color: #E2EBFA;\n",
              "      box-shadow: 0px 1px 2px rgba(60, 64, 67, 0.3), 0px 1px 3px 1px rgba(60, 64, 67, 0.15);\n",
              "      fill: #174EA6;\n",
              "    }\n",
              "\n",
              "    .colab-df-buttons div {\n",
              "      margin-bottom: 4px;\n",
              "    }\n",
              "\n",
              "    [theme=dark] .colab-df-convert {\n",
              "      background-color: #3B4455;\n",
              "      fill: #D2E3FC;\n",
              "    }\n",
              "\n",
              "    [theme=dark] .colab-df-convert:hover {\n",
              "      background-color: #434B5C;\n",
              "      box-shadow: 0px 1px 3px 1px rgba(0, 0, 0, 0.15);\n",
              "      filter: drop-shadow(0px 1px 2px rgba(0, 0, 0, 0.3));\n",
              "      fill: #FFFFFF;\n",
              "    }\n",
              "  </style>\n",
              "\n",
              "    <script>\n",
              "      const buttonEl =\n",
              "        document.querySelector('#df-effde6a6-4973-4515-8f43-1c9fd59e7289 button.colab-df-convert');\n",
              "      buttonEl.style.display =\n",
              "        google.colab.kernel.accessAllowed ? 'block' : 'none';\n",
              "\n",
              "      async function convertToInteractive(key) {\n",
              "        const element = document.querySelector('#df-effde6a6-4973-4515-8f43-1c9fd59e7289');\n",
              "        const dataTable =\n",
              "          await google.colab.kernel.invokeFunction('convertToInteractive',\n",
              "                                                    [key], {});\n",
              "        if (!dataTable) return;\n",
              "\n",
              "        const docLinkHtml = 'Like what you see? Visit the ' +\n",
              "          '<a target=\"_blank\" href=https://colab.research.google.com/notebooks/data_table.ipynb>data table notebook</a>'\n",
              "          + ' to learn more about interactive tables.';\n",
              "        element.innerHTML = '';\n",
              "        dataTable['output_type'] = 'display_data';\n",
              "        await google.colab.output.renderOutput(dataTable, element);\n",
              "        const docLink = document.createElement('div');\n",
              "        docLink.innerHTML = docLinkHtml;\n",
              "        element.appendChild(docLink);\n",
              "      }\n",
              "    </script>\n",
              "  </div>\n",
              "\n",
              "\n",
              "<div id=\"df-d7937ade-594e-4679-8ecc-c177d3333b4e\">\n",
              "  <button class=\"colab-df-quickchart\" onclick=\"quickchart('df-d7937ade-594e-4679-8ecc-c177d3333b4e')\"\n",
              "            title=\"Suggest charts\"\n",
              "            style=\"display:none;\">\n",
              "\n",
              "<svg xmlns=\"http://www.w3.org/2000/svg\" height=\"24px\"viewBox=\"0 0 24 24\"\n",
              "     width=\"24px\">\n",
              "    <g>\n",
              "        <path d=\"M19 3H5c-1.1 0-2 .9-2 2v14c0 1.1.9 2 2 2h14c1.1 0 2-.9 2-2V5c0-1.1-.9-2-2-2zM9 17H7v-7h2v7zm4 0h-2V7h2v10zm4 0h-2v-4h2v4z\"/>\n",
              "    </g>\n",
              "</svg>\n",
              "  </button>\n",
              "\n",
              "<style>\n",
              "  .colab-df-quickchart {\n",
              "      --bg-color: #E8F0FE;\n",
              "      --fill-color: #1967D2;\n",
              "      --hover-bg-color: #E2EBFA;\n",
              "      --hover-fill-color: #174EA6;\n",
              "      --disabled-fill-color: #AAA;\n",
              "      --disabled-bg-color: #DDD;\n",
              "  }\n",
              "\n",
              "  [theme=dark] .colab-df-quickchart {\n",
              "      --bg-color: #3B4455;\n",
              "      --fill-color: #D2E3FC;\n",
              "      --hover-bg-color: #434B5C;\n",
              "      --hover-fill-color: #FFFFFF;\n",
              "      --disabled-bg-color: #3B4455;\n",
              "      --disabled-fill-color: #666;\n",
              "  }\n",
              "\n",
              "  .colab-df-quickchart {\n",
              "    background-color: var(--bg-color);\n",
              "    border: none;\n",
              "    border-radius: 50%;\n",
              "    cursor: pointer;\n",
              "    display: none;\n",
              "    fill: var(--fill-color);\n",
              "    height: 32px;\n",
              "    padding: 0;\n",
              "    width: 32px;\n",
              "  }\n",
              "\n",
              "  .colab-df-quickchart:hover {\n",
              "    background-color: var(--hover-bg-color);\n",
              "    box-shadow: 0 1px 2px rgba(60, 64, 67, 0.3), 0 1px 3px 1px rgba(60, 64, 67, 0.15);\n",
              "    fill: var(--button-hover-fill-color);\n",
              "  }\n",
              "\n",
              "  .colab-df-quickchart-complete:disabled,\n",
              "  .colab-df-quickchart-complete:disabled:hover {\n",
              "    background-color: var(--disabled-bg-color);\n",
              "    fill: var(--disabled-fill-color);\n",
              "    box-shadow: none;\n",
              "  }\n",
              "\n",
              "  .colab-df-spinner {\n",
              "    border: 2px solid var(--fill-color);\n",
              "    border-color: transparent;\n",
              "    border-bottom-color: var(--fill-color);\n",
              "    animation:\n",
              "      spin 1s steps(1) infinite;\n",
              "  }\n",
              "\n",
              "  @keyframes spin {\n",
              "    0% {\n",
              "      border-color: transparent;\n",
              "      border-bottom-color: var(--fill-color);\n",
              "      border-left-color: var(--fill-color);\n",
              "    }\n",
              "    20% {\n",
              "      border-color: transparent;\n",
              "      border-left-color: var(--fill-color);\n",
              "      border-top-color: var(--fill-color);\n",
              "    }\n",
              "    30% {\n",
              "      border-color: transparent;\n",
              "      border-left-color: var(--fill-color);\n",
              "      border-top-color: var(--fill-color);\n",
              "      border-right-color: var(--fill-color);\n",
              "    }\n",
              "    40% {\n",
              "      border-color: transparent;\n",
              "      border-right-color: var(--fill-color);\n",
              "      border-top-color: var(--fill-color);\n",
              "    }\n",
              "    60% {\n",
              "      border-color: transparent;\n",
              "      border-right-color: var(--fill-color);\n",
              "    }\n",
              "    80% {\n",
              "      border-color: transparent;\n",
              "      border-right-color: var(--fill-color);\n",
              "      border-bottom-color: var(--fill-color);\n",
              "    }\n",
              "    90% {\n",
              "      border-color: transparent;\n",
              "      border-bottom-color: var(--fill-color);\n",
              "    }\n",
              "  }\n",
              "</style>\n",
              "\n",
              "  <script>\n",
              "    async function quickchart(key) {\n",
              "      const quickchartButtonEl =\n",
              "        document.querySelector('#' + key + ' button');\n",
              "      quickchartButtonEl.disabled = true;  // To prevent multiple clicks.\n",
              "      quickchartButtonEl.classList.add('colab-df-spinner');\n",
              "      try {\n",
              "        const charts = await google.colab.kernel.invokeFunction(\n",
              "            'suggestCharts', [key], {});\n",
              "      } catch (error) {\n",
              "        console.error('Error during call to suggestCharts:', error);\n",
              "      }\n",
              "      quickchartButtonEl.classList.remove('colab-df-spinner');\n",
              "      quickchartButtonEl.classList.add('colab-df-quickchart-complete');\n",
              "    }\n",
              "    (() => {\n",
              "      let quickchartButtonEl =\n",
              "        document.querySelector('#df-d7937ade-594e-4679-8ecc-c177d3333b4e button');\n",
              "      quickchartButtonEl.style.display =\n",
              "        google.colab.kernel.accessAllowed ? 'block' : 'none';\n",
              "    })();\n",
              "  </script>\n",
              "</div>\n",
              "\n",
              "  <div id=\"id_4aac680a-391f-4879-b295-52b0703d0665\">\n",
              "    <style>\n",
              "      .colab-df-generate {\n",
              "        background-color: #E8F0FE;\n",
              "        border: none;\n",
              "        border-radius: 50%;\n",
              "        cursor: pointer;\n",
              "        display: none;\n",
              "        fill: #1967D2;\n",
              "        height: 32px;\n",
              "        padding: 0 0 0 0;\n",
              "        width: 32px;\n",
              "      }\n",
              "\n",
              "      .colab-df-generate:hover {\n",
              "        background-color: #E2EBFA;\n",
              "        box-shadow: 0px 1px 2px rgba(60, 64, 67, 0.3), 0px 1px 3px 1px rgba(60, 64, 67, 0.15);\n",
              "        fill: #174EA6;\n",
              "      }\n",
              "\n",
              "      [theme=dark] .colab-df-generate {\n",
              "        background-color: #3B4455;\n",
              "        fill: #D2E3FC;\n",
              "      }\n",
              "\n",
              "      [theme=dark] .colab-df-generate:hover {\n",
              "        background-color: #434B5C;\n",
              "        box-shadow: 0px 1px 3px 1px rgba(0, 0, 0, 0.15);\n",
              "        filter: drop-shadow(0px 1px 2px rgba(0, 0, 0, 0.3));\n",
              "        fill: #FFFFFF;\n",
              "      }\n",
              "    </style>\n",
              "    <button class=\"colab-df-generate\" onclick=\"generateWithVariable('Employee')\"\n",
              "            title=\"Generate code using this dataframe.\"\n",
              "            style=\"display:none;\">\n",
              "\n",
              "  <svg xmlns=\"http://www.w3.org/2000/svg\" height=\"24px\"viewBox=\"0 0 24 24\"\n",
              "       width=\"24px\">\n",
              "    <path d=\"M7,19H8.4L18.45,9,17,7.55,7,17.6ZM5,21V16.75L18.45,3.32a2,2,0,0,1,2.83,0l1.4,1.43a1.91,1.91,0,0,1,.58,1.4,1.91,1.91,0,0,1-.58,1.4L9.25,21ZM18.45,9,17,7.55Zm-12,3A5.31,5.31,0,0,0,4.9,8.1,5.31,5.31,0,0,0,1,6.5,5.31,5.31,0,0,0,4.9,4.9,5.31,5.31,0,0,0,6.5,1,5.31,5.31,0,0,0,8.1,4.9,5.31,5.31,0,0,0,12,6.5,5.46,5.46,0,0,0,6.5,12Z\"/>\n",
              "  </svg>\n",
              "    </button>\n",
              "    <script>\n",
              "      (() => {\n",
              "      const buttonEl =\n",
              "        document.querySelector('#id_4aac680a-391f-4879-b295-52b0703d0665 button.colab-df-generate');\n",
              "      buttonEl.style.display =\n",
              "        google.colab.kernel.accessAllowed ? 'block' : 'none';\n",
              "\n",
              "      buttonEl.onclick = () => {\n",
              "        google.colab.notebook.generateWithVariable('Employee');\n",
              "      }\n",
              "      })();\n",
              "    </script>\n",
              "  </div>\n",
              "\n",
              "    </div>\n",
              "  </div>\n"
            ],
            "text/plain": [
              "      employee_id         department     region         education gender  \\\n",
              "0           65438  Sales & Marketing   region_7  Master's & above      f   \n",
              "1           65141         Operations  region_22        Bachelor's      m   \n",
              "2            7513  Sales & Marketing  region_19        Bachelor's      m   \n",
              "3            2542  Sales & Marketing  region_23        Bachelor's      m   \n",
              "4           48945         Technology  region_26        Bachelor's      m   \n",
              "...           ...                ...        ...               ...    ...   \n",
              "48655        6915  Sales & Marketing  region_14        Bachelor's      m   \n",
              "48656        3030         Technology  region_14        Bachelor's      m   \n",
              "48657       74592         Operations  region_27  Master's & above      f   \n",
              "48658       13918          Analytics   region_1        Bachelor's      m   \n",
              "48659       51526                 HR  region_22        Bachelor's      m   \n",
              "\n",
              "      recruitment_channel  no_of_trainings  age  previous_year_rating  \\\n",
              "0                sourcing                1   35                     5   \n",
              "1                   other                1   30                     5   \n",
              "2                sourcing                1   34                     3   \n",
              "3                   other                2   39                     1   \n",
              "4                   other                1   45                     3   \n",
              "...                   ...              ...  ...                   ...   \n",
              "48655               other                2   31                     1   \n",
              "48656            sourcing                1   48                     3   \n",
              "48657               other                1   37                     2   \n",
              "48658               other                1   27                     5   \n",
              "48659               other                1   27                     1   \n",
              "\n",
              "       length_of_service awards_won?  avg_training_score is_promoted  \n",
              "0                      8           0                  49           0  \n",
              "1                      4           0                  60           0  \n",
              "2                      7           0                  50           0  \n",
              "3                     10           0                  50           0  \n",
              "4                      2           0                  73           0  \n",
              "...                  ...         ...                 ...         ...  \n",
              "48655                  2           0                  49           0  \n",
              "48656                 17           0                  78           0  \n",
              "48657                  6           0                  56           0  \n",
              "48658                  3           0                  79           0  \n",
              "48659                  5           0                  49           0  \n",
              "\n",
              "[48660 rows x 13 columns]"
            ]
          },
          "execution_count": 14,
          "metadata": {},
          "output_type": "execute_result"
        }
      ],
      "source": [
        "Employee"
      ]
    },
    {
      "cell_type": "code",
      "execution_count": null,
      "metadata": {
        "id": "b1tpOr1g48Rq"
      },
      "outputs": [],
      "source": [
        "# คำนวณเมทริกซ์ความสัมพันธ์\n",
        "corelation_matrix = Employee.corr().round(2)\n",
        "\n",
        "# เลือกคอลัมน์ที่เกี่ยวข้องกับตัวแปรเป้าหมาย (Y)\n",
        "target_correlation = corelation_matrix[['is_promoted']].sort_values(by='is_promoted', ascending=False)\n",
        "\n",
        "# เลือกเฉพาะคอลัมน์ที่มีค่าความสัมพันธ์สูงสุด 10 อันดับแรก\n",
        "top_10_correlation = target_correlation.head(31)\n",
        "\n",
        "# วาด heatmap\n",
        "plt.figure(figsize=(10, 8))\n",
        "sns.heatmap(top_10_correlation, annot=True, cmap='coolwarm', vmin=-1, vmax=1)\n",
        "plt.title('Correlation with is_promoted (Y)')\n",
        "plt.show()"
      ]
    },
    {
      "cell_type": "markdown",
      "metadata": {
        "id": "xxE3GT161zjs"
      },
      "source": [
        "# Encododer และ เริ่มเตรียมข้อมูลก่อนเข้าModel"
      ]
    },
    {
      "cell_type": "code",
      "execution_count": null,
      "metadata": {
        "id": "GH5Z333jczgf"
      },
      "outputs": [],
      "source": [
        "# แบ่ง X และ Y\n",
        "x = df_final.drop(columns=['is_promoted'])\n",
        "y = df_final['is_promoted']"
      ]
    },
    {
      "cell_type": "code",
      "execution_count": null,
      "metadata": {
        "id": "rRRkjb0ihNPK"
      },
      "outputs": [],
      "source": [
        "# Split data into training and testing sets\n",
        "\n",
        "# train 70 test 30\n",
        "x_train70, x_test30, y_train70, y_test30 = train_test_split(x, y, test_size=0.3, random_state=42)\n",
        "\n",
        "# train 80 test 20\n",
        "x_train80, x_test20, y_train80, y_test20 = train_test_split(x,y, test_size=0.2, random_state=42)\n"
      ]
    },
    {
      "cell_type": "code",
      "execution_count": null,
      "metadata": {
        "id": "hAVcAHk0hG3B"
      },
      "outputs": [],
      "source": [
        "# Handle data imbalance\n",
        "smote = SMOTE(random_state=42, k_neighbors=5)\n",
        "# 70 : 30\n",
        "x_train_smote70, y_train_smote70 = smote.fit_resample(x_train70, y_train70)\n",
        "x_test_smote70, y_test_smote70 = smote.fit_resample(x_test30, y_test30)\n",
        "# 80 : 20\n",
        "x_train_smote80, y_train_smote80 = smote.fit_resample(x_train80, y_train80)\n",
        "x_test_smote80, y_test_smote80 = smote.fit_resample(x_test20, y_test20)"
      ]
    },
    {
      "cell_type": "code",
      "execution_count": null,
      "metadata": {
        "colab": {
          "base_uri": "https://localhost:8080/"
        },
        "id": "3hSOZpPhOZxD",
        "outputId": "f8c1624e-f363-4438-e22a-526267f7e54c"
      },
      "outputs": [
        {
          "name": "stderr",
          "output_type": "stream",
          "text": [
            "/usr/local/lib/python3.11/dist-packages/sklearn/linear_model/_logistic.py:465: ConvergenceWarning: lbfgs failed to converge (status=1):\n",
            "STOP: TOTAL NO. of ITERATIONS REACHED LIMIT.\n",
            "\n",
            "Increase the number of iterations (max_iter) or scale the data as shown in:\n",
            "    https://scikit-learn.org/stable/modules/preprocessing.html\n",
            "Please also refer to the documentation for alternative solver options:\n",
            "    https://scikit-learn.org/stable/modules/linear_model.html#logistic-regression\n",
            "  n_iter_i = _check_optimize_result(\n",
            "/usr/local/lib/python3.11/dist-packages/sklearn/linear_model/_logistic.py:465: ConvergenceWarning: lbfgs failed to converge (status=1):\n",
            "STOP: TOTAL NO. of ITERATIONS REACHED LIMIT.\n",
            "\n",
            "Increase the number of iterations (max_iter) or scale the data as shown in:\n",
            "    https://scikit-learn.org/stable/modules/preprocessing.html\n",
            "Please also refer to the documentation for alternative solver options:\n",
            "    https://scikit-learn.org/stable/modules/linear_model.html#logistic-regression\n",
            "  n_iter_i = _check_optimize_result(\n",
            "/usr/local/lib/python3.11/dist-packages/sklearn/linear_model/_logistic.py:465: ConvergenceWarning: lbfgs failed to converge (status=1):\n",
            "STOP: TOTAL NO. of ITERATIONS REACHED LIMIT.\n",
            "\n",
            "Increase the number of iterations (max_iter) or scale the data as shown in:\n",
            "    https://scikit-learn.org/stable/modules/preprocessing.html\n",
            "Please also refer to the documentation for alternative solver options:\n",
            "    https://scikit-learn.org/stable/modules/linear_model.html#logistic-regression\n",
            "  n_iter_i = _check_optimize_result(\n",
            "/usr/local/lib/python3.11/dist-packages/sklearn/linear_model/_logistic.py:465: ConvergenceWarning: lbfgs failed to converge (status=1):\n",
            "STOP: TOTAL NO. of ITERATIONS REACHED LIMIT.\n",
            "\n",
            "Increase the number of iterations (max_iter) or scale the data as shown in:\n",
            "    https://scikit-learn.org/stable/modules/preprocessing.html\n",
            "Please also refer to the documentation for alternative solver options:\n",
            "    https://scikit-learn.org/stable/modules/linear_model.html#logistic-regression\n",
            "  n_iter_i = _check_optimize_result(\n",
            "/usr/local/lib/python3.11/dist-packages/sklearn/linear_model/_logistic.py:465: ConvergenceWarning: lbfgs failed to converge (status=1):\n",
            "STOP: TOTAL NO. of ITERATIONS REACHED LIMIT.\n",
            "\n",
            "Increase the number of iterations (max_iter) or scale the data as shown in:\n",
            "    https://scikit-learn.org/stable/modules/preprocessing.html\n",
            "Please also refer to the documentation for alternative solver options:\n",
            "    https://scikit-learn.org/stable/modules/linear_model.html#logistic-regression\n",
            "  n_iter_i = _check_optimize_result(\n",
            "/usr/local/lib/python3.11/dist-packages/sklearn/linear_model/_logistic.py:465: ConvergenceWarning: lbfgs failed to converge (status=1):\n",
            "STOP: TOTAL NO. of ITERATIONS REACHED LIMIT.\n",
            "\n",
            "Increase the number of iterations (max_iter) or scale the data as shown in:\n",
            "    https://scikit-learn.org/stable/modules/preprocessing.html\n",
            "Please also refer to the documentation for alternative solver options:\n",
            "    https://scikit-learn.org/stable/modules/linear_model.html#logistic-regression\n",
            "  n_iter_i = _check_optimize_result(\n",
            "/usr/local/lib/python3.11/dist-packages/sklearn/linear_model/_logistic.py:465: ConvergenceWarning: lbfgs failed to converge (status=1):\n",
            "STOP: TOTAL NO. of ITERATIONS REACHED LIMIT.\n",
            "\n",
            "Increase the number of iterations (max_iter) or scale the data as shown in:\n",
            "    https://scikit-learn.org/stable/modules/preprocessing.html\n",
            "Please also refer to the documentation for alternative solver options:\n",
            "    https://scikit-learn.org/stable/modules/linear_model.html#logistic-regression\n",
            "  n_iter_i = _check_optimize_result(\n",
            "/usr/local/lib/python3.11/dist-packages/sklearn/linear_model/_logistic.py:465: ConvergenceWarning: lbfgs failed to converge (status=1):\n",
            "STOP: TOTAL NO. of ITERATIONS REACHED LIMIT.\n",
            "\n",
            "Increase the number of iterations (max_iter) or scale the data as shown in:\n",
            "    https://scikit-learn.org/stable/modules/preprocessing.html\n",
            "Please also refer to the documentation for alternative solver options:\n",
            "    https://scikit-learn.org/stable/modules/linear_model.html#logistic-regression\n",
            "  n_iter_i = _check_optimize_result(\n",
            "/usr/local/lib/python3.11/dist-packages/sklearn/linear_model/_logistic.py:465: ConvergenceWarning: lbfgs failed to converge (status=1):\n",
            "STOP: TOTAL NO. of ITERATIONS REACHED LIMIT.\n",
            "\n",
            "Increase the number of iterations (max_iter) or scale the data as shown in:\n",
            "    https://scikit-learn.org/stable/modules/preprocessing.html\n",
            "Please also refer to the documentation for alternative solver options:\n",
            "    https://scikit-learn.org/stable/modules/linear_model.html#logistic-regression\n",
            "  n_iter_i = _check_optimize_result(\n",
            "/usr/local/lib/python3.11/dist-packages/sklearn/linear_model/_logistic.py:465: ConvergenceWarning: lbfgs failed to converge (status=1):\n",
            "STOP: TOTAL NO. of ITERATIONS REACHED LIMIT.\n",
            "\n",
            "Increase the number of iterations (max_iter) or scale the data as shown in:\n",
            "    https://scikit-learn.org/stable/modules/preprocessing.html\n",
            "Please also refer to the documentation for alternative solver options:\n",
            "    https://scikit-learn.org/stable/modules/linear_model.html#logistic-regression\n",
            "  n_iter_i = _check_optimize_result(\n",
            "/usr/local/lib/python3.11/dist-packages/sklearn/linear_model/_logistic.py:465: ConvergenceWarning: lbfgs failed to converge (status=1):\n",
            "STOP: TOTAL NO. of ITERATIONS REACHED LIMIT.\n",
            "\n",
            "Increase the number of iterations (max_iter) or scale the data as shown in:\n",
            "    https://scikit-learn.org/stable/modules/preprocessing.html\n",
            "Please also refer to the documentation for alternative solver options:\n",
            "    https://scikit-learn.org/stable/modules/linear_model.html#logistic-regression\n",
            "  n_iter_i = _check_optimize_result(\n",
            "/usr/local/lib/python3.11/dist-packages/sklearn/linear_model/_logistic.py:465: ConvergenceWarning: lbfgs failed to converge (status=1):\n",
            "STOP: TOTAL NO. of ITERATIONS REACHED LIMIT.\n",
            "\n",
            "Increase the number of iterations (max_iter) or scale the data as shown in:\n",
            "    https://scikit-learn.org/stable/modules/preprocessing.html\n",
            "Please also refer to the documentation for alternative solver options:\n",
            "    https://scikit-learn.org/stable/modules/linear_model.html#logistic-regression\n",
            "  n_iter_i = _check_optimize_result(\n",
            "/usr/local/lib/python3.11/dist-packages/sklearn/linear_model/_logistic.py:465: ConvergenceWarning: lbfgs failed to converge (status=1):\n",
            "STOP: TOTAL NO. of ITERATIONS REACHED LIMIT.\n",
            "\n",
            "Increase the number of iterations (max_iter) or scale the data as shown in:\n",
            "    https://scikit-learn.org/stable/modules/preprocessing.html\n",
            "Please also refer to the documentation for alternative solver options:\n",
            "    https://scikit-learn.org/stable/modules/linear_model.html#logistic-regression\n",
            "  n_iter_i = _check_optimize_result(\n",
            "/usr/local/lib/python3.11/dist-packages/sklearn/linear_model/_logistic.py:465: ConvergenceWarning: lbfgs failed to converge (status=1):\n",
            "STOP: TOTAL NO. of ITERATIONS REACHED LIMIT.\n",
            "\n",
            "Increase the number of iterations (max_iter) or scale the data as shown in:\n",
            "    https://scikit-learn.org/stable/modules/preprocessing.html\n",
            "Please also refer to the documentation for alternative solver options:\n",
            "    https://scikit-learn.org/stable/modules/linear_model.html#logistic-regression\n",
            "  n_iter_i = _check_optimize_result(\n",
            "/usr/local/lib/python3.11/dist-packages/sklearn/linear_model/_logistic.py:465: ConvergenceWarning: lbfgs failed to converge (status=1):\n",
            "STOP: TOTAL NO. of ITERATIONS REACHED LIMIT.\n",
            "\n",
            "Increase the number of iterations (max_iter) or scale the data as shown in:\n",
            "    https://scikit-learn.org/stable/modules/preprocessing.html\n",
            "Please also refer to the documentation for alternative solver options:\n",
            "    https://scikit-learn.org/stable/modules/linear_model.html#logistic-regression\n",
            "  n_iter_i = _check_optimize_result(\n",
            "/usr/local/lib/python3.11/dist-packages/sklearn/linear_model/_logistic.py:465: ConvergenceWarning: lbfgs failed to converge (status=1):\n",
            "STOP: TOTAL NO. of ITERATIONS REACHED LIMIT.\n",
            "\n",
            "Increase the number of iterations (max_iter) or scale the data as shown in:\n",
            "    https://scikit-learn.org/stable/modules/preprocessing.html\n",
            "Please also refer to the documentation for alternative solver options:\n",
            "    https://scikit-learn.org/stable/modules/linear_model.html#logistic-regression\n",
            "  n_iter_i = _check_optimize_result(\n",
            "/usr/local/lib/python3.11/dist-packages/sklearn/linear_model/_logistic.py:465: ConvergenceWarning: lbfgs failed to converge (status=1):\n",
            "STOP: TOTAL NO. of ITERATIONS REACHED LIMIT.\n",
            "\n",
            "Increase the number of iterations (max_iter) or scale the data as shown in:\n",
            "    https://scikit-learn.org/stable/modules/preprocessing.html\n",
            "Please also refer to the documentation for alternative solver options:\n",
            "    https://scikit-learn.org/stable/modules/linear_model.html#logistic-regression\n",
            "  n_iter_i = _check_optimize_result(\n",
            "/usr/local/lib/python3.11/dist-packages/sklearn/linear_model/_logistic.py:465: ConvergenceWarning: lbfgs failed to converge (status=1):\n",
            "STOP: TOTAL NO. of ITERATIONS REACHED LIMIT.\n",
            "\n",
            "Increase the number of iterations (max_iter) or scale the data as shown in:\n",
            "    https://scikit-learn.org/stable/modules/preprocessing.html\n",
            "Please also refer to the documentation for alternative solver options:\n",
            "    https://scikit-learn.org/stable/modules/linear_model.html#logistic-regression\n",
            "  n_iter_i = _check_optimize_result(\n",
            "/usr/local/lib/python3.11/dist-packages/sklearn/linear_model/_logistic.py:465: ConvergenceWarning: lbfgs failed to converge (status=1):\n",
            "STOP: TOTAL NO. of ITERATIONS REACHED LIMIT.\n",
            "\n",
            "Increase the number of iterations (max_iter) or scale the data as shown in:\n",
            "    https://scikit-learn.org/stable/modules/preprocessing.html\n",
            "Please also refer to the documentation for alternative solver options:\n",
            "    https://scikit-learn.org/stable/modules/linear_model.html#logistic-regression\n",
            "  n_iter_i = _check_optimize_result(\n",
            "/usr/local/lib/python3.11/dist-packages/sklearn/linear_model/_logistic.py:465: ConvergenceWarning: lbfgs failed to converge (status=1):\n",
            "STOP: TOTAL NO. of ITERATIONS REACHED LIMIT.\n",
            "\n",
            "Increase the number of iterations (max_iter) or scale the data as shown in:\n",
            "    https://scikit-learn.org/stable/modules/preprocessing.html\n",
            "Please also refer to the documentation for alternative solver options:\n",
            "    https://scikit-learn.org/stable/modules/linear_model.html#logistic-regression\n",
            "  n_iter_i = _check_optimize_result(\n",
            "/usr/local/lib/python3.11/dist-packages/sklearn/linear_model/_logistic.py:465: ConvergenceWarning: lbfgs failed to converge (status=1):\n",
            "STOP: TOTAL NO. of ITERATIONS REACHED LIMIT.\n",
            "\n",
            "Increase the number of iterations (max_iter) or scale the data as shown in:\n",
            "    https://scikit-learn.org/stable/modules/preprocessing.html\n",
            "Please also refer to the documentation for alternative solver options:\n",
            "    https://scikit-learn.org/stable/modules/linear_model.html#logistic-regression\n",
            "  n_iter_i = _check_optimize_result(\n",
            "/usr/local/lib/python3.11/dist-packages/sklearn/linear_model/_logistic.py:465: ConvergenceWarning: lbfgs failed to converge (status=1):\n",
            "STOP: TOTAL NO. of ITERATIONS REACHED LIMIT.\n",
            "\n",
            "Increase the number of iterations (max_iter) or scale the data as shown in:\n",
            "    https://scikit-learn.org/stable/modules/preprocessing.html\n",
            "Please also refer to the documentation for alternative solver options:\n",
            "    https://scikit-learn.org/stable/modules/linear_model.html#logistic-regression\n",
            "  n_iter_i = _check_optimize_result(\n",
            "/usr/local/lib/python3.11/dist-packages/sklearn/linear_model/_logistic.py:465: ConvergenceWarning: lbfgs failed to converge (status=1):\n",
            "STOP: TOTAL NO. of ITERATIONS REACHED LIMIT.\n",
            "\n",
            "Increase the number of iterations (max_iter) or scale the data as shown in:\n",
            "    https://scikit-learn.org/stable/modules/preprocessing.html\n",
            "Please also refer to the documentation for alternative solver options:\n",
            "    https://scikit-learn.org/stable/modules/linear_model.html#logistic-regression\n",
            "  n_iter_i = _check_optimize_result(\n",
            "/usr/local/lib/python3.11/dist-packages/sklearn/linear_model/_logistic.py:465: ConvergenceWarning: lbfgs failed to converge (status=1):\n",
            "STOP: TOTAL NO. of ITERATIONS REACHED LIMIT.\n",
            "\n",
            "Increase the number of iterations (max_iter) or scale the data as shown in:\n",
            "    https://scikit-learn.org/stable/modules/preprocessing.html\n",
            "Please also refer to the documentation for alternative solver options:\n",
            "    https://scikit-learn.org/stable/modules/linear_model.html#logistic-regression\n",
            "  n_iter_i = _check_optimize_result(\n",
            "/usr/local/lib/python3.11/dist-packages/sklearn/linear_model/_logistic.py:465: ConvergenceWarning: lbfgs failed to converge (status=1):\n",
            "STOP: TOTAL NO. of ITERATIONS REACHED LIMIT.\n",
            "\n",
            "Increase the number of iterations (max_iter) or scale the data as shown in:\n",
            "    https://scikit-learn.org/stable/modules/preprocessing.html\n",
            "Please also refer to the documentation for alternative solver options:\n",
            "    https://scikit-learn.org/stable/modules/linear_model.html#logistic-regression\n",
            "  n_iter_i = _check_optimize_result(\n",
            "/usr/local/lib/python3.11/dist-packages/sklearn/linear_model/_logistic.py:465: ConvergenceWarning: lbfgs failed to converge (status=1):\n",
            "STOP: TOTAL NO. of ITERATIONS REACHED LIMIT.\n",
            "\n",
            "Increase the number of iterations (max_iter) or scale the data as shown in:\n",
            "    https://scikit-learn.org/stable/modules/preprocessing.html\n",
            "Please also refer to the documentation for alternative solver options:\n",
            "    https://scikit-learn.org/stable/modules/linear_model.html#logistic-regression\n",
            "  n_iter_i = _check_optimize_result(\n",
            "/usr/local/lib/python3.11/dist-packages/sklearn/linear_model/_logistic.py:465: ConvergenceWarning: lbfgs failed to converge (status=1):\n",
            "STOP: TOTAL NO. of ITERATIONS REACHED LIMIT.\n",
            "\n",
            "Increase the number of iterations (max_iter) or scale the data as shown in:\n",
            "    https://scikit-learn.org/stable/modules/preprocessing.html\n",
            "Please also refer to the documentation for alternative solver options:\n",
            "    https://scikit-learn.org/stable/modules/linear_model.html#logistic-regression\n",
            "  n_iter_i = _check_optimize_result(\n",
            "/usr/local/lib/python3.11/dist-packages/sklearn/linear_model/_logistic.py:465: ConvergenceWarning: lbfgs failed to converge (status=1):\n",
            "STOP: TOTAL NO. of ITERATIONS REACHED LIMIT.\n",
            "\n",
            "Increase the number of iterations (max_iter) or scale the data as shown in:\n",
            "    https://scikit-learn.org/stable/modules/preprocessing.html\n",
            "Please also refer to the documentation for alternative solver options:\n",
            "    https://scikit-learn.org/stable/modules/linear_model.html#logistic-regression\n",
            "  n_iter_i = _check_optimize_result(\n",
            "/usr/local/lib/python3.11/dist-packages/sklearn/linear_model/_logistic.py:465: ConvergenceWarning: lbfgs failed to converge (status=1):\n",
            "STOP: TOTAL NO. of ITERATIONS REACHED LIMIT.\n",
            "\n",
            "Increase the number of iterations (max_iter) or scale the data as shown in:\n",
            "    https://scikit-learn.org/stable/modules/preprocessing.html\n",
            "Please also refer to the documentation for alternative solver options:\n",
            "    https://scikit-learn.org/stable/modules/linear_model.html#logistic-regression\n",
            "  n_iter_i = _check_optimize_result(\n",
            "/usr/local/lib/python3.11/dist-packages/sklearn/linear_model/_logistic.py:465: ConvergenceWarning: lbfgs failed to converge (status=1):\n",
            "STOP: TOTAL NO. of ITERATIONS REACHED LIMIT.\n",
            "\n",
            "Increase the number of iterations (max_iter) or scale the data as shown in:\n",
            "    https://scikit-learn.org/stable/modules/preprocessing.html\n",
            "Please also refer to the documentation for alternative solver options:\n",
            "    https://scikit-learn.org/stable/modules/linear_model.html#logistic-regression\n",
            "  n_iter_i = _check_optimize_result(\n",
            "/usr/local/lib/python3.11/dist-packages/sklearn/linear_model/_logistic.py:465: ConvergenceWarning: lbfgs failed to converge (status=1):\n",
            "STOP: TOTAL NO. of ITERATIONS REACHED LIMIT.\n",
            "\n",
            "Increase the number of iterations (max_iter) or scale the data as shown in:\n",
            "    https://scikit-learn.org/stable/modules/preprocessing.html\n",
            "Please also refer to the documentation for alternative solver options:\n",
            "    https://scikit-learn.org/stable/modules/linear_model.html#logistic-regression\n",
            "  n_iter_i = _check_optimize_result(\n",
            "/usr/local/lib/python3.11/dist-packages/sklearn/linear_model/_logistic.py:465: ConvergenceWarning: lbfgs failed to converge (status=1):\n",
            "STOP: TOTAL NO. of ITERATIONS REACHED LIMIT.\n",
            "\n",
            "Increase the number of iterations (max_iter) or scale the data as shown in:\n",
            "    https://scikit-learn.org/stable/modules/preprocessing.html\n",
            "Please also refer to the documentation for alternative solver options:\n",
            "    https://scikit-learn.org/stable/modules/linear_model.html#logistic-regression\n",
            "  n_iter_i = _check_optimize_result(\n",
            "/usr/local/lib/python3.11/dist-packages/sklearn/linear_model/_logistic.py:465: ConvergenceWarning: lbfgs failed to converge (status=1):\n",
            "STOP: TOTAL NO. of ITERATIONS REACHED LIMIT.\n",
            "\n",
            "Increase the number of iterations (max_iter) or scale the data as shown in:\n",
            "    https://scikit-learn.org/stable/modules/preprocessing.html\n",
            "Please also refer to the documentation for alternative solver options:\n",
            "    https://scikit-learn.org/stable/modules/linear_model.html#logistic-regression\n",
            "  n_iter_i = _check_optimize_result(\n",
            "/usr/local/lib/python3.11/dist-packages/sklearn/linear_model/_logistic.py:465: ConvergenceWarning: lbfgs failed to converge (status=1):\n",
            "STOP: TOTAL NO. of ITERATIONS REACHED LIMIT.\n",
            "\n",
            "Increase the number of iterations (max_iter) or scale the data as shown in:\n",
            "    https://scikit-learn.org/stable/modules/preprocessing.html\n",
            "Please also refer to the documentation for alternative solver options:\n",
            "    https://scikit-learn.org/stable/modules/linear_model.html#logistic-regression\n",
            "  n_iter_i = _check_optimize_result(\n",
            "/usr/local/lib/python3.11/dist-packages/sklearn/linear_model/_logistic.py:465: ConvergenceWarning: lbfgs failed to converge (status=1):\n",
            "STOP: TOTAL NO. of ITERATIONS REACHED LIMIT.\n",
            "\n",
            "Increase the number of iterations (max_iter) or scale the data as shown in:\n",
            "    https://scikit-learn.org/stable/modules/preprocessing.html\n",
            "Please also refer to the documentation for alternative solver options:\n",
            "    https://scikit-learn.org/stable/modules/linear_model.html#logistic-regression\n",
            "  n_iter_i = _check_optimize_result(\n",
            "/usr/local/lib/python3.11/dist-packages/sklearn/linear_model/_logistic.py:465: ConvergenceWarning: lbfgs failed to converge (status=1):\n",
            "STOP: TOTAL NO. of ITERATIONS REACHED LIMIT.\n",
            "\n",
            "Increase the number of iterations (max_iter) or scale the data as shown in:\n",
            "    https://scikit-learn.org/stable/modules/preprocessing.html\n",
            "Please also refer to the documentation for alternative solver options:\n",
            "    https://scikit-learn.org/stable/modules/linear_model.html#logistic-regression\n",
            "  n_iter_i = _check_optimize_result(\n",
            "/usr/local/lib/python3.11/dist-packages/sklearn/linear_model/_logistic.py:465: ConvergenceWarning: lbfgs failed to converge (status=1):\n",
            "STOP: TOTAL NO. of ITERATIONS REACHED LIMIT.\n",
            "\n",
            "Increase the number of iterations (max_iter) or scale the data as shown in:\n",
            "    https://scikit-learn.org/stable/modules/preprocessing.html\n",
            "Please also refer to the documentation for alternative solver options:\n",
            "    https://scikit-learn.org/stable/modules/linear_model.html#logistic-regression\n",
            "  n_iter_i = _check_optimize_result(\n",
            "/usr/local/lib/python3.11/dist-packages/sklearn/linear_model/_logistic.py:465: ConvergenceWarning: lbfgs failed to converge (status=1):\n",
            "STOP: TOTAL NO. of ITERATIONS REACHED LIMIT.\n",
            "\n",
            "Increase the number of iterations (max_iter) or scale the data as shown in:\n",
            "    https://scikit-learn.org/stable/modules/preprocessing.html\n",
            "Please also refer to the documentation for alternative solver options:\n",
            "    https://scikit-learn.org/stable/modules/linear_model.html#logistic-regression\n",
            "  n_iter_i = _check_optimize_result(\n",
            "/usr/local/lib/python3.11/dist-packages/sklearn/linear_model/_logistic.py:465: ConvergenceWarning: lbfgs failed to converge (status=1):\n",
            "STOP: TOTAL NO. of ITERATIONS REACHED LIMIT.\n",
            "\n",
            "Increase the number of iterations (max_iter) or scale the data as shown in:\n",
            "    https://scikit-learn.org/stable/modules/preprocessing.html\n",
            "Please also refer to the documentation for alternative solver options:\n",
            "    https://scikit-learn.org/stable/modules/linear_model.html#logistic-regression\n",
            "  n_iter_i = _check_optimize_result(\n",
            "/usr/local/lib/python3.11/dist-packages/sklearn/linear_model/_logistic.py:465: ConvergenceWarning: lbfgs failed to converge (status=1):\n",
            "STOP: TOTAL NO. of ITERATIONS REACHED LIMIT.\n",
            "\n",
            "Increase the number of iterations (max_iter) or scale the data as shown in:\n",
            "    https://scikit-learn.org/stable/modules/preprocessing.html\n",
            "Please also refer to the documentation for alternative solver options:\n",
            "    https://scikit-learn.org/stable/modules/linear_model.html#logistic-regression\n",
            "  n_iter_i = _check_optimize_result(\n",
            "/usr/local/lib/python3.11/dist-packages/sklearn/linear_model/_logistic.py:465: ConvergenceWarning: lbfgs failed to converge (status=1):\n",
            "STOP: TOTAL NO. of ITERATIONS REACHED LIMIT.\n",
            "\n",
            "Increase the number of iterations (max_iter) or scale the data as shown in:\n",
            "    https://scikit-learn.org/stable/modules/preprocessing.html\n",
            "Please also refer to the documentation for alternative solver options:\n",
            "    https://scikit-learn.org/stable/modules/linear_model.html#logistic-regression\n",
            "  n_iter_i = _check_optimize_result(\n",
            "/usr/local/lib/python3.11/dist-packages/sklearn/linear_model/_logistic.py:465: ConvergenceWarning: lbfgs failed to converge (status=1):\n",
            "STOP: TOTAL NO. of ITERATIONS REACHED LIMIT.\n",
            "\n",
            "Increase the number of iterations (max_iter) or scale the data as shown in:\n",
            "    https://scikit-learn.org/stable/modules/preprocessing.html\n",
            "Please also refer to the documentation for alternative solver options:\n",
            "    https://scikit-learn.org/stable/modules/linear_model.html#logistic-regression\n",
            "  n_iter_i = _check_optimize_result(\n",
            "/usr/local/lib/python3.11/dist-packages/sklearn/linear_model/_logistic.py:465: ConvergenceWarning: lbfgs failed to converge (status=1):\n",
            "STOP: TOTAL NO. of ITERATIONS REACHED LIMIT.\n",
            "\n",
            "Increase the number of iterations (max_iter) or scale the data as shown in:\n",
            "    https://scikit-learn.org/stable/modules/preprocessing.html\n",
            "Please also refer to the documentation for alternative solver options:\n",
            "    https://scikit-learn.org/stable/modules/linear_model.html#logistic-regression\n",
            "  n_iter_i = _check_optimize_result(\n",
            "/usr/local/lib/python3.11/dist-packages/sklearn/linear_model/_logistic.py:465: ConvergenceWarning: lbfgs failed to converge (status=1):\n",
            "STOP: TOTAL NO. of ITERATIONS REACHED LIMIT.\n",
            "\n",
            "Increase the number of iterations (max_iter) or scale the data as shown in:\n",
            "    https://scikit-learn.org/stable/modules/preprocessing.html\n",
            "Please also refer to the documentation for alternative solver options:\n",
            "    https://scikit-learn.org/stable/modules/linear_model.html#logistic-regression\n",
            "  n_iter_i = _check_optimize_result(\n",
            "/usr/local/lib/python3.11/dist-packages/sklearn/linear_model/_logistic.py:465: ConvergenceWarning: lbfgs failed to converge (status=1):\n",
            "STOP: TOTAL NO. of ITERATIONS REACHED LIMIT.\n",
            "\n",
            "Increase the number of iterations (max_iter) or scale the data as shown in:\n",
            "    https://scikit-learn.org/stable/modules/preprocessing.html\n",
            "Please also refer to the documentation for alternative solver options:\n",
            "    https://scikit-learn.org/stable/modules/linear_model.html#logistic-regression\n",
            "  n_iter_i = _check_optimize_result(\n",
            "/usr/local/lib/python3.11/dist-packages/sklearn/linear_model/_logistic.py:465: ConvergenceWarning: lbfgs failed to converge (status=1):\n",
            "STOP: TOTAL NO. of ITERATIONS REACHED LIMIT.\n",
            "\n",
            "Increase the number of iterations (max_iter) or scale the data as shown in:\n",
            "    https://scikit-learn.org/stable/modules/preprocessing.html\n",
            "Please also refer to the documentation for alternative solver options:\n",
            "    https://scikit-learn.org/stable/modules/linear_model.html#logistic-regression\n",
            "  n_iter_i = _check_optimize_result(\n",
            "/usr/local/lib/python3.11/dist-packages/sklearn/linear_model/_logistic.py:465: ConvergenceWarning: lbfgs failed to converge (status=1):\n",
            "STOP: TOTAL NO. of ITERATIONS REACHED LIMIT.\n",
            "\n",
            "Increase the number of iterations (max_iter) or scale the data as shown in:\n",
            "    https://scikit-learn.org/stable/modules/preprocessing.html\n",
            "Please also refer to the documentation for alternative solver options:\n",
            "    https://scikit-learn.org/stable/modules/linear_model.html#logistic-regression\n",
            "  n_iter_i = _check_optimize_result(\n",
            "/usr/local/lib/python3.11/dist-packages/sklearn/linear_model/_logistic.py:465: ConvergenceWarning: lbfgs failed to converge (status=1):\n",
            "STOP: TOTAL NO. of ITERATIONS REACHED LIMIT.\n",
            "\n",
            "Increase the number of iterations (max_iter) or scale the data as shown in:\n",
            "    https://scikit-learn.org/stable/modules/preprocessing.html\n",
            "Please also refer to the documentation for alternative solver options:\n",
            "    https://scikit-learn.org/stable/modules/linear_model.html#logistic-regression\n",
            "  n_iter_i = _check_optimize_result(\n",
            "/usr/local/lib/python3.11/dist-packages/sklearn/linear_model/_logistic.py:465: ConvergenceWarning: lbfgs failed to converge (status=1):\n",
            "STOP: TOTAL NO. of ITERATIONS REACHED LIMIT.\n",
            "\n",
            "Increase the number of iterations (max_iter) or scale the data as shown in:\n",
            "    https://scikit-learn.org/stable/modules/preprocessing.html\n",
            "Please also refer to the documentation for alternative solver options:\n",
            "    https://scikit-learn.org/stable/modules/linear_model.html#logistic-regression\n",
            "  n_iter_i = _check_optimize_result(\n",
            "/usr/local/lib/python3.11/dist-packages/sklearn/linear_model/_logistic.py:465: ConvergenceWarning: lbfgs failed to converge (status=1):\n",
            "STOP: TOTAL NO. of ITERATIONS REACHED LIMIT.\n",
            "\n",
            "Increase the number of iterations (max_iter) or scale the data as shown in:\n",
            "    https://scikit-learn.org/stable/modules/preprocessing.html\n",
            "Please also refer to the documentation for alternative solver options:\n",
            "    https://scikit-learn.org/stable/modules/linear_model.html#logistic-regression\n",
            "  n_iter_i = _check_optimize_result(\n",
            "/usr/local/lib/python3.11/dist-packages/sklearn/linear_model/_logistic.py:465: ConvergenceWarning: lbfgs failed to converge (status=1):\n",
            "STOP: TOTAL NO. of ITERATIONS REACHED LIMIT.\n",
            "\n",
            "Increase the number of iterations (max_iter) or scale the data as shown in:\n",
            "    https://scikit-learn.org/stable/modules/preprocessing.html\n",
            "Please also refer to the documentation for alternative solver options:\n",
            "    https://scikit-learn.org/stable/modules/linear_model.html#logistic-regression\n",
            "  n_iter_i = _check_optimize_result(\n",
            "/usr/local/lib/python3.11/dist-packages/sklearn/linear_model/_logistic.py:465: ConvergenceWarning: lbfgs failed to converge (status=1):\n",
            "STOP: TOTAL NO. of ITERATIONS REACHED LIMIT.\n",
            "\n",
            "Increase the number of iterations (max_iter) or scale the data as shown in:\n",
            "    https://scikit-learn.org/stable/modules/preprocessing.html\n",
            "Please also refer to the documentation for alternative solver options:\n",
            "    https://scikit-learn.org/stable/modules/linear_model.html#logistic-regression\n",
            "  n_iter_i = _check_optimize_result(\n",
            "/usr/local/lib/python3.11/dist-packages/sklearn/linear_model/_logistic.py:465: ConvergenceWarning: lbfgs failed to converge (status=1):\n",
            "STOP: TOTAL NO. of ITERATIONS REACHED LIMIT.\n",
            "\n",
            "Increase the number of iterations (max_iter) or scale the data as shown in:\n",
            "    https://scikit-learn.org/stable/modules/preprocessing.html\n",
            "Please also refer to the documentation for alternative solver options:\n",
            "    https://scikit-learn.org/stable/modules/linear_model.html#logistic-regression\n",
            "  n_iter_i = _check_optimize_result(\n",
            "/usr/local/lib/python3.11/dist-packages/sklearn/linear_model/_logistic.py:465: ConvergenceWarning: lbfgs failed to converge (status=1):\n",
            "STOP: TOTAL NO. of ITERATIONS REACHED LIMIT.\n",
            "\n",
            "Increase the number of iterations (max_iter) or scale the data as shown in:\n",
            "    https://scikit-learn.org/stable/modules/preprocessing.html\n",
            "Please also refer to the documentation for alternative solver options:\n",
            "    https://scikit-learn.org/stable/modules/linear_model.html#logistic-regression\n",
            "  n_iter_i = _check_optimize_result(\n",
            "/usr/local/lib/python3.11/dist-packages/sklearn/linear_model/_logistic.py:465: ConvergenceWarning: lbfgs failed to converge (status=1):\n",
            "STOP: TOTAL NO. of ITERATIONS REACHED LIMIT.\n",
            "\n",
            "Increase the number of iterations (max_iter) or scale the data as shown in:\n",
            "    https://scikit-learn.org/stable/modules/preprocessing.html\n",
            "Please also refer to the documentation for alternative solver options:\n",
            "    https://scikit-learn.org/stable/modules/linear_model.html#logistic-regression\n",
            "  n_iter_i = _check_optimize_result(\n",
            "/usr/local/lib/python3.11/dist-packages/sklearn/linear_model/_logistic.py:465: ConvergenceWarning: lbfgs failed to converge (status=1):\n",
            "STOP: TOTAL NO. of ITERATIONS REACHED LIMIT.\n",
            "\n",
            "Increase the number of iterations (max_iter) or scale the data as shown in:\n",
            "    https://scikit-learn.org/stable/modules/preprocessing.html\n",
            "Please also refer to the documentation for alternative solver options:\n",
            "    https://scikit-learn.org/stable/modules/linear_model.html#logistic-regression\n",
            "  n_iter_i = _check_optimize_result(\n",
            "/usr/local/lib/python3.11/dist-packages/sklearn/linear_model/_logistic.py:465: ConvergenceWarning: lbfgs failed to converge (status=1):\n",
            "STOP: TOTAL NO. of ITERATIONS REACHED LIMIT.\n",
            "\n",
            "Increase the number of iterations (max_iter) or scale the data as shown in:\n",
            "    https://scikit-learn.org/stable/modules/preprocessing.html\n",
            "Please also refer to the documentation for alternative solver options:\n",
            "    https://scikit-learn.org/stable/modules/linear_model.html#logistic-regression\n",
            "  n_iter_i = _check_optimize_result(\n"
          ]
        }
      ],
      "source": [
        "from sklearn.feature_selection import RFE\n",
        "from sklearn.linear_model import LogisticRegression\n",
        "\n",
        "# จำนวนฟีเจอร์ที่ต้องการเลือก\n",
        "n_features_to_select = 5\n",
        "\n",
        "# สร้างตัวประมาณค่าพื้นฐาน\n",
        "estimator = LogisticRegression()\n",
        "\n",
        "# สำหรับชุดข้อมูล 70%\n",
        "selector70 = RFE(estimator, n_features_to_select=n_features_to_select)\n",
        "x_train_selected70 = selector70.fit_transform(x_train70, y_train70)\n",
        "x_test_selected30 = selector70.transform(x_test30)\n",
        "\n",
        "# สำหรับชุดข้อมูล 80%\n",
        "selector80 = RFE(estimator, n_features_to_select=n_features_to_select)\n",
        "x_train_selected80 = selector80.fit_transform(x_train80, y_train80)\n",
        "x_test_selected20 = selector80.transform(x_test20)\n",
        "\n",
        "# สำหรับชุดข้อมูล SMOTE 70%\n",
        "selector_smote70 = RFE(estimator, n_features_to_select=n_features_to_select)\n",
        "x_train_smoteselected70 = selector_smote70.fit_transform(x_train_smote70, y_train_smote70)\n",
        "x_test_smoteselected30 = selector_smote70.transform(x_test_smote70)\n",
        "\n",
        "# สำหรับชุดข้อมูล SMOTE 80%\n",
        "selector_smote80 = RFE(estimator, n_features_to_select=n_features_to_select)\n",
        "x_train_smoteselected80 = selector_smote80.fit_transform(x_train_smote80, y_train_smote80)\n",
        "x_test_smoteselected20 = selector_smote80.transform(x_test_smote80)"
      ]
    },
    {
      "cell_type": "markdown",
      "metadata": {
        "id": "XrwwBNks0mNC"
      },
      "source": [
        "# ข้อมูลสำหรับ SVM ที่ปรับค่ามาตรฐาน"
      ]
    },
    {
      "cell_type": "code",
      "execution_count": null,
      "metadata": {
        "id": "zizks0w30kTx"
      },
      "outputs": [],
      "source": [
        "stand_x = df_standard.drop(columns=['is_promoted'])\n",
        "stand_y = df_standard['is_promoted']"
      ]
    },
    {
      "cell_type": "code",
      "execution_count": null,
      "metadata": {
        "id": "JXIcbuv71j0V"
      },
      "outputs": [],
      "source": [
        "# Split data into training and testing sets\n",
        "\n",
        "# train 70 test 30\n",
        "x_train70Stand, x_test30Stand, y_train70Stand, y_test30Stand = train_test_split(stand_x, stand_y, test_size=0.3, random_state=42)\n",
        "\n",
        "# train 80 test 20\n",
        "x_train80Stand, x_test20Stand, y_train80Stand, y_test20Stand = train_test_split(stand_x, stand_y, test_size=0.2, random_state=42)"
      ]
    },
    {
      "cell_type": "code",
      "execution_count": null,
      "metadata": {
        "id": "UtMp8eB82q5q"
      },
      "outputs": [],
      "source": [
        "# Handle data imbalance\n",
        "smote = SMOTE(random_state=42, k_neighbors=5)\n",
        "# 70 : 30\n",
        "x_train_smote70Stand, y_train_smote70Stand = smote.fit_resample(x_train70Stand, y_train70Stand)\n",
        "x_test_smote30Stand, y_test_smote30Stand = smote.fit_resample(x_test30Stand, y_test30Stand)\n",
        "# 80 : 20\n",
        "x_train_smote80Stand, y_train_smote80Stand = smote.fit_resample(x_train80Stand, y_train80Stand)\n",
        "x_test_smote20Stand, y_test_smote20Stand = smote.fit_resample(x_test20Stand, y_test20Stand)"
      ]
    },
    {
      "cell_type": "code",
      "execution_count": null,
      "metadata": {
        "id": "5tGSrt4g3z_5"
      },
      "outputs": [],
      "source": [
        "from sklearn.feature_selection import RFE\n",
        "from sklearn.linear_model import LogisticRegression\n",
        "\n",
        "# จำนวนฟีเจอร์ที่ต้องการเลือก\n",
        "n_features_to_select = 5\n",
        "# สร้างตัวประมาณค่าพื้นฐาน\n",
        "estimator = LogisticRegression()\n",
        "\n",
        "# สำหรับชุดข้อมูล 70%\n",
        "selector70 = RFE(estimator, n_features_to_select=n_features_to_select)\n",
        "x_train_selected70Stand = selector70.fit_transform(x_train70Stand, y_train70Stand)\n",
        "x_test_selected30Stand = selector70.transform(x_test30Stand)\n",
        "\n",
        "# สำหรับชุดข้อมูล 80%\n",
        "selector80 = RFE(estimator, n_features_to_select=n_features_to_select)\n",
        "x_train_selected80Stand = selector80.fit_transform(x_train80Stand, y_train80Stand)\n",
        "x_test_selected20Stand = selector80.transform(x_test20Stand)\n",
        "\n",
        "# สำหรับชุดข้อมูล SMOTE 70%\n",
        "selector_smote70 = RFE(estimator, n_features_to_select=n_features_to_select)\n",
        "x_train_smoteselected70Stand = selector_smote70.fit_transform(x_train_smote70Stand, y_train_smote70Stand)\n",
        "x_test_smoteselected30Stand = selector_smote70.transform(x_test_smote30Stand)\n",
        "\n",
        "# สำหรับชุดข้อมูล SMOTE 80%\n",
        "selector_smote80 = RFE(estimator, n_features_to_select=n_features_to_select)\n",
        "x_train_smoteselected80Stand = selector_smote80.fit_transform(x_train_smote80Stand, y_train_smote80Stand)\n",
        "x_test_smoteselected20Stand = selector_smote80.transform(x_test_smote20Stand)"
      ]
    },
    {
      "cell_type": "markdown",
      "metadata": {
        "id": "eI-zMylg2_q3"
      },
      "source": [
        "# Support Vector Machine without SMOTE and Feature Selection"
      ]
    },
    {
      "cell_type": "code",
      "execution_count": null,
      "metadata": {
        "colab": {
          "base_uri": "https://localhost:8080/"
        },
        "id": "RrDdjP4Wuwik",
        "outputId": "657131f5-ae33-4e3b-835a-dc36996dce05"
      },
      "outputs": [
        {
          "name": "stdout",
          "output_type": "stream",
          "text": [
            "Fitting 5 folds for each of 20 candidates, totalling 100 fits\n",
            "[CV] END ......................C=0.01, gamma=0.1, kernel=rbf; total time=  14.2s\n",
            "[CV] END ......................C=0.01, gamma=0.1, kernel=rbf; total time=  12.3s\n",
            "[CV] END ......................C=0.01, gamma=0.1, kernel=rbf; total time=  15.0s\n",
            "[CV] END ......................C=0.01, gamma=0.1, kernel=rbf; total time=  14.0s\n",
            "[CV] END ......................C=0.01, gamma=0.1, kernel=rbf; total time=  13.9s\n",
            "[CV] END ........................C=0.01, gamma=1, kernel=rbf; total time=  50.9s\n",
            "[CV] END ........................C=0.01, gamma=1, kernel=rbf; total time=  50.4s\n",
            "[CV] END ........................C=0.01, gamma=1, kernel=rbf; total time=  53.3s\n",
            "[CV] END ........................C=0.01, gamma=1, kernel=rbf; total time=  49.7s\n",
            "[CV] END ........................C=0.01, gamma=1, kernel=rbf; total time=  55.8s\n",
            "[CV] END .......................C=0.01, gamma=10, kernel=rbf; total time= 1.3min\n",
            "[CV] END .......................C=0.01, gamma=10, kernel=rbf; total time= 1.3min\n",
            "[CV] END .......................C=0.01, gamma=10, kernel=rbf; total time= 1.2min\n",
            "[CV] END .......................C=0.01, gamma=10, kernel=rbf; total time= 1.2min\n",
            "[CV] END .......................C=0.01, gamma=10, kernel=rbf; total time= 1.2min\n",
            "[CV] END ......................C=0.01, gamma=100, kernel=rbf; total time= 1.7min\n",
            "[CV] END ......................C=0.01, gamma=100, kernel=rbf; total time= 1.7min\n",
            "[CV] END ......................C=0.01, gamma=100, kernel=rbf; total time= 1.7min\n",
            "[CV] END ......................C=0.01, gamma=100, kernel=rbf; total time= 1.7min\n",
            "[CV] END ......................C=0.01, gamma=100, kernel=rbf; total time= 1.7min\n",
            "[CV] END .......................C=0.1, gamma=0.1, kernel=rbf; total time=  12.5s\n",
            "[CV] END .......................C=0.1, gamma=0.1, kernel=rbf; total time=  12.5s\n",
            "[CV] END .......................C=0.1, gamma=0.1, kernel=rbf; total time=  12.5s\n",
            "[CV] END .......................C=0.1, gamma=0.1, kernel=rbf; total time=  12.3s\n",
            "[CV] END .......................C=0.1, gamma=0.1, kernel=rbf; total time=  12.5s\n",
            "[CV] END .........................C=0.1, gamma=1, kernel=rbf; total time= 1.4min\n",
            "[CV] END .........................C=0.1, gamma=1, kernel=rbf; total time= 1.7min\n",
            "[CV] END .........................C=0.1, gamma=1, kernel=rbf; total time= 1.4min\n",
            "[CV] END .........................C=0.1, gamma=1, kernel=rbf; total time= 1.4min\n",
            "[CV] END .........................C=0.1, gamma=1, kernel=rbf; total time= 1.4min\n",
            "[CV] END ........................C=0.1, gamma=10, kernel=rbf; total time= 1.9min\n",
            "[CV] END ........................C=0.1, gamma=10, kernel=rbf; total time= 1.9min\n",
            "[CV] END ........................C=0.1, gamma=10, kernel=rbf; total time= 1.9min\n",
            "[CV] END ........................C=0.1, gamma=10, kernel=rbf; total time= 1.9min\n",
            "[CV] END ........................C=0.1, gamma=10, kernel=rbf; total time= 1.9min\n",
            "[CV] END .......................C=0.1, gamma=100, kernel=rbf; total time= 2.4min\n",
            "[CV] END .......................C=0.1, gamma=100, kernel=rbf; total time= 2.4min\n",
            "[CV] END .......................C=0.1, gamma=100, kernel=rbf; total time= 2.4min\n",
            "[CV] END .......................C=0.1, gamma=100, kernel=rbf; total time= 2.4min\n",
            "[CV] END .......................C=0.1, gamma=100, kernel=rbf; total time= 2.4min\n",
            "[CV] END .........................C=1, gamma=0.1, kernel=rbf; total time=  14.6s\n",
            "[CV] END .........................C=1, gamma=0.1, kernel=rbf; total time=  14.5s\n",
            "[CV] END .........................C=1, gamma=0.1, kernel=rbf; total time=  14.3s\n",
            "[CV] END .........................C=1, gamma=0.1, kernel=rbf; total time=  14.3s\n",
            "[CV] END .........................C=1, gamma=0.1, kernel=rbf; total time=  14.4s\n",
            "[CV] END ...........................C=1, gamma=1, kernel=rbf; total time= 1.7min\n",
            "[CV] END ...........................C=1, gamma=1, kernel=rbf; total time= 1.7min\n",
            "[CV] END ...........................C=1, gamma=1, kernel=rbf; total time= 1.7min\n",
            "[CV] END ...........................C=1, gamma=1, kernel=rbf; total time= 1.7min\n",
            "[CV] END ...........................C=1, gamma=1, kernel=rbf; total time= 1.7min\n",
            "[CV] END ..........................C=1, gamma=10, kernel=rbf; total time= 2.4min\n",
            "[CV] END ..........................C=1, gamma=10, kernel=rbf; total time= 2.4min\n",
            "[CV] END ..........................C=1, gamma=10, kernel=rbf; total time= 2.5min\n",
            "[CV] END ..........................C=1, gamma=10, kernel=rbf; total time= 2.5min\n",
            "[CV] END ..........................C=1, gamma=10, kernel=rbf; total time= 2.5min\n",
            "[CV] END .........................C=1, gamma=100, kernel=rbf; total time= 3.0min\n",
            "[CV] END .........................C=1, gamma=100, kernel=rbf; total time= 2.8min\n",
            "[CV] END .........................C=1, gamma=100, kernel=rbf; total time= 3.2min\n",
            "[CV] END .........................C=1, gamma=100, kernel=rbf; total time= 3.2min\n",
            "[CV] END .........................C=1, gamma=100, kernel=rbf; total time= 3.1min\n",
            "[CV] END ........................C=10, gamma=0.1, kernel=rbf; total time=  33.3s\n",
            "[CV] END ........................C=10, gamma=0.1, kernel=rbf; total time=  29.5s\n",
            "[CV] END ........................C=10, gamma=0.1, kernel=rbf; total time=  27.9s\n",
            "[CV] END ........................C=10, gamma=0.1, kernel=rbf; total time=  33.3s\n",
            "[CV] END ........................C=10, gamma=0.1, kernel=rbf; total time=  38.6s\n",
            "[CV] END ..........................C=10, gamma=1, kernel=rbf; total time= 1.9min\n",
            "[CV] END ..........................C=10, gamma=1, kernel=rbf; total time= 1.9min\n",
            "[CV] END ..........................C=10, gamma=1, kernel=rbf; total time= 1.9min\n",
            "[CV] END ..........................C=10, gamma=1, kernel=rbf; total time= 1.9min\n",
            "[CV] END ..........................C=10, gamma=1, kernel=rbf; total time= 1.8min\n",
            "[CV] END .........................C=10, gamma=10, kernel=rbf; total time= 3.0min\n",
            "[CV] END .........................C=10, gamma=10, kernel=rbf; total time= 3.0min\n",
            "[CV] END .........................C=10, gamma=10, kernel=rbf; total time= 3.0min\n",
            "[CV] END .........................C=10, gamma=10, kernel=rbf; total time= 3.0min\n",
            "[CV] END .........................C=10, gamma=10, kernel=rbf; total time= 3.1min\n",
            "[CV] END ........................C=10, gamma=100, kernel=rbf; total time= 4.7min\n",
            "[CV] END ........................C=10, gamma=100, kernel=rbf; total time= 4.7min\n",
            "[CV] END ........................C=10, gamma=100, kernel=rbf; total time= 4.8min\n",
            "[CV] END ........................C=10, gamma=100, kernel=rbf; total time= 4.8min\n",
            "[CV] END ........................C=10, gamma=100, kernel=rbf; total time= 4.8min\n",
            "[CV] END .......................C=100, gamma=0.1, kernel=rbf; total time= 1.2min\n",
            "[CV] END .......................C=100, gamma=0.1, kernel=rbf; total time= 1.1min\n",
            "[CV] END .......................C=100, gamma=0.1, kernel=rbf; total time= 1.2min\n",
            "[CV] END .......................C=100, gamma=0.1, kernel=rbf; total time= 1.2min\n",
            "[CV] END .......................C=100, gamma=0.1, kernel=rbf; total time= 1.1min\n",
            "[CV] END .........................C=100, gamma=1, kernel=rbf; total time= 1.7min\n",
            "[CV] END .........................C=100, gamma=1, kernel=rbf; total time= 1.7min\n",
            "[CV] END .........................C=100, gamma=1, kernel=rbf; total time= 1.7min\n",
            "[CV] END .........................C=100, gamma=1, kernel=rbf; total time= 1.7min\n",
            "[CV] END .........................C=100, gamma=1, kernel=rbf; total time= 1.7min\n",
            "[CV] END ........................C=100, gamma=10, kernel=rbf; total time= 3.0min\n",
            "[CV] END ........................C=100, gamma=10, kernel=rbf; total time= 3.0min\n",
            "[CV] END ........................C=100, gamma=10, kernel=rbf; total time= 3.0min\n",
            "[CV] END ........................C=100, gamma=10, kernel=rbf; total time= 3.0min\n",
            "[CV] END ........................C=100, gamma=10, kernel=rbf; total time= 3.0min\n",
            "[CV] END .......................C=100, gamma=100, kernel=rbf; total time= 4.6min\n",
            "[CV] END .......................C=100, gamma=100, kernel=rbf; total time= 4.7min\n",
            "[CV] END .......................C=100, gamma=100, kernel=rbf; total time= 4.6min\n",
            "[CV] END .......................C=100, gamma=100, kernel=rbf; total time= 4.6min\n",
            "[CV] END .......................C=100, gamma=100, kernel=rbf; total time= 4.7min\n",
            "Best Parameters: {'C': 10, 'gamma': 0.1, 'kernel': 'rbf'}\n",
            "Best Score 0.9381421385439861\n"
          ]
        }
      ],
      "source": [
        "# ใช้ Cross Validation เพื่อปรับจูนค่าพารามิเตอร์  ของโมเดล Machine Learning เพื่อหาค่าที่เหมาะสมที่สุดในการเพิ่มประสิทธิภาพของโมเดล\n",
        "\n",
        "# Support Vector Machine without SMOTE and Feature Selection   70 :30\n",
        "param_grid = {\n",
        "    'C': [0.01,0.1,1,10,100],\n",
        "    'kernel': [ 'rbf'],\n",
        "    'gamma': [0.1,1,10,100]\n",
        "}\n",
        "\n",
        "grid = GridSearchCV(SVC(), param_grid, refit=True, verbose=2)\n",
        "grid.fit(x_train70Stand, y_train70Stand)\n",
        "\n",
        "print(\"Best Parameters:\", grid.best_params_)\n",
        "print(\"Best Score\", grid.best_score_)"
      ]
    },
    {
      "cell_type": "code",
      "execution_count": null,
      "metadata": {
        "colab": {
          "base_uri": "https://localhost:8080/"
        },
        "id": "CI45WY73Nusz",
        "outputId": "c1305978-c522-4fa9-e8cc-4381cde4782c"
      },
      "outputs": [
        {
          "name": "stdout",
          "output_type": "stream",
          "text": [
            "Accuracy: 0.9337\n",
            "Precision: 0.9606\n",
            "Recall: 0.2775\n",
            "F1 Score: 0.4306\n"
          ]
        }
      ],
      "source": [
        "# Train an SVM classifier\n",
        "svm_model = SVC(kernel='rbf', C=10,gamma=0.1, random_state=42)\n",
        "svm_model.fit(x_train70Stand, y_train70Stand)\n",
        "\n",
        "# Make predictions\n",
        "y_pred30 = svm_model.predict(x_test30Stand)\n",
        "\n",
        "# แสดง Classification Report\n",
        "accuracy = accuracy_score(y_test30Stand, y_pred30)\n",
        "precision = precision_score(y_test30Stand, y_pred30)\n",
        "recall = recall_score(y_test30Stand, y_pred30)\n",
        "f1 = f1_score(y_test30Stand, y_pred30)\n",
        "\n",
        "print(\"Accuracy: {:.4f}\".format(accuracy))\n",
        "print(\"Precision: {:.4f}\".format(precision))\n",
        "print(\"Recall: {:.4f}\".format(recall))\n",
        "print(\"F1 Score: {:.4f}\".format(f1))"
      ]
    },
    {
      "cell_type": "code",
      "execution_count": null,
      "metadata": {
        "colab": {
          "base_uri": "https://localhost:8080/"
        },
        "id": "9J1CPN-g0mCn",
        "outputId": "22d4804a-a53f-461f-df91-8336e00f44dd"
      },
      "outputs": [
        {
          "name": "stdout",
          "output_type": "stream",
          "text": [
            "Fitting 5 folds for each of 20 candidates, totalling 100 fits\n",
            "[CV] END ......................C=0.01, gamma=0.1, kernel=rbf; total time=  15.4s\n",
            "[CV] END ......................C=0.01, gamma=0.1, kernel=rbf; total time=  15.8s\n",
            "[CV] END ......................C=0.01, gamma=0.1, kernel=rbf; total time=  16.1s\n",
            "[CV] END ......................C=0.01, gamma=0.1, kernel=rbf; total time=  16.0s\n",
            "[CV] END ......................C=0.01, gamma=0.1, kernel=rbf; total time=  15.4s\n",
            "[CV] END ........................C=0.01, gamma=1, kernel=rbf; total time=  58.0s\n",
            "[CV] END ........................C=0.01, gamma=1, kernel=rbf; total time= 1.2min\n",
            "[CV] END ........................C=0.01, gamma=1, kernel=rbf; total time= 1.2min\n",
            "[CV] END ........................C=0.01, gamma=1, kernel=rbf; total time=  56.3s\n",
            "[CV] END ........................C=0.01, gamma=1, kernel=rbf; total time= 1.2min\n",
            "[CV] END .......................C=0.01, gamma=10, kernel=rbf; total time= 1.5min\n",
            "[CV] END .......................C=0.01, gamma=10, kernel=rbf; total time= 1.5min\n",
            "[CV] END .......................C=0.01, gamma=10, kernel=rbf; total time= 1.5min\n",
            "[CV] END .......................C=0.01, gamma=10, kernel=rbf; total time= 1.5min\n",
            "[CV] END .......................C=0.01, gamma=10, kernel=rbf; total time= 1.5min\n",
            "[CV] END ......................C=0.01, gamma=100, kernel=rbf; total time= 2.2min\n",
            "[CV] END ......................C=0.01, gamma=100, kernel=rbf; total time= 2.2min\n",
            "[CV] END ......................C=0.01, gamma=100, kernel=rbf; total time= 2.2min\n",
            "[CV] END ......................C=0.01, gamma=100, kernel=rbf; total time= 2.2min\n",
            "[CV] END ......................C=0.01, gamma=100, kernel=rbf; total time= 2.2min\n",
            "[CV] END .......................C=0.1, gamma=0.1, kernel=rbf; total time=  16.0s\n",
            "[CV] END .......................C=0.1, gamma=0.1, kernel=rbf; total time=  16.6s\n",
            "[CV] END .......................C=0.1, gamma=0.1, kernel=rbf; total time=  16.3s\n",
            "[CV] END .......................C=0.1, gamma=0.1, kernel=rbf; total time=  16.2s\n",
            "[CV] END .......................C=0.1, gamma=0.1, kernel=rbf; total time=  16.1s\n",
            "[CV] END .........................C=0.1, gamma=1, kernel=rbf; total time= 2.2min\n",
            "[CV] END .........................C=0.1, gamma=1, kernel=rbf; total time= 1.7min\n",
            "[CV] END .........................C=0.1, gamma=1, kernel=rbf; total time= 2.2min\n",
            "[CV] END .........................C=0.1, gamma=1, kernel=rbf; total time= 2.2min\n",
            "[CV] END .........................C=0.1, gamma=1, kernel=rbf; total time= 2.1min\n",
            "[CV] END ........................C=0.1, gamma=10, kernel=rbf; total time= 2.4min\n",
            "[CV] END ........................C=0.1, gamma=10, kernel=rbf; total time= 2.4min\n",
            "[CV] END ........................C=0.1, gamma=10, kernel=rbf; total time= 2.4min\n",
            "[CV] END ........................C=0.1, gamma=10, kernel=rbf; total time= 2.4min\n",
            "[CV] END ........................C=0.1, gamma=10, kernel=rbf; total time= 2.4min\n",
            "[CV] END .......................C=0.1, gamma=100, kernel=rbf; total time= 3.1min\n",
            "[CV] END .......................C=0.1, gamma=100, kernel=rbf; total time= 3.0min\n",
            "[CV] END .......................C=0.1, gamma=100, kernel=rbf; total time= 3.1min\n",
            "[CV] END .......................C=0.1, gamma=100, kernel=rbf; total time= 3.1min\n",
            "[CV] END .......................C=0.1, gamma=100, kernel=rbf; total time= 3.1min\n",
            "[CV] END .........................C=1, gamma=0.1, kernel=rbf; total time=  19.7s\n",
            "[CV] END .........................C=1, gamma=0.1, kernel=rbf; total time=  20.4s\n",
            "[CV] END .........................C=1, gamma=0.1, kernel=rbf; total time=  22.3s\n",
            "[CV] END .........................C=1, gamma=0.1, kernel=rbf; total time=  20.1s\n",
            "[CV] END .........................C=1, gamma=0.1, kernel=rbf; total time=  18.4s\n",
            "[CV] END ...........................C=1, gamma=1, kernel=rbf; total time= 2.2min\n",
            "[CV] END ...........................C=1, gamma=1, kernel=rbf; total time= 2.6min\n",
            "[CV] END ...........................C=1, gamma=1, kernel=rbf; total time= 2.7min\n",
            "[CV] END ...........................C=1, gamma=1, kernel=rbf; total time= 2.7min\n",
            "[CV] END ...........................C=1, gamma=1, kernel=rbf; total time= 2.1min\n",
            "[CV] END ..........................C=1, gamma=10, kernel=rbf; total time= 3.1min\n",
            "[CV] END ..........................C=1, gamma=10, kernel=rbf; total time= 3.1min\n",
            "[CV] END ..........................C=1, gamma=10, kernel=rbf; total time= 3.1min\n",
            "[CV] END ..........................C=1, gamma=10, kernel=rbf; total time= 3.1min\n",
            "[CV] END ..........................C=1, gamma=10, kernel=rbf; total time= 3.1min\n",
            "[CV] END .........................C=1, gamma=100, kernel=rbf; total time= 4.4min\n",
            "[CV] END .........................C=1, gamma=100, kernel=rbf; total time= 3.9min\n",
            "[CV] END .........................C=1, gamma=100, kernel=rbf; total time= 4.4min\n",
            "[CV] END .........................C=1, gamma=100, kernel=rbf; total time= 3.7min\n",
            "[CV] END .........................C=1, gamma=100, kernel=rbf; total time= 4.0min\n",
            "[CV] END ........................C=10, gamma=0.1, kernel=rbf; total time=  39.3s\n",
            "[CV] END ........................C=10, gamma=0.1, kernel=rbf; total time=  40.1s\n",
            "[CV] END ........................C=10, gamma=0.1, kernel=rbf; total time=  45.8s\n",
            "[CV] END ........................C=10, gamma=0.1, kernel=rbf; total time=  45.7s\n",
            "[CV] END ........................C=10, gamma=0.1, kernel=rbf; total time=  44.8s\n",
            "[CV] END ..........................C=10, gamma=1, kernel=rbf; total time= 2.9min\n",
            "[CV] END ..........................C=10, gamma=1, kernel=rbf; total time= 2.9min\n",
            "[CV] END ..........................C=10, gamma=1, kernel=rbf; total time= 2.5min\n",
            "[CV] END ..........................C=10, gamma=1, kernel=rbf; total time= 2.4min\n",
            "[CV] END ..........................C=10, gamma=1, kernel=rbf; total time= 2.4min\n",
            "[CV] END .........................C=10, gamma=10, kernel=rbf; total time= 3.9min\n",
            "[CV] END .........................C=10, gamma=10, kernel=rbf; total time= 3.9min\n",
            "[CV] END .........................C=10, gamma=10, kernel=rbf; total time= 3.9min\n",
            "[CV] END .........................C=10, gamma=10, kernel=rbf; total time= 3.9min\n",
            "[CV] END .........................C=10, gamma=10, kernel=rbf; total time= 4.0min\n",
            "[CV] END ........................C=10, gamma=100, kernel=rbf; total time= 5.9min\n",
            "[CV] END ........................C=10, gamma=100, kernel=rbf; total time= 5.9min\n",
            "[CV] END ........................C=10, gamma=100, kernel=rbf; total time= 5.8min\n",
            "[CV] END ........................C=10, gamma=100, kernel=rbf; total time= 5.5min\n",
            "[CV] END ........................C=10, gamma=100, kernel=rbf; total time= 5.7min\n",
            "[CV] END .......................C=100, gamma=0.1, kernel=rbf; total time= 1.7min\n",
            "[CV] END .......................C=100, gamma=0.1, kernel=rbf; total time= 1.7min\n",
            "[CV] END .......................C=100, gamma=0.1, kernel=rbf; total time= 1.7min\n",
            "[CV] END .......................C=100, gamma=0.1, kernel=rbf; total time= 1.7min\n",
            "[CV] END .......................C=100, gamma=0.1, kernel=rbf; total time= 1.7min\n",
            "[CV] END .........................C=100, gamma=1, kernel=rbf; total time= 2.1min\n",
            "[CV] END .........................C=100, gamma=1, kernel=rbf; total time= 2.1min\n",
            "[CV] END .........................C=100, gamma=1, kernel=rbf; total time= 2.6min\n",
            "[CV] END .........................C=100, gamma=1, kernel=rbf; total time= 2.2min\n",
            "[CV] END .........................C=100, gamma=1, kernel=rbf; total time= 2.1min\n",
            "[CV] END ........................C=100, gamma=10, kernel=rbf; total time= 3.9min\n",
            "[CV] END ........................C=100, gamma=10, kernel=rbf; total time= 3.9min\n",
            "[CV] END ........................C=100, gamma=10, kernel=rbf; total time= 4.0min\n",
            "[CV] END ........................C=100, gamma=10, kernel=rbf; total time= 3.9min\n",
            "[CV] END ........................C=100, gamma=10, kernel=rbf; total time= 4.0min\n",
            "[CV] END .......................C=100, gamma=100, kernel=rbf; total time= 5.8min\n",
            "[CV] END .......................C=100, gamma=100, kernel=rbf; total time= 6.0min\n",
            "[CV] END .......................C=100, gamma=100, kernel=rbf; total time= 5.9min\n",
            "[CV] END .......................C=100, gamma=100, kernel=rbf; total time= 5.7min\n",
            "[CV] END .......................C=100, gamma=100, kernel=rbf; total time= 5.9min\n",
            "Best Parameters: {'C': 10, 'gamma': 0.1, 'kernel': 'rbf'}\n",
            "Best Score 0.9371916789534301\n"
          ]
        }
      ],
      "source": [
        "# Support Vector Machine without SMOTE and Feature Selection  80:20\n",
        "param_grid = {\n",
        "    'C': [0.01,0.1,1,10,100],\n",
        "    'kernel': ['rbf'],\n",
        "    'gamma': [0.1,1,10,100]\n",
        "}\n",
        "\n",
        "grid = GridSearchCV(SVC(), param_grid, refit=True, verbose=2)\n",
        "grid.fit(x_train80Stand, y_train80Stand)\n",
        "\n",
        "print(\"Best Parameters:\", grid.best_params_)\n",
        "print(\"Best Score\", grid.best_score_)"
      ]
    },
    {
      "cell_type": "code",
      "execution_count": null,
      "metadata": {
        "colab": {
          "base_uri": "https://localhost:8080/"
        },
        "id": "ADVXMpB4UCdV",
        "outputId": "d4287a78-cc90-4845-a824-81bdef9cf7ba"
      },
      "outputs": [
        {
          "name": "stdout",
          "output_type": "stream",
          "text": [
            "Accuracy: 0.9354\n",
            "Precision: 0.9508\n",
            "Recall: 0.2895\n",
            "F1 Score: 0.4439\n"
          ]
        }
      ],
      "source": [
        "# Train an SVM classifier 80 : 20\n",
        "svm_model = SVC(kernel='rbf', C=10,gamma=0.1, random_state=42)\n",
        "svm_model.fit(x_train80Stand, y_train80Stand)\n",
        "\n",
        "# Make predictions\n",
        "y_pred20 = svm_model.predict(x_test20Stand)\n",
        "\n",
        "# แสดง Classification Report  80 : 20\n",
        "accuracy = accuracy_score(y_test20Stand, y_pred20)\n",
        "precision = precision_score(y_test20Stand, y_pred20)\n",
        "recall = recall_score(y_test20Stand, y_pred20)\n",
        "f1 = f1_score(y_test20Stand, y_pred20)\n",
        "\n",
        "print(\"Accuracy: {:.4f}\".format(accuracy))\n",
        "print(\"Precision: {:.4f}\".format(precision))\n",
        "print(\"Recall: {:.4f}\".format(recall))\n",
        "print(\"F1 Score: {:.4f}\".format(f1))"
      ]
    },
    {
      "cell_type": "markdown",
      "metadata": {
        "id": "n2FrYf3wCuHY"
      },
      "source": [
        "# Support Vector Machine with SMOTE"
      ]
    },
    {
      "cell_type": "code",
      "execution_count": null,
      "metadata": {
        "colab": {
          "base_uri": "https://localhost:8080/"
        },
        "id": "aJ-2WCC9H2PH",
        "outputId": "1af6379e-8aa4-4d68-b169-1877087811b8"
      },
      "outputs": [
        {
          "name": "stdout",
          "output_type": "stream",
          "text": [
            "Fitting 5 folds for each of 20 candidates, totalling 100 fits\n",
            "[CV] END ......................C=0.01, gamma=0.1, kernel=rbf; total time= 3.0min\n",
            "[CV] END ......................C=0.01, gamma=0.1, kernel=rbf; total time= 3.0min\n",
            "[CV] END ......................C=0.01, gamma=0.1, kernel=rbf; total time= 3.1min\n",
            "[CV] END ......................C=0.01, gamma=0.1, kernel=rbf; total time= 3.1min\n",
            "[CV] END ......................C=0.01, gamma=0.1, kernel=rbf; total time= 3.1min\n",
            "[CV] END ........................C=0.01, gamma=1, kernel=rbf; total time= 4.0min\n",
            "[CV] END ........................C=0.01, gamma=1, kernel=rbf; total time= 4.1min\n",
            "[CV] END ........................C=0.01, gamma=1, kernel=rbf; total time= 4.1min\n",
            "[CV] END ........................C=0.01, gamma=1, kernel=rbf; total time= 4.1min\n",
            "[CV] END ........................C=0.01, gamma=1, kernel=rbf; total time= 4.1min\n",
            "[CV] END .......................C=0.01, gamma=10, kernel=rbf; total time= 3.1min\n",
            "[CV] END .......................C=0.01, gamma=10, kernel=rbf; total time= 3.6min\n",
            "[CV] END .......................C=0.01, gamma=10, kernel=rbf; total time= 3.6min\n",
            "[CV] END .......................C=0.01, gamma=10, kernel=rbf; total time= 3.6min\n",
            "[CV] END .......................C=0.01, gamma=10, kernel=rbf; total time= 3.7min\n",
            "[CV] END ......................C=0.01, gamma=100, kernel=rbf; total time= 4.2min\n",
            "[CV] END ......................C=0.01, gamma=100, kernel=rbf; total time= 4.3min\n",
            "[CV] END ......................C=0.01, gamma=100, kernel=rbf; total time= 4.3min\n",
            "[CV] END ......................C=0.01, gamma=100, kernel=rbf; total time= 4.2min\n",
            "[CV] END ......................C=0.01, gamma=100, kernel=rbf; total time= 4.2min\n",
            "[CV] END .......................C=0.1, gamma=0.1, kernel=rbf; total time= 2.5min\n",
            "[CV] END .......................C=0.1, gamma=0.1, kernel=rbf; total time= 2.5min\n",
            "[CV] END .......................C=0.1, gamma=0.1, kernel=rbf; total time= 2.5min\n",
            "[CV] END .......................C=0.1, gamma=0.1, kernel=rbf; total time= 2.5min\n",
            "[CV] END .......................C=0.1, gamma=0.1, kernel=rbf; total time= 2.5min\n",
            "[CV] END .........................C=0.1, gamma=1, kernel=rbf; total time= 3.6min\n",
            "[CV] END .........................C=0.1, gamma=1, kernel=rbf; total time= 3.7min\n",
            "[CV] END .........................C=0.1, gamma=1, kernel=rbf; total time= 3.7min\n",
            "[CV] END .........................C=0.1, gamma=1, kernel=rbf; total time= 3.7min\n",
            "[CV] END .........................C=0.1, gamma=1, kernel=rbf; total time= 3.6min\n",
            "[CV] END ........................C=0.1, gamma=10, kernel=rbf; total time= 3.5min\n",
            "[CV] END ........................C=0.1, gamma=10, kernel=rbf; total time= 3.2min\n",
            "[CV] END ........................C=0.1, gamma=10, kernel=rbf; total time= 3.7min\n",
            "[CV] END ........................C=0.1, gamma=10, kernel=rbf; total time= 3.2min\n",
            "[CV] END ........................C=0.1, gamma=10, kernel=rbf; total time= 3.7min\n",
            "[CV] END .......................C=0.1, gamma=100, kernel=rbf; total time= 4.1min\n",
            "[CV] END .......................C=0.1, gamma=100, kernel=rbf; total time= 4.2min\n",
            "[CV] END .......................C=0.1, gamma=100, kernel=rbf; total time= 4.2min\n",
            "[CV] END .......................C=0.1, gamma=100, kernel=rbf; total time= 4.2min\n",
            "[CV] END .......................C=0.1, gamma=100, kernel=rbf; total time= 4.1min\n",
            "[CV] END .........................C=1, gamma=0.1, kernel=rbf; total time= 2.0min\n",
            "[CV] END .........................C=1, gamma=0.1, kernel=rbf; total time= 2.1min\n",
            "[CV] END .........................C=1, gamma=0.1, kernel=rbf; total time= 2.0min\n",
            "[CV] END .........................C=1, gamma=0.1, kernel=rbf; total time= 2.0min\n",
            "[CV] END .........................C=1, gamma=0.1, kernel=rbf; total time= 2.0min\n",
            "[CV] END ...........................C=1, gamma=1, kernel=rbf; total time= 5.8min\n",
            "[CV] END ...........................C=1, gamma=1, kernel=rbf; total time= 6.4min\n",
            "[CV] END ...........................C=1, gamma=1, kernel=rbf; total time= 6.3min\n",
            "[CV] END ...........................C=1, gamma=1, kernel=rbf; total time= 6.4min\n",
            "[CV] END ...........................C=1, gamma=1, kernel=rbf; total time= 6.3min\n",
            "[CV] END ..........................C=1, gamma=10, kernel=rbf; total time= 9.0min\n",
            "[CV] END ..........................C=1, gamma=10, kernel=rbf; total time= 8.8min\n",
            "[CV] END ..........................C=1, gamma=10, kernel=rbf; total time= 9.0min\n",
            "[CV] END ..........................C=1, gamma=10, kernel=rbf; total time= 8.8min\n",
            "[CV] END ..........................C=1, gamma=10, kernel=rbf; total time= 8.7min\n",
            "[CV] END .........................C=1, gamma=100, kernel=rbf; total time=11.1min\n",
            "[CV] END .........................C=1, gamma=100, kernel=rbf; total time=10.4min\n",
            "[CV] END .........................C=1, gamma=100, kernel=rbf; total time=11.0min\n",
            "[CV] END .........................C=1, gamma=100, kernel=rbf; total time=10.9min\n",
            "[CV] END .........................C=1, gamma=100, kernel=rbf; total time=11.5min\n",
            "[CV] END ........................C=10, gamma=0.1, kernel=rbf; total time= 2.1min\n",
            "[CV] END ........................C=10, gamma=0.1, kernel=rbf; total time= 2.4min\n",
            "[CV] END ........................C=10, gamma=0.1, kernel=rbf; total time= 2.5min\n",
            "[CV] END ........................C=10, gamma=0.1, kernel=rbf; total time= 2.3min\n",
            "[CV] END ........................C=10, gamma=0.1, kernel=rbf; total time= 2.3min\n",
            "[CV] END ..........................C=10, gamma=1, kernel=rbf; total time= 6.8min\n",
            "[CV] END ..........................C=10, gamma=1, kernel=rbf; total time= 7.4min\n",
            "[CV] END ..........................C=10, gamma=1, kernel=rbf; total time= 7.5min\n",
            "[CV] END ..........................C=10, gamma=1, kernel=rbf; total time= 7.5min\n",
            "[CV] END ..........................C=10, gamma=1, kernel=rbf; total time= 7.4min\n",
            "[CV] END .........................C=10, gamma=10, kernel=rbf; total time=10.9min\n",
            "[CV] END .........................C=10, gamma=10, kernel=rbf; total time=10.8min\n",
            "[CV] END .........................C=10, gamma=10, kernel=rbf; total time=10.7min\n",
            "[CV] END .........................C=10, gamma=10, kernel=rbf; total time=10.5min\n",
            "[CV] END .........................C=10, gamma=10, kernel=rbf; total time= 9.8min\n",
            "[CV] END ........................C=10, gamma=100, kernel=rbf; total time=18.8min\n",
            "[CV] END ........................C=10, gamma=100, kernel=rbf; total time=20.4min\n",
            "[CV] END ........................C=10, gamma=100, kernel=rbf; total time=17.6min\n",
            "[CV] END ........................C=10, gamma=100, kernel=rbf; total time=17.3min\n",
            "[CV] END ........................C=10, gamma=100, kernel=rbf; total time=17.4min\n",
            "[CV] END .......................C=100, gamma=0.1, kernel=rbf; total time= 3.6min\n",
            "[CV] END .......................C=100, gamma=0.1, kernel=rbf; total time= 4.9min\n",
            "[CV] END .......................C=100, gamma=0.1, kernel=rbf; total time= 5.3min\n",
            "[CV] END .......................C=100, gamma=0.1, kernel=rbf; total time= 5.2min\n",
            "[CV] END .......................C=100, gamma=0.1, kernel=rbf; total time= 5.6min\n",
            "[CV] END .........................C=100, gamma=1, kernel=rbf; total time= 6.4min\n",
            "[CV] END .........................C=100, gamma=1, kernel=rbf; total time= 6.8min\n",
            "[CV] END .........................C=100, gamma=1, kernel=rbf; total time= 6.8min\n",
            "[CV] END .........................C=100, gamma=1, kernel=rbf; total time= 6.6min\n",
            "[CV] END .........................C=100, gamma=1, kernel=rbf; total time= 6.3min\n",
            "[CV] END ........................C=100, gamma=10, kernel=rbf; total time= 9.8min\n",
            "[CV] END ........................C=100, gamma=10, kernel=rbf; total time=10.7min\n",
            "[CV] END ........................C=100, gamma=10, kernel=rbf; total time=10.3min\n",
            "[CV] END ........................C=100, gamma=10, kernel=rbf; total time=10.2min\n",
            "[CV] END ........................C=100, gamma=10, kernel=rbf; total time=10.7min\n",
            "[CV] END .......................C=100, gamma=100, kernel=rbf; total time=20.3min\n",
            "[CV] END .......................C=100, gamma=100, kernel=rbf; total time=19.1min\n",
            "[CV] END .......................C=100, gamma=100, kernel=rbf; total time=18.5min\n",
            "[CV] END .......................C=100, gamma=100, kernel=rbf; total time=19.1min\n",
            "[CV] END .......................C=100, gamma=100, kernel=rbf; total time=18.2min\n",
            "Best Parameters: {'C': 10, 'gamma': 1, 'kernel': 'rbf'}\n",
            "Best Score 0.9620533326840125\n"
          ]
        }
      ],
      "source": [
        "# Support Vector Machine with SMOTE  70 :30\n",
        "param_grid = {\n",
        "    'C': [0.01,0.1,1,10,100],\n",
        "    'kernel': ['rbf'],\n",
        "    'gamma': [0.1,1,10,100]\n",
        "}\n",
        "\n",
        "grid = GridSearchCV(SVC(), param_grid, refit=True, verbose=2)\n",
        "grid.fit(x_train_smote70Stand, y_train_smote70Stand)\n",
        "\n",
        "print(\"Best Parameters:\", grid.best_params_)\n",
        "print(\"Best Score\", grid.best_score_)"
      ]
    },
    {
      "cell_type": "code",
      "execution_count": null,
      "metadata": {
        "id": "NRNd2uy4TUoF"
      },
      "outputs": [],
      "source": [
        "# Train an SVM  With SMOTE  70 : 30\n",
        "svm_model = SVC(kernel='rbf', C=10,gamma=1, random_state=42)\n",
        "svm_model.fit(x_train_smote70Stand, y_train_smote70Stand)\n",
        "\n",
        "# Make predictions\n",
        "y_pred_smote30 = svm_model.predict(y_test_smote30Stand)\n",
        "\n",
        "# แสดง Classification Report\n",
        "accuracy = accuracy_score(y_test_smote30Stand, y_pred_smote30)\n",
        "precision = precision_score(y_test_smote30Stand, y_pred_smote30)\n",
        "recall = recall_score(y_test_smote30Stand, y_pred_smote30)\n",
        "f1 = f1_score(y_test_smote30Stand, y_pred_smote30)\n",
        "\n",
        "print(\"Accuracy: {:.4f}\".format(accuracy))\n",
        "print(\"Precision: {:.4f}\".format(precision))\n",
        "print(\"Recall: {:.4f}\".format(recall))\n",
        "print(\"F1 Score: {:.4f}\".format(f1))"
      ]
    },
    {
      "cell_type": "code",
      "execution_count": null,
      "metadata": {
        "colab": {
          "base_uri": "https://localhost:8080/"
        },
        "id": "KvWhDcN0vNB9",
        "outputId": "766af0fd-8365-4cac-f119-7fc308764728"
      },
      "outputs": [
        {
          "name": "stdout",
          "output_type": "stream",
          "text": [
            "Fitting 5 folds for each of 20 candidates, totalling 100 fits\n",
            "[CV] END ......................C=0.01, gamma=0.1, kernel=rbf; total time= 4.3min\n",
            "[CV] END ......................C=0.01, gamma=0.1, kernel=rbf; total time= 4.9min\n",
            "[CV] END ......................C=0.01, gamma=0.1, kernel=rbf; total time= 4.5min\n",
            "[CV] END ......................C=0.01, gamma=0.1, kernel=rbf; total time= 4.2min\n",
            "[CV] END ......................C=0.01, gamma=0.1, kernel=rbf; total time= 4.3min\n",
            "[CV] END ........................C=0.01, gamma=1, kernel=rbf; total time= 5.9min\n",
            "[CV] END ........................C=0.01, gamma=1, kernel=rbf; total time= 5.6min\n",
            "[CV] END ........................C=0.01, gamma=1, kernel=rbf; total time= 5.5min\n",
            "[CV] END ........................C=0.01, gamma=1, kernel=rbf; total time= 5.6min\n",
            "[CV] END ........................C=0.01, gamma=1, kernel=rbf; total time= 5.7min\n",
            "[CV] END .......................C=0.01, gamma=10, kernel=rbf; total time= 5.0min\n",
            "[CV] END .......................C=0.01, gamma=10, kernel=rbf; total time= 5.1min\n",
            "[CV] END .......................C=0.01, gamma=10, kernel=rbf; total time= 5.1min\n",
            "[CV] END .......................C=0.01, gamma=10, kernel=rbf; total time= 5.1min\n",
            "[CV] END .......................C=0.01, gamma=10, kernel=rbf; total time= 5.1min\n",
            "[CV] END ......................C=0.01, gamma=100, kernel=rbf; total time= 5.9min\n",
            "[CV] END ......................C=0.01, gamma=100, kernel=rbf; total time= 6.3min\n",
            "[CV] END ......................C=0.01, gamma=100, kernel=rbf; total time= 6.0min\n",
            "[CV] END ......................C=0.01, gamma=100, kernel=rbf; total time= 6.4min\n",
            "[CV] END ......................C=0.01, gamma=100, kernel=rbf; total time= 6.5min\n",
            "[CV] END .......................C=0.1, gamma=0.1, kernel=rbf; total time= 3.9min\n",
            "[CV] END .......................C=0.1, gamma=0.1, kernel=rbf; total time= 4.0min\n",
            "[CV] END .......................C=0.1, gamma=0.1, kernel=rbf; total time= 3.8min\n",
            "[CV] END .......................C=0.1, gamma=0.1, kernel=rbf; total time= 3.6min\n",
            "[CV] END .......................C=0.1, gamma=0.1, kernel=rbf; total time= 3.6min\n",
            "[CV] END .........................C=0.1, gamma=1, kernel=rbf; total time= 5.3min\n",
            "[CV] END .........................C=0.1, gamma=1, kernel=rbf; total time= 5.4min\n",
            "[CV] END .........................C=0.1, gamma=1, kernel=rbf; total time= 5.7min\n",
            "[CV] END .........................C=0.1, gamma=1, kernel=rbf; total time= 5.7min\n",
            "[CV] END .........................C=0.1, gamma=1, kernel=rbf; total time= 5.5min\n",
            "[CV] END ........................C=0.1, gamma=10, kernel=rbf; total time= 5.0min\n",
            "[CV] END ........................C=0.1, gamma=10, kernel=rbf; total time= 5.1min\n",
            "[CV] END ........................C=0.1, gamma=10, kernel=rbf; total time= 5.1min\n",
            "[CV] END ........................C=0.1, gamma=10, kernel=rbf; total time= 5.1min\n",
            "[CV] END ........................C=0.1, gamma=10, kernel=rbf; total time= 5.0min\n",
            "[CV] END .......................C=0.1, gamma=100, kernel=rbf; total time= 5.6min\n",
            "[CV] END .......................C=0.1, gamma=100, kernel=rbf; total time= 5.7min\n",
            "[CV] END .......................C=0.1, gamma=100, kernel=rbf; total time= 5.8min\n",
            "[CV] END .......................C=0.1, gamma=100, kernel=rbf; total time= 5.7min\n",
            "[CV] END .......................C=0.1, gamma=100, kernel=rbf; total time= 5.8min\n",
            "[CV] END .........................C=1, gamma=0.1, kernel=rbf; total time= 2.8min\n",
            "[CV] END .........................C=1, gamma=0.1, kernel=rbf; total time= 3.0min\n",
            "[CV] END .........................C=1, gamma=0.1, kernel=rbf; total time= 3.0min\n",
            "[CV] END .........................C=1, gamma=0.1, kernel=rbf; total time= 2.9min\n",
            "[CV] END .........................C=1, gamma=0.1, kernel=rbf; total time= 3.0min\n",
            "[CV] END ...........................C=1, gamma=1, kernel=rbf; total time= 8.7min\n",
            "[CV] END ...........................C=1, gamma=1, kernel=rbf; total time= 8.8min\n",
            "[CV] END ...........................C=1, gamma=1, kernel=rbf; total time= 8.8min\n",
            "[CV] END ...........................C=1, gamma=1, kernel=rbf; total time= 8.9min\n",
            "[CV] END ...........................C=1, gamma=1, kernel=rbf; total time= 8.9min\n",
            "[CV] END ..........................C=1, gamma=10, kernel=rbf; total time=18.2min\n",
            "[CV] END ..........................C=1, gamma=10, kernel=rbf; total time=18.9min\n",
            "[CV] END ..........................C=1, gamma=10, kernel=rbf; total time=19.6min\n",
            "[CV] END ..........................C=1, gamma=10, kernel=rbf; total time=17.3min\n",
            "[CV] END ..........................C=1, gamma=10, kernel=rbf; total time=19.0min\n",
            "[CV] END .........................C=1, gamma=100, kernel=rbf; total time=26.3min\n",
            "[CV] END .........................C=1, gamma=100, kernel=rbf; total time=19.4min\n",
            "[CV] END .........................C=1, gamma=100, kernel=rbf; total time=20.6min\n",
            "[CV] END .........................C=1, gamma=100, kernel=rbf; total time=18.7min\n",
            "[CV] END .........................C=1, gamma=100, kernel=rbf; total time=18.2min\n",
            "[CV] END ........................C=10, gamma=0.1, kernel=rbf; total time= 3.3min\n",
            "[CV] END ........................C=10, gamma=0.1, kernel=rbf; total time= 3.4min\n",
            "[CV] END ........................C=10, gamma=0.1, kernel=rbf; total time= 3.4min\n",
            "[CV] END ........................C=10, gamma=0.1, kernel=rbf; total time= 3.7min\n",
            "[CV] END ........................C=10, gamma=0.1, kernel=rbf; total time= 3.4min\n",
            "[CV] END ..........................C=10, gamma=1, kernel=rbf; total time= 8.0min\n",
            "[CV] END ..........................C=10, gamma=1, kernel=rbf; total time= 8.5min\n",
            "[CV] END ..........................C=10, gamma=1, kernel=rbf; total time=11.0min\n",
            "[CV] END ..........................C=10, gamma=1, kernel=rbf; total time= 8.8min\n",
            "[CV] END ..........................C=10, gamma=1, kernel=rbf; total time= 9.0min\n",
            "[CV] END .........................C=10, gamma=10, kernel=rbf; total time=20.0min\n",
            "[CV] END .........................C=10, gamma=10, kernel=rbf; total time=19.7min\n",
            "[CV] END .........................C=10, gamma=10, kernel=rbf; total time=19.7min\n",
            "[CV] END .........................C=10, gamma=10, kernel=rbf; total time=19.4min\n",
            "[CV] END .........................C=10, gamma=10, kernel=rbf; total time=19.4min\n",
            "[CV] END ........................C=10, gamma=100, kernel=rbf; total time=21.0min\n",
            "[CV] END ........................C=10, gamma=100, kernel=rbf; total time=22.7min\n",
            "[CV] END ........................C=10, gamma=100, kernel=rbf; total time=22.9min\n",
            "[CV] END ........................C=10, gamma=100, kernel=rbf; total time=22.7min\n",
            "[CV] END ........................C=10, gamma=100, kernel=rbf; total time=23.3min\n",
            "[CV] END .......................C=100, gamma=0.1, kernel=rbf; total time= 5.4min\n",
            "[CV] END .......................C=100, gamma=0.1, kernel=rbf; total time= 7.1min\n",
            "[CV] END .......................C=100, gamma=0.1, kernel=rbf; total time= 6.9min\n",
            "[CV] END .......................C=100, gamma=0.1, kernel=rbf; total time= 6.8min\n",
            "[CV] END .......................C=100, gamma=0.1, kernel=rbf; total time= 6.8min\n",
            "[CV] END .........................C=100, gamma=1, kernel=rbf; total time= 8.3min\n",
            "[CV] END .........................C=100, gamma=1, kernel=rbf; total time= 8.5min\n",
            "[CV] END .........................C=100, gamma=1, kernel=rbf; total time= 8.1min\n",
            "[CV] END .........................C=100, gamma=1, kernel=rbf; total time= 8.7min\n",
            "[CV] END .........................C=100, gamma=1, kernel=rbf; total time= 8.7min\n",
            "[CV] END ........................C=100, gamma=10, kernel=rbf; total time=19.6min\n",
            "[CV] END ........................C=100, gamma=10, kernel=rbf; total time=19.8min\n",
            "[CV] END ........................C=100, gamma=10, kernel=rbf; total time=20.0min\n",
            "[CV] END ........................C=100, gamma=10, kernel=rbf; total time=20.6min\n",
            "[CV] END ........................C=100, gamma=10, kernel=rbf; total time=20.7min\n",
            "[CV] END .......................C=100, gamma=100, kernel=rbf; total time=21.3min\n",
            "[CV] END .......................C=100, gamma=100, kernel=rbf; total time=24.0min\n",
            "[CV] END .......................C=100, gamma=100, kernel=rbf; total time=23.3min\n",
            "[CV] END .......................C=100, gamma=100, kernel=rbf; total time=23.4min\n",
            "[CV] END .......................C=100, gamma=100, kernel=rbf; total time=24.0min\n",
            "Best Parameters: {'C': 10, 'gamma': 1, 'kernel': 'rbf'}\n",
            "Best Score 0.959171086283018\n"
          ]
        }
      ],
      "source": [
        "# Support Vector Machine with SMOTE  80:20\n",
        "param_grid = {\n",
        "    'C': [0.01,0.1,1,10,100],\n",
        "    'kernel': ['rbf'],\n",
        "    'gamma': [0.1,1,10,100]\n",
        "}\n",
        "\n",
        "grid = GridSearchCV(SVC(), param_grid, refit=True, verbose=2)\n",
        "grid.fit(x_train_smote80Stand, y_train_smote80Stand)\n",
        "\n",
        "print(\"Best Parameters:\", grid.best_params_)\n",
        "print(\"Best Score\", grid.best_score_)"
      ]
    },
    {
      "cell_type": "code",
      "execution_count": null,
      "metadata": {
        "id": "wlgCDJr1Rube"
      },
      "outputs": [],
      "source": [
        "# Train an SVM  With SMOTE  80 : 20\n",
        "svm_model = SVC(kernel='rbf', C=10,gamma=1, random_state=42)\n",
        "svm_model.fit(x_train_smote80Stand, y_train_smote80Stand)\n",
        "\n",
        "# Make predictions\n",
        "y_pred_smote20 = svm_model.predict(x_test_smote20Stand)\n",
        "\n",
        "# แสดง Classification Report\n",
        "accuracy = accuracy_score(y_test_smote20Stand, y_pred_smote20)\n",
        "precision = precision_score(y_test_smote20Stand, y_pred_smote20)\n",
        "recall = recall_score(y_test_smote20Stand, y_pred_smote20)\n",
        "f1 = f1_score(y_test_smote20Stand, y_pred_smote20)\n",
        "\n",
        "print(\"Accuracy: {:.4f}\".format(accuracy))\n",
        "print(\"Precision: {:.4f}\".format(precision))\n",
        "print(\"Recall: {:.4f}\".format(recall))\n",
        "print(\"F1 Score: {:.4f}\".format(f1))\n"
      ]
    },
    {
      "cell_type": "markdown",
      "metadata": {
        "id": "wyAjhlXlC8uI"
      },
      "source": [
        "# Support Vector Machine with Feature Selection"
      ]
    },
    {
      "cell_type": "code",
      "execution_count": null,
      "metadata": {
        "colab": {
          "base_uri": "https://localhost:8080/"
        },
        "id": "oWMW00AKHN4T",
        "outputId": "be564c41-52ab-41fe-813d-1cff00ea4dac"
      },
      "outputs": [
        {
          "name": "stdout",
          "output_type": "stream",
          "text": [
            "Fitting 5 folds for each of 20 candidates, totalling 100 fits\n",
            "[CV] END ......................C=0.01, gamma=0.1, kernel=rbf; total time=   7.3s\n",
            "[CV] END ......................C=0.01, gamma=0.1, kernel=rbf; total time=   7.1s\n",
            "[CV] END ......................C=0.01, gamma=0.1, kernel=rbf; total time=   7.0s\n",
            "[CV] END ......................C=0.01, gamma=0.1, kernel=rbf; total time=   6.7s\n",
            "[CV] END ......................C=0.01, gamma=0.1, kernel=rbf; total time=   7.3s\n",
            "[CV] END ........................C=0.01, gamma=1, kernel=rbf; total time=   7.3s\n",
            "[CV] END ........................C=0.01, gamma=1, kernel=rbf; total time=   7.3s\n",
            "[CV] END ........................C=0.01, gamma=1, kernel=rbf; total time=   7.3s\n",
            "[CV] END ........................C=0.01, gamma=1, kernel=rbf; total time=   7.3s\n",
            "[CV] END ........................C=0.01, gamma=1, kernel=rbf; total time=   7.5s\n",
            "[CV] END .......................C=0.01, gamma=10, kernel=rbf; total time=   6.0s\n",
            "[CV] END .......................C=0.01, gamma=10, kernel=rbf; total time=   6.0s\n",
            "[CV] END .......................C=0.01, gamma=10, kernel=rbf; total time=   6.4s\n",
            "[CV] END .......................C=0.01, gamma=10, kernel=rbf; total time=   5.8s\n",
            "[CV] END .......................C=0.01, gamma=10, kernel=rbf; total time=   6.0s\n",
            "[CV] END ......................C=0.01, gamma=100, kernel=rbf; total time=   6.2s\n",
            "[CV] END ......................C=0.01, gamma=100, kernel=rbf; total time=   6.2s\n",
            "[CV] END ......................C=0.01, gamma=100, kernel=rbf; total time=   6.3s\n",
            "[CV] END ......................C=0.01, gamma=100, kernel=rbf; total time=   6.2s\n",
            "[CV] END ......................C=0.01, gamma=100, kernel=rbf; total time=   6.3s\n",
            "[CV] END .......................C=0.1, gamma=0.1, kernel=rbf; total time=   7.4s\n",
            "[CV] END .......................C=0.1, gamma=0.1, kernel=rbf; total time=   7.0s\n",
            "[CV] END .......................C=0.1, gamma=0.1, kernel=rbf; total time=   7.1s\n",
            "[CV] END .......................C=0.1, gamma=0.1, kernel=rbf; total time=   7.2s\n",
            "[CV] END .......................C=0.1, gamma=0.1, kernel=rbf; total time=   7.2s\n",
            "[CV] END .........................C=0.1, gamma=1, kernel=rbf; total time=   7.2s\n",
            "[CV] END .........................C=0.1, gamma=1, kernel=rbf; total time=   7.3s\n",
            "[CV] END .........................C=0.1, gamma=1, kernel=rbf; total time=   7.3s\n",
            "[CV] END .........................C=0.1, gamma=1, kernel=rbf; total time=   7.1s\n",
            "[CV] END .........................C=0.1, gamma=1, kernel=rbf; total time=   7.2s\n",
            "[CV] END ........................C=0.1, gamma=10, kernel=rbf; total time=   5.9s\n",
            "[CV] END ........................C=0.1, gamma=10, kernel=rbf; total time=   6.0s\n",
            "[CV] END ........................C=0.1, gamma=10, kernel=rbf; total time=   6.1s\n",
            "[CV] END ........................C=0.1, gamma=10, kernel=rbf; total time=   5.8s\n",
            "[CV] END ........................C=0.1, gamma=10, kernel=rbf; total time=   6.1s\n",
            "[CV] END .......................C=0.1, gamma=100, kernel=rbf; total time=   5.7s\n",
            "[CV] END .......................C=0.1, gamma=100, kernel=rbf; total time=   5.6s\n",
            "[CV] END .......................C=0.1, gamma=100, kernel=rbf; total time=   5.7s\n",
            "[CV] END .......................C=0.1, gamma=100, kernel=rbf; total time=   5.6s\n",
            "[CV] END .......................C=0.1, gamma=100, kernel=rbf; total time=   5.6s\n",
            "[CV] END .........................C=1, gamma=0.1, kernel=rbf; total time=   7.5s\n",
            "[CV] END .........................C=1, gamma=0.1, kernel=rbf; total time=   7.5s\n",
            "[CV] END .........................C=1, gamma=0.1, kernel=rbf; total time=   8.0s\n",
            "[CV] END .........................C=1, gamma=0.1, kernel=rbf; total time=   7.6s\n",
            "[CV] END .........................C=1, gamma=0.1, kernel=rbf; total time=   7.3s\n",
            "[CV] END ...........................C=1, gamma=1, kernel=rbf; total time=   8.8s\n",
            "[CV] END ...........................C=1, gamma=1, kernel=rbf; total time=   8.7s\n",
            "[CV] END ...........................C=1, gamma=1, kernel=rbf; total time=   8.4s\n",
            "[CV] END ...........................C=1, gamma=1, kernel=rbf; total time=   8.0s\n",
            "[CV] END ...........................C=1, gamma=1, kernel=rbf; total time=   8.1s\n",
            "[CV] END ..........................C=1, gamma=10, kernel=rbf; total time=   8.9s\n",
            "[CV] END ..........................C=1, gamma=10, kernel=rbf; total time=  12.1s\n",
            "[CV] END ..........................C=1, gamma=10, kernel=rbf; total time=  10.1s\n",
            "[CV] END ..........................C=1, gamma=10, kernel=rbf; total time=   9.5s\n",
            "[CV] END ..........................C=1, gamma=10, kernel=rbf; total time=  10.6s\n",
            "[CV] END .........................C=1, gamma=100, kernel=rbf; total time=   4.9s\n",
            "[CV] END .........................C=1, gamma=100, kernel=rbf; total time=   4.9s\n",
            "[CV] END .........................C=1, gamma=100, kernel=rbf; total time=   4.9s\n",
            "[CV] END .........................C=1, gamma=100, kernel=rbf; total time=   4.8s\n",
            "[CV] END .........................C=1, gamma=100, kernel=rbf; total time=   4.9s\n",
            "[CV] END ........................C=10, gamma=0.1, kernel=rbf; total time=   9.0s\n",
            "[CV] END ........................C=10, gamma=0.1, kernel=rbf; total time=   8.1s\n",
            "[CV] END ........................C=10, gamma=0.1, kernel=rbf; total time=   7.8s\n",
            "[CV] END ........................C=10, gamma=0.1, kernel=rbf; total time=   8.3s\n",
            "[CV] END ........................C=10, gamma=0.1, kernel=rbf; total time=   8.3s\n",
            "[CV] END ..........................C=10, gamma=1, kernel=rbf; total time=  16.6s\n",
            "[CV] END ..........................C=10, gamma=1, kernel=rbf; total time=  15.4s\n",
            "[CV] END ..........................C=10, gamma=1, kernel=rbf; total time=  16.1s\n",
            "[CV] END ..........................C=10, gamma=1, kernel=rbf; total time=  17.5s\n",
            "[CV] END ..........................C=10, gamma=1, kernel=rbf; total time=  17.1s\n",
            "[CV] END .........................C=10, gamma=10, kernel=rbf; total time=  48.6s\n",
            "[CV] END .........................C=10, gamma=10, kernel=rbf; total time=  32.5s\n",
            "[CV] END .........................C=10, gamma=10, kernel=rbf; total time=  49.7s\n",
            "[CV] END .........................C=10, gamma=10, kernel=rbf; total time=  42.5s\n",
            "[CV] END .........................C=10, gamma=10, kernel=rbf; total time=  40.9s\n",
            "[CV] END ........................C=10, gamma=100, kernel=rbf; total time=   5.1s\n",
            "[CV] END ........................C=10, gamma=100, kernel=rbf; total time=   5.0s\n",
            "[CV] END ........................C=10, gamma=100, kernel=rbf; total time=   5.1s\n",
            "[CV] END ........................C=10, gamma=100, kernel=rbf; total time=   5.0s\n",
            "[CV] END ........................C=10, gamma=100, kernel=rbf; total time=   5.1s\n",
            "[CV] END .......................C=100, gamma=0.1, kernel=rbf; total time=  30.5s\n",
            "[CV] END .......................C=100, gamma=0.1, kernel=rbf; total time=  23.6s\n",
            "[CV] END .......................C=100, gamma=0.1, kernel=rbf; total time=  47.6s\n",
            "[CV] END .......................C=100, gamma=0.1, kernel=rbf; total time=  24.1s\n",
            "[CV] END .......................C=100, gamma=0.1, kernel=rbf; total time=  27.7s\n",
            "[CV] END .........................C=100, gamma=1, kernel=rbf; total time= 1.5min\n",
            "[CV] END .........................C=100, gamma=1, kernel=rbf; total time= 1.5min\n",
            "[CV] END .........................C=100, gamma=1, kernel=rbf; total time= 1.7min\n",
            "[CV] END .........................C=100, gamma=1, kernel=rbf; total time= 1.8min\n",
            "[CV] END .........................C=100, gamma=1, kernel=rbf; total time= 1.7min\n",
            "[CV] END ........................C=100, gamma=10, kernel=rbf; total time= 4.2min\n",
            "[CV] END ........................C=100, gamma=10, kernel=rbf; total time= 3.8min\n",
            "[CV] END ........................C=100, gamma=10, kernel=rbf; total time= 3.1min\n",
            "[CV] END ........................C=100, gamma=10, kernel=rbf; total time= 4.0min\n",
            "[CV] END ........................C=100, gamma=10, kernel=rbf; total time= 3.2min\n",
            "[CV] END .......................C=100, gamma=100, kernel=rbf; total time=   5.0s\n",
            "[CV] END .......................C=100, gamma=100, kernel=rbf; total time=   5.0s\n",
            "[CV] END .......................C=100, gamma=100, kernel=rbf; total time=   5.0s\n",
            "[CV] END .......................C=100, gamma=100, kernel=rbf; total time=   5.0s\n",
            "[CV] END .......................C=100, gamma=100, kernel=rbf; total time=   4.9s\n",
            "Best Parameters: {'C': 1, 'gamma': 10, 'kernel': 'rbf'}\n",
            "Best Score 0.9362044893794366\n"
          ]
        }
      ],
      "source": [
        "# Support Vector Machine with Feature Selection 70 : 30\n",
        "param_grid = {\n",
        "    'C': [0.01,0.1,1,10,100],\n",
        "    'kernel': ['rbf'],\n",
        "    'gamma': [0.1,1,10,100]\n",
        "}\n",
        "\n",
        "grid = GridSearchCV(SVC(), param_grid, refit=True, verbose=2)\n",
        "grid.fit(x_train_selected70Stand,y_train70Stand)\n",
        "\n",
        "print(\"Best Parameters:\", grid.best_params_)\n",
        "print(\"Best Score\", grid.best_score_)"
      ]
    },
    {
      "cell_type": "code",
      "execution_count": null,
      "metadata": {
        "colab": {
          "base_uri": "https://localhost:8080/"
        },
        "id": "ExhjafOwat_r",
        "outputId": "92cfd038-7978-4b78-b1b9-35cdb18ddfd9"
      },
      "outputs": [
        {
          "name": "stdout",
          "output_type": "stream",
          "text": [
            "Accuracy: 0.9312\n",
            "Precision: 0.9758\n",
            "Recall: 0.2449\n",
            "F1 Score: 0.3915\n"
          ]
        }
      ],
      "source": [
        "# Train an SVM classifier\n",
        "svm_model = SVC(kernel='rbf', C=1,gamma=10, random_state=42)\n",
        "svm_model.fit(x_train_selected70Stand,y_train70Stand)\n",
        "\n",
        "# Make predictions\n",
        "y_pred30 = svm_model.predict(x_test_selected30Stand)\n",
        "\n",
        "# แสดง Classification Report\n",
        "accuracy = accuracy_score(y_test30Stand, y_pred30)\n",
        "precision = precision_score(y_test30Stand, y_pred30)\n",
        "recall = recall_score(y_test30Stand, y_pred30)\n",
        "f1 = f1_score(y_test30Stand, y_pred30)\n",
        "\n",
        "print(\"Accuracy: {:.4f}\".format(accuracy))\n",
        "print(\"Precision: {:.4f}\".format(precision))\n",
        "print(\"Recall: {:.4f}\".format(recall))\n",
        "print(\"F1 Score: {:.4f}\".format(f1))"
      ]
    },
    {
      "cell_type": "code",
      "execution_count": null,
      "metadata": {
        "colab": {
          "base_uri": "https://localhost:8080/"
        },
        "id": "PjiXkjgSdJkn",
        "outputId": "59d80ada-4157-41c2-f2f4-25f06b9e454b"
      },
      "outputs": [
        {
          "name": "stdout",
          "output_type": "stream",
          "text": [
            "Fitting 5 folds for each of 20 candidates, totalling 100 fits\n",
            "[CV] END ......................C=0.01, gamma=0.1, kernel=rbf; total time=   8.8s\n",
            "[CV] END ......................C=0.01, gamma=0.1, kernel=rbf; total time=   9.0s\n",
            "[CV] END ......................C=0.01, gamma=0.1, kernel=rbf; total time=   8.7s\n",
            "[CV] END ......................C=0.01, gamma=0.1, kernel=rbf; total time=   8.4s\n",
            "[CV] END ......................C=0.01, gamma=0.1, kernel=rbf; total time=   8.8s\n",
            "[CV] END ........................C=0.01, gamma=1, kernel=rbf; total time=   9.3s\n",
            "[CV] END ........................C=0.01, gamma=1, kernel=rbf; total time=   9.5s\n",
            "[CV] END ........................C=0.01, gamma=1, kernel=rbf; total time=   9.6s\n",
            "[CV] END ........................C=0.01, gamma=1, kernel=rbf; total time=   9.3s\n",
            "[CV] END ........................C=0.01, gamma=1, kernel=rbf; total time=   9.5s\n",
            "[CV] END .......................C=0.01, gamma=10, kernel=rbf; total time=   8.5s\n",
            "[CV] END .......................C=0.01, gamma=10, kernel=rbf; total time=   8.2s\n",
            "[CV] END .......................C=0.01, gamma=10, kernel=rbf; total time=   8.2s\n",
            "[CV] END .......................C=0.01, gamma=10, kernel=rbf; total time=   8.3s\n",
            "[CV] END .......................C=0.01, gamma=10, kernel=rbf; total time=   8.1s\n",
            "[CV] END ......................C=0.01, gamma=100, kernel=rbf; total time=   8.0s\n",
            "[CV] END ......................C=0.01, gamma=100, kernel=rbf; total time=   8.0s\n",
            "[CV] END ......................C=0.01, gamma=100, kernel=rbf; total time=   8.0s\n",
            "[CV] END ......................C=0.01, gamma=100, kernel=rbf; total time=   8.0s\n",
            "[CV] END ......................C=0.01, gamma=100, kernel=rbf; total time=   8.1s\n",
            "[CV] END .......................C=0.1, gamma=0.1, kernel=rbf; total time=   9.7s\n",
            "[CV] END .......................C=0.1, gamma=0.1, kernel=rbf; total time=   9.4s\n",
            "[CV] END .......................C=0.1, gamma=0.1, kernel=rbf; total time=   9.2s\n",
            "[CV] END .......................C=0.1, gamma=0.1, kernel=rbf; total time=   9.2s\n",
            "[CV] END .......................C=0.1, gamma=0.1, kernel=rbf; total time=   9.3s\n",
            "[CV] END .........................C=0.1, gamma=1, kernel=rbf; total time=   9.7s\n",
            "[CV] END .........................C=0.1, gamma=1, kernel=rbf; total time=   9.4s\n",
            "[CV] END .........................C=0.1, gamma=1, kernel=rbf; total time=   9.5s\n",
            "[CV] END .........................C=0.1, gamma=1, kernel=rbf; total time=   9.9s\n",
            "[CV] END .........................C=0.1, gamma=1, kernel=rbf; total time=   9.7s\n",
            "[CV] END ........................C=0.1, gamma=10, kernel=rbf; total time=   7.7s\n",
            "[CV] END ........................C=0.1, gamma=10, kernel=rbf; total time=   7.9s\n",
            "[CV] END ........................C=0.1, gamma=10, kernel=rbf; total time=   7.6s\n",
            "[CV] END ........................C=0.1, gamma=10, kernel=rbf; total time=   8.0s\n",
            "[CV] END ........................C=0.1, gamma=10, kernel=rbf; total time=   7.9s\n",
            "[CV] END .......................C=0.1, gamma=100, kernel=rbf; total time=   7.0s\n",
            "[CV] END .......................C=0.1, gamma=100, kernel=rbf; total time=   7.0s\n",
            "[CV] END .......................C=0.1, gamma=100, kernel=rbf; total time=   7.0s\n",
            "[CV] END .......................C=0.1, gamma=100, kernel=rbf; total time=   6.9s\n",
            "[CV] END .......................C=0.1, gamma=100, kernel=rbf; total time=   7.0s\n",
            "[CV] END .........................C=1, gamma=0.1, kernel=rbf; total time=   9.9s\n",
            "[CV] END .........................C=1, gamma=0.1, kernel=rbf; total time=   9.6s\n",
            "[CV] END .........................C=1, gamma=0.1, kernel=rbf; total time=  10.0s\n",
            "[CV] END .........................C=1, gamma=0.1, kernel=rbf; total time=   9.3s\n",
            "[CV] END .........................C=1, gamma=0.1, kernel=rbf; total time=   9.9s\n",
            "[CV] END ...........................C=1, gamma=1, kernel=rbf; total time=   9.8s\n",
            "[CV] END ...........................C=1, gamma=1, kernel=rbf; total time=  10.3s\n",
            "[CV] END ...........................C=1, gamma=1, kernel=rbf; total time=   9.8s\n",
            "[CV] END ...........................C=1, gamma=1, kernel=rbf; total time=   9.7s\n",
            "[CV] END ...........................C=1, gamma=1, kernel=rbf; total time=   9.6s\n",
            "[CV] END ..........................C=1, gamma=10, kernel=rbf; total time=  13.9s\n",
            "[CV] END ..........................C=1, gamma=10, kernel=rbf; total time=  14.0s\n",
            "[CV] END ..........................C=1, gamma=10, kernel=rbf; total time=  14.7s\n",
            "[CV] END ..........................C=1, gamma=10, kernel=rbf; total time=  12.5s\n",
            "[CV] END ..........................C=1, gamma=10, kernel=rbf; total time=  13.7s\n",
            "[CV] END .........................C=1, gamma=100, kernel=rbf; total time=   6.2s\n",
            "[CV] END .........................C=1, gamma=100, kernel=rbf; total time=   6.3s\n",
            "[CV] END .........................C=1, gamma=100, kernel=rbf; total time=   6.2s\n",
            "[CV] END .........................C=1, gamma=100, kernel=rbf; total time=   6.2s\n",
            "[CV] END .........................C=1, gamma=100, kernel=rbf; total time=   6.1s\n",
            "[CV] END ........................C=10, gamma=0.1, kernel=rbf; total time=  10.4s\n",
            "[CV] END ........................C=10, gamma=0.1, kernel=rbf; total time=  10.8s\n",
            "[CV] END ........................C=10, gamma=0.1, kernel=rbf; total time=  10.7s\n",
            "[CV] END ........................C=10, gamma=0.1, kernel=rbf; total time=  12.2s\n",
            "[CV] END ........................C=10, gamma=0.1, kernel=rbf; total time=  10.1s\n",
            "[CV] END ..........................C=10, gamma=1, kernel=rbf; total time=  19.9s\n",
            "[CV] END ..........................C=10, gamma=1, kernel=rbf; total time=  18.4s\n",
            "[CV] END ..........................C=10, gamma=1, kernel=rbf; total time=  18.0s\n",
            "[CV] END ..........................C=10, gamma=1, kernel=rbf; total time=  18.0s\n",
            "[CV] END ..........................C=10, gamma=1, kernel=rbf; total time=  20.9s\n",
            "[CV] END .........................C=10, gamma=10, kernel=rbf; total time=  53.4s\n",
            "[CV] END .........................C=10, gamma=10, kernel=rbf; total time=  38.7s\n",
            "[CV] END .........................C=10, gamma=10, kernel=rbf; total time=  42.1s\n",
            "[CV] END .........................C=10, gamma=10, kernel=rbf; total time=  48.3s\n",
            "[CV] END .........................C=10, gamma=10, kernel=rbf; total time=  46.7s\n",
            "[CV] END ........................C=10, gamma=100, kernel=rbf; total time=   6.4s\n",
            "[CV] END ........................C=10, gamma=100, kernel=rbf; total time=   6.6s\n",
            "[CV] END ........................C=10, gamma=100, kernel=rbf; total time=   6.4s\n",
            "[CV] END ........................C=10, gamma=100, kernel=rbf; total time=   6.5s\n",
            "[CV] END ........................C=10, gamma=100, kernel=rbf; total time=   6.4s\n",
            "[CV] END .......................C=100, gamma=0.1, kernel=rbf; total time=  22.3s\n",
            "[CV] END .......................C=100, gamma=0.1, kernel=rbf; total time=  29.3s\n",
            "[CV] END .......................C=100, gamma=0.1, kernel=rbf; total time=  19.0s\n",
            "[CV] END .......................C=100, gamma=0.1, kernel=rbf; total time=  29.5s\n",
            "[CV] END .......................C=100, gamma=0.1, kernel=rbf; total time=  22.0s\n",
            "[CV] END .........................C=100, gamma=1, kernel=rbf; total time= 3.4min\n",
            "[CV] END .........................C=100, gamma=1, kernel=rbf; total time= 2.2min\n",
            "[CV] END .........................C=100, gamma=1, kernel=rbf; total time= 2.1min\n",
            "[CV] END .........................C=100, gamma=1, kernel=rbf; total time= 2.3min\n",
            "[CV] END .........................C=100, gamma=1, kernel=rbf; total time= 2.0min\n",
            "[CV] END ........................C=100, gamma=10, kernel=rbf; total time= 5.0min\n",
            "[CV] END ........................C=100, gamma=10, kernel=rbf; total time= 4.2min\n",
            "[CV] END ........................C=100, gamma=10, kernel=rbf; total time= 4.8min\n",
            "[CV] END ........................C=100, gamma=10, kernel=rbf; total time= 3.9min\n",
            "[CV] END ........................C=100, gamma=10, kernel=rbf; total time= 2.5min\n",
            "[CV] END .......................C=100, gamma=100, kernel=rbf; total time=   6.4s\n",
            "[CV] END .......................C=100, gamma=100, kernel=rbf; total time=   6.5s\n",
            "[CV] END .......................C=100, gamma=100, kernel=rbf; total time=   6.4s\n",
            "[CV] END .......................C=100, gamma=100, kernel=rbf; total time=   6.4s\n",
            "[CV] END .......................C=100, gamma=100, kernel=rbf; total time=   6.4s\n",
            "Best Parameters: {'C': 1, 'gamma': 10, 'kernel': 'rbf'}\n",
            "Best Score 0.9354705752020036\n"
          ]
        }
      ],
      "source": [
        "# Support Vector Machine with Feature Selection 80 : 20\n",
        "param_grid = {\n",
        "    'C': [0.01,0.1,1,10,100],\n",
        "    'kernel': ['rbf'],\n",
        "    'gamma': [0.1,1,10,100]\n",
        "}\n",
        "\n",
        "grid = GridSearchCV(SVC(), param_grid, refit=True, verbose=2)\n",
        "grid.fit(x_train_selected80Stand, y_train80Stand)\n",
        "\n",
        "print(\"Best Parameters:\", grid.best_params_)\n",
        "print(\"Best Score\", grid.best_score_)"
      ]
    },
    {
      "cell_type": "code",
      "execution_count": null,
      "metadata": {
        "colab": {
          "base_uri": "https://localhost:8080/"
        },
        "id": "X_5rxTjYdQYj",
        "outputId": "53d44585-ffba-44d3-806e-24a9465db3a7"
      },
      "outputs": [
        {
          "name": "stdout",
          "output_type": "stream",
          "text": [
            "Accuracy: 0.9342\n",
            "Precision: 0.9830\n",
            "Recall: 0.2664\n",
            "F1 Score: 0.4192\n"
          ]
        }
      ],
      "source": [
        "# Train an SVM classifier 80 : 20\n",
        "svm_model = SVC(kernel='rbf', C=1,gamma=10, random_state=42)\n",
        "svm_model.fit(x_train_selected80Stand, y_train80Stand)\n",
        "\n",
        "# Make predictions\n",
        "y_pred20 = svm_model.predict(x_test_selected20Stand)\n",
        "\n",
        "# แสดง Classification Report\n",
        "accuracy = accuracy_score(y_test20Stand, y_pred20)\n",
        "precision = precision_score(y_test20Stand, y_pred20)\n",
        "recall = recall_score(y_test20Stand, y_pred20)\n",
        "f1 = f1_score(y_test20Stand, y_pred20)\n",
        "\n",
        "print(\"Accuracy: {:.4f}\".format(accuracy))\n",
        "print(\"Precision: {:.4f}\".format(precision))\n",
        "print(\"Recall: {:.4f}\".format(recall))\n",
        "print(\"F1 Score: {:.4f}\".format(f1))"
      ]
    },
    {
      "cell_type": "markdown",
      "metadata": {
        "id": "Mj477YzZDHmj"
      },
      "source": [
        "# Support Vector Machine with SMOTE and Feature Selection\n"
      ]
    },
    {
      "cell_type": "code",
      "execution_count": null,
      "metadata": {
        "colab": {
          "base_uri": "https://localhost:8080/"
        },
        "id": "eNSRibeg_bZu",
        "outputId": "cbc990b2-27de-49ce-861b-35224ee0c4db"
      },
      "outputs": [
        {
          "name": "stdout",
          "output_type": "stream",
          "text": [
            "Fitting 5 folds for each of 20 candidates, totalling 100 fits\n",
            "[CV] END ......................C=0.01, gamma=0.1, kernel=rbf; total time= 2.2min\n",
            "[CV] END ......................C=0.01, gamma=0.1, kernel=rbf; total time= 2.1min\n",
            "[CV] END ......................C=0.01, gamma=0.1, kernel=rbf; total time= 2.1min\n",
            "[CV] END ......................C=0.01, gamma=0.1, kernel=rbf; total time= 2.0min\n",
            "[CV] END ......................C=0.01, gamma=0.1, kernel=rbf; total time= 2.0min\n",
            "[CV] END ........................C=0.01, gamma=1, kernel=rbf; total time= 2.0min\n",
            "[CV] END ........................C=0.01, gamma=1, kernel=rbf; total time= 2.0min\n",
            "[CV] END ........................C=0.01, gamma=1, kernel=rbf; total time= 2.0min\n",
            "[CV] END ........................C=0.01, gamma=1, kernel=rbf; total time= 1.9min\n",
            "[CV] END ........................C=0.01, gamma=1, kernel=rbf; total time= 2.0min\n",
            "[CV] END .......................C=0.01, gamma=10, kernel=rbf; total time= 1.9min\n",
            "[CV] END .......................C=0.01, gamma=10, kernel=rbf; total time= 1.9min\n",
            "[CV] END .......................C=0.01, gamma=10, kernel=rbf; total time= 1.9min\n",
            "[CV] END .......................C=0.01, gamma=10, kernel=rbf; total time= 1.9min\n",
            "[CV] END .......................C=0.01, gamma=10, kernel=rbf; total time= 1.9min\n",
            "[CV] END ......................C=0.01, gamma=100, kernel=rbf; total time= 2.2min\n",
            "[CV] END ......................C=0.01, gamma=100, kernel=rbf; total time= 2.2min\n",
            "[CV] END ......................C=0.01, gamma=100, kernel=rbf; total time= 2.2min\n",
            "[CV] END ......................C=0.01, gamma=100, kernel=rbf; total time= 2.2min\n",
            "[CV] END ......................C=0.01, gamma=100, kernel=rbf; total time= 2.2min\n",
            "[CV] END .......................C=0.1, gamma=0.1, kernel=rbf; total time= 2.1min\n",
            "[CV] END .......................C=0.1, gamma=0.1, kernel=rbf; total time= 2.0min\n",
            "[CV] END .......................C=0.1, gamma=0.1, kernel=rbf; total time= 2.0min\n",
            "[CV] END .......................C=0.1, gamma=0.1, kernel=rbf; total time= 2.0min\n",
            "[CV] END .......................C=0.1, gamma=0.1, kernel=rbf; total time= 2.0min\n",
            "[CV] END .........................C=0.1, gamma=1, kernel=rbf; total time= 2.0min\n",
            "[CV] END .........................C=0.1, gamma=1, kernel=rbf; total time= 2.0min\n",
            "[CV] END .........................C=0.1, gamma=1, kernel=rbf; total time= 2.0min\n",
            "[CV] END .........................C=0.1, gamma=1, kernel=rbf; total time= 2.0min\n",
            "[CV] END .........................C=0.1, gamma=1, kernel=rbf; total time= 2.0min\n",
            "[CV] END ........................C=0.1, gamma=10, kernel=rbf; total time= 1.9min\n",
            "[CV] END ........................C=0.1, gamma=10, kernel=rbf; total time= 1.9min\n",
            "[CV] END ........................C=0.1, gamma=10, kernel=rbf; total time= 1.9min\n",
            "[CV] END ........................C=0.1, gamma=10, kernel=rbf; total time= 1.9min\n",
            "[CV] END ........................C=0.1, gamma=10, kernel=rbf; total time= 2.0min\n",
            "[CV] END .......................C=0.1, gamma=100, kernel=rbf; total time= 2.2min\n",
            "[CV] END .......................C=0.1, gamma=100, kernel=rbf; total time= 2.2min\n",
            "[CV] END .......................C=0.1, gamma=100, kernel=rbf; total time= 2.2min\n",
            "[CV] END .......................C=0.1, gamma=100, kernel=rbf; total time= 2.3min\n",
            "[CV] END .......................C=0.1, gamma=100, kernel=rbf; total time= 2.2min\n",
            "[CV] END .........................C=1, gamma=0.1, kernel=rbf; total time= 2.0min\n",
            "[CV] END .........................C=1, gamma=0.1, kernel=rbf; total time= 2.1min\n",
            "[CV] END .........................C=1, gamma=0.1, kernel=rbf; total time= 2.0min\n",
            "[CV] END .........................C=1, gamma=0.1, kernel=rbf; total time= 2.0min\n",
            "[CV] END .........................C=1, gamma=0.1, kernel=rbf; total time= 2.0min\n",
            "[CV] END ...........................C=1, gamma=1, kernel=rbf; total time= 2.1min\n",
            "[CV] END ...........................C=1, gamma=1, kernel=rbf; total time= 2.2min\n",
            "[CV] END ...........................C=1, gamma=1, kernel=rbf; total time= 2.1min\n",
            "[CV] END ...........................C=1, gamma=1, kernel=rbf; total time= 2.1min\n",
            "[CV] END ...........................C=1, gamma=1, kernel=rbf; total time= 2.1min\n",
            "[CV] END ..........................C=1, gamma=10, kernel=rbf; total time= 2.2min\n",
            "[CV] END ..........................C=1, gamma=10, kernel=rbf; total time= 2.3min\n",
            "[CV] END ..........................C=1, gamma=10, kernel=rbf; total time= 2.2min\n",
            "[CV] END ..........................C=1, gamma=10, kernel=rbf; total time= 2.1min\n",
            "[CV] END ..........................C=1, gamma=10, kernel=rbf; total time= 2.5min\n",
            "[CV] END .........................C=1, gamma=100, kernel=rbf; total time= 2.4min\n",
            "[CV] END .........................C=1, gamma=100, kernel=rbf; total time= 2.4min\n",
            "[CV] END .........................C=1, gamma=100, kernel=rbf; total time= 2.4min\n",
            "[CV] END .........................C=1, gamma=100, kernel=rbf; total time= 2.4min\n",
            "[CV] END .........................C=1, gamma=100, kernel=rbf; total time= 2.3min\n",
            "[CV] END ........................C=10, gamma=0.1, kernel=rbf; total time= 2.0min\n",
            "[CV] END ........................C=10, gamma=0.1, kernel=rbf; total time= 2.0min\n",
            "[CV] END ........................C=10, gamma=0.1, kernel=rbf; total time= 2.0min\n",
            "[CV] END ........................C=10, gamma=0.1, kernel=rbf; total time= 2.0min\n",
            "[CV] END ........................C=10, gamma=0.1, kernel=rbf; total time= 2.0min\n",
            "[CV] END ..........................C=10, gamma=1, kernel=rbf; total time= 3.1min\n",
            "[CV] END ..........................C=10, gamma=1, kernel=rbf; total time= 3.2min\n",
            "[CV] END ..........................C=10, gamma=1, kernel=rbf; total time= 3.3min\n",
            "[CV] END ..........................C=10, gamma=1, kernel=rbf; total time= 4.2min\n",
            "[CV] END ..........................C=10, gamma=1, kernel=rbf; total time= 3.0min\n",
            "[CV] END .........................C=10, gamma=10, kernel=rbf; total time= 3.9min\n",
            "[CV] END .........................C=10, gamma=10, kernel=rbf; total time= 3.5min\n",
            "[CV] END .........................C=10, gamma=10, kernel=rbf; total time= 4.7min\n",
            "[CV] END .........................C=10, gamma=10, kernel=rbf; total time= 4.2min\n",
            "[CV] END .........................C=10, gamma=10, kernel=rbf; total time= 5.0min\n",
            "[CV] END ........................C=10, gamma=100, kernel=rbf; total time= 5.7min\n",
            "[CV] END ........................C=10, gamma=100, kernel=rbf; total time= 5.8min\n",
            "[CV] END ........................C=10, gamma=100, kernel=rbf; total time= 6.7min\n",
            "[CV] END ........................C=10, gamma=100, kernel=rbf; total time= 6.0min\n",
            "[CV] END ........................C=10, gamma=100, kernel=rbf; total time= 5.6min\n",
            "[CV] END .......................C=100, gamma=0.1, kernel=rbf; total time= 2.5min\n",
            "[CV] END .......................C=100, gamma=0.1, kernel=rbf; total time= 2.6min\n",
            "[CV] END .......................C=100, gamma=0.1, kernel=rbf; total time= 2.5min\n",
            "[CV] END .......................C=100, gamma=0.1, kernel=rbf; total time= 2.6min\n",
            "[CV] END .......................C=100, gamma=0.1, kernel=rbf; total time= 2.4min\n",
            "[CV] END .........................C=100, gamma=1, kernel=rbf; total time=12.3min\n",
            "[CV] END .........................C=100, gamma=1, kernel=rbf; total time=13.6min\n",
            "[CV] END .........................C=100, gamma=1, kernel=rbf; total time=15.4min\n",
            "[CV] END .........................C=100, gamma=1, kernel=rbf; total time= 8.2min\n",
            "[CV] END .........................C=100, gamma=1, kernel=rbf; total time=16.8min\n",
            "[CV] END ........................C=100, gamma=10, kernel=rbf; total time=50.2min\n",
            "[CV] END ........................C=100, gamma=10, kernel=rbf; total time=37.1min\n",
            "[CV] END ........................C=100, gamma=10, kernel=rbf; total time=28.7min\n",
            "[CV] END ........................C=100, gamma=10, kernel=rbf; total time=30.5min\n",
            "[CV] END ........................C=100, gamma=10, kernel=rbf; total time=22.8min\n",
            "[CV] END .......................C=100, gamma=100, kernel=rbf; total time=16.6min\n",
            "[CV] END .......................C=100, gamma=100, kernel=rbf; total time=20.8min\n",
            "[CV] END .......................C=100, gamma=100, kernel=rbf; total time=16.0min\n",
            "[CV] END .......................C=100, gamma=100, kernel=rbf; total time=20.0min\n",
            "[CV] END .......................C=100, gamma=100, kernel=rbf; total time=19.9min\n",
            "Best Parameters: {'C': 100, 'gamma': 100, 'kernel': 'rbf'}\n",
            "Best Score 0.6950305921560761\n"
          ]
        }
      ],
      "source": [
        "# Support Vector Machine with SMOTE And  Feature Selection 70 : 30\n",
        "param_grid = {\n",
        "    'C': [0.01,0.1,1,10,100],\n",
        "    'kernel': ['rbf'],\n",
        "    'gamma': [0.1,1,10,100]\n",
        "}\n",
        "\n",
        "grid = GridSearchCV(SVC(), param_grid, refit=True, verbose=2)\n",
        "grid.fit(x_train_smoteselected70Stand, y_train_smote70Stand)\n",
        "\n",
        "print(\"Best Parameters:\", grid.best_params_)\n",
        "print(\"Best Score\", grid.best_score_)"
      ]
    },
    {
      "cell_type": "code",
      "execution_count": null,
      "metadata": {
        "colab": {
          "base_uri": "https://localhost:8080/"
        },
        "id": "0Pfmk3f3_kGu",
        "outputId": "5a92667c-87cc-4259-c73a-84eac22325a5"
      },
      "outputs": [
        {
          "name": "stdout",
          "output_type": "stream",
          "text": [
            "Accuracy: 0.6818\n",
            "Precision: 0.7430\n",
            "Recall: 0.5558\n",
            "F1 Score: 0.6359\n"
          ]
        }
      ],
      "source": [
        "# Train an SVM classifier\n",
        "svm_model = SVC(kernel='rbf', C=100,gamma=100, random_state=42)\n",
        "svm_model.fit(x_train_smoteselected70Stand, y_train_smote70Stand)\n",
        "# Make predictions\n",
        "y_pred30 = svm_model.predict(x_test_smoteselected30Stand)\n",
        "\n",
        "# แสดง Classification Report\n",
        "accuracy = accuracy_score(y_test_smote30Stand, y_pred30)\n",
        "precision = precision_score(y_test_smote30Stand, y_pred30)\n",
        "recall = recall_score(y_test_smote30Stand, y_pred30)\n",
        "f1 = f1_score(y_test_smote30Stand, y_pred30)\n",
        "\n",
        "print(\"Accuracy: {:.4f}\".format(accuracy))\n",
        "print(\"Precision: {:.4f}\".format(precision))\n",
        "print(\"Recall: {:.4f}\".format(recall))\n",
        "print(\"F1 Score: {:.4f}\".format(f1))"
      ]
    },
    {
      "cell_type": "code",
      "execution_count": null,
      "metadata": {
        "colab": {
          "base_uri": "https://localhost:8080/"
        },
        "id": "L4VFFt2AAAeG",
        "outputId": "4b69e028-284e-4db2-ec3b-6fbc8e5fe68e"
      },
      "outputs": [
        {
          "name": "stdout",
          "output_type": "stream",
          "text": [
            "Fitting 5 folds for each of 20 candidates, totalling 100 fits\n",
            "[CV] END ......................C=0.01, gamma=0.1, kernel=rbf; total time= 1.8min\n",
            "[CV] END ......................C=0.01, gamma=0.1, kernel=rbf; total time= 1.8min\n",
            "[CV] END ......................C=0.01, gamma=0.1, kernel=rbf; total time= 1.8min\n",
            "[CV] END ......................C=0.01, gamma=0.1, kernel=rbf; total time= 1.8min\n",
            "[CV] END ......................C=0.01, gamma=0.1, kernel=rbf; total time= 1.8min\n",
            "[CV] END ........................C=0.01, gamma=1, kernel=rbf; total time= 1.7min\n",
            "[CV] END ........................C=0.01, gamma=1, kernel=rbf; total time= 1.7min\n",
            "[CV] END ........................C=0.01, gamma=1, kernel=rbf; total time= 1.7min\n",
            "[CV] END ........................C=0.01, gamma=1, kernel=rbf; total time= 1.7min\n",
            "[CV] END ........................C=0.01, gamma=1, kernel=rbf; total time= 1.7min\n",
            "[CV] END .......................C=0.01, gamma=10, kernel=rbf; total time= 1.6min\n",
            "[CV] END .......................C=0.01, gamma=10, kernel=rbf; total time= 1.6min\n",
            "[CV] END .......................C=0.01, gamma=10, kernel=rbf; total time= 1.6min\n",
            "[CV] END .......................C=0.01, gamma=10, kernel=rbf; total time= 1.6min\n",
            "[CV] END .......................C=0.01, gamma=10, kernel=rbf; total time= 1.6min\n",
            "[CV] END ......................C=0.01, gamma=100, kernel=rbf; total time= 1.5min\n",
            "[CV] END ......................C=0.01, gamma=100, kernel=rbf; total time= 1.6min\n",
            "[CV] END ......................C=0.01, gamma=100, kernel=rbf; total time= 1.6min\n",
            "[CV] END ......................C=0.01, gamma=100, kernel=rbf; total time= 1.6min\n",
            "[CV] END ......................C=0.01, gamma=100, kernel=rbf; total time= 1.6min\n",
            "[CV] END .......................C=0.1, gamma=0.1, kernel=rbf; total time= 1.7min\n",
            "[CV] END .......................C=0.1, gamma=0.1, kernel=rbf; total time= 1.7min\n",
            "[CV] END .......................C=0.1, gamma=0.1, kernel=rbf; total time= 1.7min\n",
            "[CV] END .......................C=0.1, gamma=0.1, kernel=rbf; total time= 1.7min\n",
            "[CV] END .......................C=0.1, gamma=0.1, kernel=rbf; total time= 1.7min\n",
            "[CV] END .........................C=0.1, gamma=1, kernel=rbf; total time= 1.6min\n",
            "[CV] END .........................C=0.1, gamma=1, kernel=rbf; total time= 1.6min\n",
            "[CV] END .........................C=0.1, gamma=1, kernel=rbf; total time= 1.6min\n",
            "[CV] END .........................C=0.1, gamma=1, kernel=rbf; total time= 1.6min\n",
            "[CV] END .........................C=0.1, gamma=1, kernel=rbf; total time= 1.6min\n",
            "[CV] END ........................C=0.1, gamma=10, kernel=rbf; total time= 1.6min\n",
            "[CV] END ........................C=0.1, gamma=10, kernel=rbf; total time= 1.6min\n",
            "[CV] END ........................C=0.1, gamma=10, kernel=rbf; total time= 1.6min\n",
            "[CV] END ........................C=0.1, gamma=10, kernel=rbf; total time= 1.6min\n",
            "[CV] END ........................C=0.1, gamma=10, kernel=rbf; total time= 1.6min\n",
            "[CV] END .......................C=0.1, gamma=100, kernel=rbf; total time= 1.5min\n",
            "[CV] END .......................C=0.1, gamma=100, kernel=rbf; total time= 1.5min\n",
            "[CV] END .......................C=0.1, gamma=100, kernel=rbf; total time= 1.5min\n",
            "[CV] END .......................C=0.1, gamma=100, kernel=rbf; total time= 1.5min\n",
            "[CV] END .......................C=0.1, gamma=100, kernel=rbf; total time= 1.5min\n",
            "[CV] END .........................C=1, gamma=0.1, kernel=rbf; total time= 1.6min\n",
            "[CV] END .........................C=1, gamma=0.1, kernel=rbf; total time= 1.6min\n",
            "[CV] END .........................C=1, gamma=0.1, kernel=rbf; total time= 1.6min\n",
            "[CV] END .........................C=1, gamma=0.1, kernel=rbf; total time= 1.6min\n",
            "[CV] END .........................C=1, gamma=0.1, kernel=rbf; total time= 1.6min\n",
            "[CV] END ...........................C=1, gamma=1, kernel=rbf; total time= 1.6min\n",
            "[CV] END ...........................C=1, gamma=1, kernel=rbf; total time= 1.6min\n",
            "[CV] END ...........................C=1, gamma=1, kernel=rbf; total time= 1.6min\n",
            "[CV] END ...........................C=1, gamma=1, kernel=rbf; total time= 1.6min\n",
            "[CV] END ...........................C=1, gamma=1, kernel=rbf; total time= 1.6min\n",
            "[CV] END ..........................C=1, gamma=10, kernel=rbf; total time= 1.6min\n",
            "[CV] END ..........................C=1, gamma=10, kernel=rbf; total time= 1.6min\n",
            "[CV] END ..........................C=1, gamma=10, kernel=rbf; total time= 1.6min\n",
            "[CV] END ..........................C=1, gamma=10, kernel=rbf; total time= 1.6min\n",
            "[CV] END ..........................C=1, gamma=10, kernel=rbf; total time= 1.6min\n",
            "[CV] END .........................C=1, gamma=100, kernel=rbf; total time= 1.5min\n",
            "[CV] END .........................C=1, gamma=100, kernel=rbf; total time= 1.5min\n",
            "[CV] END .........................C=1, gamma=100, kernel=rbf; total time= 1.5min\n",
            "[CV] END .........................C=1, gamma=100, kernel=rbf; total time= 1.5min\n",
            "[CV] END .........................C=1, gamma=100, kernel=rbf; total time= 1.5min\n",
            "[CV] END ........................C=10, gamma=0.1, kernel=rbf; total time= 1.6min\n",
            "[CV] END ........................C=10, gamma=0.1, kernel=rbf; total time= 1.6min\n",
            "[CV] END ........................C=10, gamma=0.1, kernel=rbf; total time= 1.6min\n",
            "[CV] END ........................C=10, gamma=0.1, kernel=rbf; total time= 1.6min\n",
            "[CV] END ........................C=10, gamma=0.1, kernel=rbf; total time= 1.6min\n",
            "[CV] END ..........................C=10, gamma=1, kernel=rbf; total time= 1.6min\n",
            "[CV] END ..........................C=10, gamma=1, kernel=rbf; total time= 1.6min\n",
            "[CV] END ..........................C=10, gamma=1, kernel=rbf; total time= 1.6min\n",
            "[CV] END ..........................C=10, gamma=1, kernel=rbf; total time= 1.6min\n",
            "[CV] END ..........................C=10, gamma=1, kernel=rbf; total time= 1.6min\n",
            "[CV] END .........................C=10, gamma=10, kernel=rbf; total time= 1.5min\n",
            "[CV] END .........................C=10, gamma=10, kernel=rbf; total time= 1.6min\n",
            "[CV] END .........................C=10, gamma=10, kernel=rbf; total time= 1.6min\n",
            "[CV] END .........................C=10, gamma=10, kernel=rbf; total time= 1.6min\n",
            "[CV] END .........................C=10, gamma=10, kernel=rbf; total time= 1.6min\n",
            "[CV] END ........................C=10, gamma=100, kernel=rbf; total time= 1.5min\n",
            "[CV] END ........................C=10, gamma=100, kernel=rbf; total time= 1.5min\n",
            "[CV] END ........................C=10, gamma=100, kernel=rbf; total time= 1.5min\n",
            "[CV] END ........................C=10, gamma=100, kernel=rbf; total time= 1.5min\n",
            "[CV] END ........................C=10, gamma=100, kernel=rbf; total time= 1.5min\n",
            "[CV] END .......................C=100, gamma=0.1, kernel=rbf; total time= 1.6min\n",
            "[CV] END .......................C=100, gamma=0.1, kernel=rbf; total time= 1.6min\n",
            "[CV] END .......................C=100, gamma=0.1, kernel=rbf; total time= 1.6min\n",
            "[CV] END .......................C=100, gamma=0.1, kernel=rbf; total time= 1.6min\n",
            "[CV] END .......................C=100, gamma=0.1, kernel=rbf; total time= 1.6min\n",
            "[CV] END .........................C=100, gamma=1, kernel=rbf; total time= 1.5min\n",
            "[CV] END .........................C=100, gamma=1, kernel=rbf; total time= 1.6min\n",
            "[CV] END .........................C=100, gamma=1, kernel=rbf; total time= 1.6min\n",
            "[CV] END .........................C=100, gamma=1, kernel=rbf; total time= 1.6min\n",
            "[CV] END .........................C=100, gamma=1, kernel=rbf; total time= 1.6min\n",
            "[CV] END ........................C=100, gamma=10, kernel=rbf; total time= 1.5min\n",
            "[CV] END ........................C=100, gamma=10, kernel=rbf; total time= 1.6min\n",
            "[CV] END ........................C=100, gamma=10, kernel=rbf; total time= 1.6min\n",
            "[CV] END ........................C=100, gamma=10, kernel=rbf; total time= 1.6min\n",
            "[CV] END ........................C=100, gamma=10, kernel=rbf; total time= 1.6min\n",
            "[CV] END .......................C=100, gamma=100, kernel=rbf; total time= 1.5min\n",
            "[CV] END .......................C=100, gamma=100, kernel=rbf; total time= 1.5min\n",
            "[CV] END .......................C=100, gamma=100, kernel=rbf; total time= 1.5min\n",
            "[CV] END .......................C=100, gamma=100, kernel=rbf; total time= 1.5min\n",
            "[CV] END .......................C=100, gamma=100, kernel=rbf; total time= 1.5min\n",
            "Best Parameters: {'C': 100, 'gamma': 100, 'kernel': 'rbf'}\n",
            "Best Score 0.5815596730361029\n"
          ]
        }
      ],
      "source": [
        "# Support Vector Machine with SMOTE And  Feature Selection 80 : 20\n",
        "param_grid = {\n",
        "    'C': [0.01,0.1,1,10,100],\n",
        "    'kernel': ['rbf'],\n",
        "    'gamma': [0.1,1,10,100]\n",
        "}\n",
        "\n",
        "grid = GridSearchCV(SVC(), param_grid, refit=True, verbose=2)\n",
        "grid.fit(x_train_smoteselected80Stand, y_train_smote80Stand)\n",
        "\n",
        "print(\"Best Parameters:\", grid.best_params_)\n",
        "print(\"Best Score\", grid.best_score_)"
      ]
    },
    {
      "cell_type": "code",
      "execution_count": null,
      "metadata": {
        "colab": {
          "base_uri": "https://localhost:8080/"
        },
        "id": "x7e7gRudAFSs",
        "outputId": "1d079c67-e975-498c-a3ca-02954a2fdc33"
      },
      "outputs": [
        {
          "name": "stdout",
          "output_type": "stream",
          "text": [
            "Accuracy: 0.5959\n",
            "Precision: 0.6995\n",
            "Recall: 0.3362\n",
            "F1 Score: 0.4541\n"
          ]
        }
      ],
      "source": [
        "# Train an SVM classifier\n",
        "svm_model = SVC(kernel='rbf', C=100,gamma=100, random_state=42)\n",
        "svm_model.fit(x_train_smoteselected80Stand, y_train_smote80Stand)\n",
        "\n",
        "# Make predictions\n",
        "y_pred20 = svm_model.predict(x_test_smoteselected20Stand)\n",
        "\n",
        "# แสดง Classification Report\n",
        "accuracy = accuracy_score(y_test_smote20Stand, y_pred20)\n",
        "precision = precision_score(y_test_smote20Stand, y_pred20)\n",
        "recall = recall_score(y_test_smote20Stand, y_pred20)\n",
        "f1 = f1_score(y_test_smote20Stand, y_pred20)\n",
        "\n",
        "print(\"Accuracy: {:.4f}\".format(accuracy))\n",
        "print(\"Precision: {:.4f}\".format(precision))\n",
        "print(\"Recall: {:.4f}\".format(recall))\n",
        "print(\"F1 Score: {:.4f}\".format(f1))"
      ]
    },
    {
      "cell_type": "markdown",
      "metadata": {
        "id": "esmSC79_3SuH"
      },
      "source": [
        "# Decistion Tree without SMOTE and Feature Selection"
      ]
    },
    {
      "cell_type": "code",
      "execution_count": null,
      "metadata": {
        "id": "LF46R3J_BMkD"
      },
      "outputs": [],
      "source": [
        "# ใช้ Cross Validation เพื่อปรับจูนค่าพารามิเตอร์  ของโมเดล Machine Learning เพื่อหาค่าที่เหมาะสมที่สุดในการเพิ่มประสิทธิภาพของโมเดล Decistion Tree\n",
        "\n",
        "# Decistion Tree without SMOTE and Feature Selection   70 :30\n",
        "\n",
        "# Define the Decision Tree model\n",
        "dt_classifier = DecisionTreeClassifier(random_state=42)\n",
        "\n",
        "# Define the parameter grid for tuning\n",
        "param_grid = {\n",
        "    'max_depth': np.arange(2,11),         # ความลึกสูงสุดของต้นไม้\n",
        "    'min_samples_split': np.arange(2,11),       # ขนาดขั้นต่ำของ sample ก่อนที่จะแบ่ง node\n",
        "    'min_samples_leaf': np.arange(1,11), # ขนาดขั้นต่ำของ sample ใน leaf node\n",
        "    'max_leaf_nodes' : [5,10,15,20]\n",
        "}\n",
        "\n",
        "# Set up GridSearchCV\n",
        "grid_search = GridSearchCV(estimator=dt_classifier,\n",
        "                           param_grid=param_grid,\n",
        "                           cv=5,                # 5-fold cross-validation\n",
        "                           scoring='accuracy',  # ใช้คะแนนความแม่นยำ\n",
        "                           n_jobs=-1)          # ใช้ทุก CPU core\n",
        "\n",
        "# Fit the model to find the best parameters\n",
        "\n",
        "grid_search.fit(x_train70, y_train70)\n",
        "\n",
        "# Display the best parameters and score\n",
        "print(\"Best Parameters:\", grid_search.best_params_)\n",
        "print(\"Best Cross-Validation Score:\", grid_search.best_score_)\n",
        "\n",
        "# Use the best estimator for predictions\n",
        "best_model = grid_search.best_estimator_\n",
        "print(best_model)"
      ]
    },
    {
      "cell_type": "code",
      "execution_count": null,
      "metadata": {
        "colab": {
          "base_uri": "https://localhost:8080/"
        },
        "id": "J1ljyf2lFiu2",
        "outputId": "15d2bb11-4a81-431c-cb2c-da66bc6c0934"
      },
      "outputs": [
        {
          "name": "stdout",
          "output_type": "stream",
          "text": [
            "Accuracy: 0.9275\n",
            "Precision: 0.9221\n",
            "Recall: 0.2153\n",
            "F1 Score: 0.3491\n"
          ]
        }
      ],
      "source": [
        "# Train Decistion tree 70 :30\n",
        "dt_model = DecisionTreeClassifier(\n",
        "    max_depth=8,                # ความลึกสูงสุดของต้นไม้\n",
        "    max_leaf_nodes=20,           # จำนวน leaf nodes สูงสุด\n",
        "    min_samples_leaf=10,          # จำนวนขั้นต่ำของข้อมูลใน leaf node\n",
        "    min_samples_split=2,         # จำนวนขั้นต่ำของข้อมูลก่อนแยกโหนด\n",
        "    random_state=42              # สำหรับ reproducibility\n",
        ")\n",
        "\n",
        "# Train the model on the training data (70%)\n",
        "dt_model.fit(x_train70, y_train70)\n",
        "\n",
        "# Make predictions on the test data (30%)\n",
        "y_pred30 = dt_model.predict(x_test30)\n",
        "\n",
        "# แสดง Classification Report\n",
        "accuracy = accuracy_score(y_test30, y_pred30)\n",
        "precision = precision_score(y_test30, y_pred30)\n",
        "recall = recall_score(y_test30, y_pred30)\n",
        "f1 = f1_score(y_test30, y_pred30)\n",
        "print(\"Accuracy: {:.4f}\".format(accuracy))\n",
        "print(\"Precision: {:.4f}\".format(precision))\n",
        "print(\"Recall: {:.4f}\".format(recall))\n",
        "print(\"F1 Score: {:.4f}\".format(f1))"
      ]
    },
    {
      "cell_type": "code",
      "execution_count": null,
      "metadata": {
        "colab": {
          "base_uri": "https://localhost:8080/"
        },
        "id": "pD5FWXwqE24u",
        "outputId": "17940dc4-7bb9-4a28-b2ad-e9641c01a4fe"
      },
      "outputs": [
        {
          "name": "stdout",
          "output_type": "stream",
          "text": [
            "Best Parameters: {'max_depth': 8, 'max_leaf_nodes': 20, 'min_samples_leaf': 1, 'min_samples_split': 2}\n",
            "Best Cross-Validation Score: 0.929921897594302\n",
            "DecisionTreeClassifier(max_depth=8, max_leaf_nodes=20, random_state=42)\n"
          ]
        }
      ],
      "source": [
        "# Decistion Tree without SMOTE and Feature Selection   80 :20\n",
        "\n",
        "# Define the Decision Tree model\n",
        "dt_classifier = DecisionTreeClassifier(random_state=42)\n",
        "\n",
        "# Define the parameter grid for tuning\n",
        "param_grid = {\n",
        "    'max_depth': np.arange(2,11),         # ความลึกสูงสุดของต้นไม้\n",
        "    'min_samples_split': np.arange(2,11),       # ขนาดขั้นต่ำของ sample ก่อนที่จะแบ่ง node\n",
        "    'min_samples_leaf': np.arange(1,11), # ขนาดขั้นต่ำของ sample ใน leaf node\n",
        "    'max_leaf_nodes' : [5,10,15,20]\n",
        "}\n",
        "\n",
        "# Set up GridSearchCV\n",
        "grid_search = GridSearchCV(estimator=dt_classifier,\n",
        "                           param_grid=param_grid,\n",
        "                           cv=5,                # 5-fold cross-validation\n",
        "                           scoring='accuracy',  # ใช้คะแนนความแม่นยำ\n",
        "                           n_jobs=-1)          # ใช้ทุก CPU core\n",
        "\n",
        "# Fit the model to find the best parameters\n",
        "\n",
        "grid_search.fit(x_train80, y_train80)\n",
        "\n",
        "# Display the best parameters and score\n",
        "print(\"Best Parameters:\", grid_search.best_params_)\n",
        "print(\"Best Cross-Validation Score:\", grid_search.best_score_)\n",
        "\n",
        "# Use the best estimator for predictions\n",
        "best_model = grid_search.best_estimator_\n",
        "print(best_model)"
      ]
    },
    {
      "cell_type": "code",
      "execution_count": null,
      "metadata": {
        "colab": {
          "base_uri": "https://localhost:8080/"
        },
        "id": "2M7S_IdBHteH",
        "outputId": "6d9a97eb-86d6-4645-bcf0-67b6d1e40595"
      },
      "outputs": [
        {
          "name": "stdout",
          "output_type": "stream",
          "text": [
            "Accuracy: 0.9263\n",
            "Precision: 0.9121\n",
            "Recall: 0.1915\n",
            "F1 Score: 0.3165\n"
          ]
        }
      ],
      "source": [
        "# Train Decistion tree 80 : 20\n",
        "dt_model = DecisionTreeClassifier(\n",
        "    max_depth=8,                # ความลึกสูงสุดของต้นไม้\n",
        "    max_leaf_nodes=20,           # จำนวน leaf nodes สูงสุด\n",
        "    min_samples_leaf=1,          # จำนวนขั้นต่ำของข้อมูลใน leaf node\n",
        "    min_samples_split=2,         # จำนวนขั้นต่ำของข้อมูลก่อนแยกโหนด\n",
        "    random_state=42              # สำหรับ reproducibility\n",
        ")\n",
        "\n",
        "# Train the model on the training data (80%)\n",
        "dt_model.fit(x_train80, y_train80)\n",
        "\n",
        "# Make predictions on the test data (20%)\n",
        "y_pred20 = dt_model.predict(x_test20)\n",
        "\n",
        "# แสดง Classification Report\n",
        "accuracy = accuracy_score(y_test20, y_pred20)\n",
        "precision = precision_score(y_test20, y_pred20)\n",
        "recall = recall_score(y_test20, y_pred20)\n",
        "f1 = f1_score(y_test20, y_pred20)\n",
        "print(\"Accuracy: {:.4f}\".format(accuracy))\n",
        "print(\"Precision: {:.4f}\".format(precision))\n",
        "print(\"Recall: {:.4f}\".format(recall))\n",
        "print(\"F1 Score: {:.4f}\".format(f1))"
      ]
    },
    {
      "cell_type": "markdown",
      "metadata": {
        "id": "3r-Ti8-wDlr4"
      },
      "source": [
        "# Decistion Tree with SMOTE"
      ]
    },
    {
      "cell_type": "code",
      "execution_count": null,
      "metadata": {
        "colab": {
          "base_uri": "https://localhost:8080/"
        },
        "id": "UaPE8pGPDySP",
        "outputId": "be70aa42-6e71-4677-864b-90355cc087e5"
      },
      "outputs": [
        {
          "name": "stdout",
          "output_type": "stream",
          "text": [
            "Best Parameters: {'max_depth': np.int64(10), 'max_leaf_nodes': 20, 'min_samples_leaf': np.int64(1), 'min_samples_split': np.int64(2)}\n",
            "Best Cross-Validation Score: 0.8152435964280658\n",
            "DecisionTreeClassifier(max_depth=np.int64(10), max_leaf_nodes=20,\n",
            "                       min_samples_leaf=np.int64(1),\n",
            "                       min_samples_split=np.int64(2), random_state=42)\n"
          ]
        }
      ],
      "source": [
        "# Decistion Tree with SMOTE 70 : 30\n",
        "\n",
        "# Define the Decision Tree model\n",
        "dt_classifier = DecisionTreeClassifier(random_state=42)\n",
        "\n",
        "# Define the parameter grid for tuning\n",
        "param_grid = {\n",
        "    'max_depth': np.arange(2,11),         # ความลึกสูงสุดของต้นไม้\n",
        "    'min_samples_split': np.arange(2,11),       # ขนาดขั้นต่ำของ sample ก่อนที่จะแบ่ง node\n",
        "    'min_samples_leaf': np.arange(1,11), # ขนาดขั้นต่ำของ sample ใน leaf node\n",
        "    'max_leaf_nodes' : [5,10,15,20]\n",
        "}\n",
        "\n",
        "# Set up GridSearchCV\n",
        "grid_search = GridSearchCV(estimator=dt_classifier,\n",
        "                           param_grid=param_grid,\n",
        "                           cv=5,                # 5-fold cross-validation\n",
        "                           scoring='accuracy',  # ใช้คะแนนความแม่นยำ\n",
        "                           n_jobs=-1)          # ใช้ทุก CPU core\n",
        "\n",
        "# Fit the model to find the best parameters\n",
        "grid_search.fit(x_train_smote70, y_train_smote70)\n",
        "\n",
        "# Display the best parameters and score\n",
        "print(\"Best Parameters:\", grid_search.best_params_)\n",
        "print(\"Best Cross-Validation Score:\", grid_search.best_score_)\n",
        "\n",
        "# Use the best estimator for predictions\n",
        "best_model = grid_search.best_estimator_\n",
        "print(best_model)"
      ]
    },
    {
      "cell_type": "code",
      "execution_count": null,
      "metadata": {
        "colab": {
          "base_uri": "https://localhost:8080/"
        },
        "id": "IeSqgNxDH8dX",
        "outputId": "3d5c005f-f5c0-4740-a396-f38817bf1853"
      },
      "outputs": [
        {
          "name": "stdout",
          "output_type": "stream",
          "text": [
            "Accuracy: 0.8302\n",
            "Precision: 0.9741\n",
            "Recall: 0.6785\n",
            "F1 Score: 0.7999\n"
          ]
        }
      ],
      "source": [
        "# Train Decistion Tree with SMOTE 70 : 30\n",
        "dt_model = DecisionTreeClassifier(\n",
        "    max_depth=10,                # ความลึกสูงสุดของต้นไม้\n",
        "    max_leaf_nodes=20,           # จำนวน leaf nodes สูงสุด\n",
        "    min_samples_leaf=1,          # จำนวนขั้นต่ำของข้อมูลใน leaf node\n",
        "    min_samples_split=2,         # จำนวนขั้นต่ำของข้อมูลก่อนแยกโหนด\n",
        "    random_state=42              # สำหรับ reproducibility\n",
        ")\n",
        "\n",
        "# Train the model on the training data (70%)\n",
        "dt_model.fit(x_train_smote70, y_train_smote70)\n",
        "\n",
        "# Make predictions on the test data (30%)\n",
        "y_pred30 = dt_model.predict(x_test_smote70)\n",
        "\n",
        "# แสดง Classification Report\n",
        "accuracy = accuracy_score(y_test_smote70, y_pred30)\n",
        "precision = precision_score(y_test_smote70, y_pred30)\n",
        "recall = recall_score(y_test_smote70, y_pred30)\n",
        "f1 = f1_score(y_test_smote70, y_pred30)\n",
        "\n",
        "print(\"Accuracy: {:.4f}\".format(accuracy))\n",
        "print(\"Precision: {:.4f}\".format(precision))\n",
        "print(\"Recall: {:.4f}\".format(recall))\n",
        "print(\"F1 Score: {:.4f}\".format(f1))"
      ]
    },
    {
      "cell_type": "code",
      "execution_count": null,
      "metadata": {
        "colab": {
          "base_uri": "https://localhost:8080/"
        },
        "id": "ag2IXGM3D2E9",
        "outputId": "8fe3fe10-6331-48a0-94fb-514965cdd95a"
      },
      "outputs": [
        {
          "name": "stdout",
          "output_type": "stream",
          "text": [
            "Best Parameters: {'max_depth': np.int64(10), 'max_leaf_nodes': 20, 'min_samples_leaf': np.int64(1), 'min_samples_split': np.int64(2)}\n",
            "Best Cross-Validation Score: 0.8122219239161346\n",
            "DecisionTreeClassifier(max_depth=np.int64(10), max_leaf_nodes=20,\n",
            "                       min_samples_leaf=np.int64(1),\n",
            "                       min_samples_split=np.int64(2), random_state=42)\n"
          ]
        }
      ],
      "source": [
        "# Decistion Tree with SMOTE 80 : 20\n",
        "\n",
        "# Define the Decision Tree model\n",
        "dt_classifier = DecisionTreeClassifier(random_state=42)\n",
        "\n",
        "# Define the parameter grid for tuning\n",
        "param_grid = {\n",
        "    'max_depth': np.arange(2,11),         # ความลึกสูงสุดของต้นไม้\n",
        "    'min_samples_split': np.arange(2,11),       # ขนาดขั้นต่ำของ sample ก่อนที่จะแบ่ง node\n",
        "    'min_samples_leaf': np.arange(1,11), # ขนาดขั้นต่ำของ sample ใน leaf node\n",
        "    'max_leaf_nodes' : [5,10,15,20]\n",
        "}\n",
        "\n",
        "# Set up GridSearchCV\n",
        "grid_search = GridSearchCV(estimator=dt_classifier,\n",
        "                           param_grid=param_grid,\n",
        "                           cv=5,                # 5-fold cross-validation\n",
        "                           scoring='accuracy',  # ใช้คะแนนความแม่นยำ\n",
        "                           n_jobs=-1)          # ใช้ทุก CPU core\n",
        "\n",
        "# Fit the model to find the best parameters\n",
        "\n",
        "grid_search.fit(x_train_smote80, y_train_smote80)\n",
        "\n",
        "# Display the best parameters and score\n",
        "print(\"Best Parameters:\", grid_search.best_params_)\n",
        "print(\"Best Cross-Validation Score:\", grid_search.best_score_)\n",
        "\n",
        "# Use the best estimator for predictions\n",
        "best_model = grid_search.best_estimator_\n",
        "print(best_model)"
      ]
    },
    {
      "cell_type": "code",
      "execution_count": null,
      "metadata": {
        "colab": {
          "base_uri": "https://localhost:8080/"
        },
        "id": "-QGi6S8GITSI",
        "outputId": "c5a30063-2ae9-4a3b-8603-00226c9a50fe"
      },
      "outputs": [
        {
          "name": "stdout",
          "output_type": "stream",
          "text": [
            "Accuracy: 0.8342\n",
            "Precision: 0.9735\n",
            "Recall: 0.6872\n",
            "F1 Score: 0.8057\n"
          ]
        }
      ],
      "source": [
        "# Train Decistion Tree with SMOTE 80 : 20\n",
        "dt_model = DecisionTreeClassifier(\n",
        "    max_depth=10,                # ความลึกสูงสุดของต้นไม้\n",
        "    max_leaf_nodes=20,           # จำนวน leaf nodes สูงสุด\n",
        "    min_samples_leaf=1,          # จำนวนขั้นต่ำของข้อมูลใน leaf node\n",
        "    min_samples_split=2,         # จำนวนขั้นต่ำของข้อมูลก่อนแยกโหนด\n",
        "    random_state=42              # สำหรับ reproducibility\n",
        ")\n",
        "\n",
        "# Train the model on the training data (80%)\n",
        "dt_model.fit(x_train_smote80, y_train_smote80)\n",
        "\n",
        "# Make predictions on the test data (20%)\n",
        "y_pred20 = dt_model.predict(x_test_smote80)\n",
        "\n",
        "# แสดง Classification Report\n",
        "accuracy = accuracy_score(y_test_smote80, y_pred20)\n",
        "precision = precision_score(y_test_smote80, y_pred20)\n",
        "recall = recall_score(y_test_smote80, y_pred20)\n",
        "f1 = f1_score(y_test_smote80, y_pred20)\n",
        "\n",
        "print(\"Accuracy: {:.4f}\".format(accuracy))\n",
        "print(\"Precision: {:.4f}\".format(precision))\n",
        "print(\"Recall: {:.4f}\".format(recall))\n",
        "print(\"F1 Score: {:.4f}\".format(f1))"
      ]
    },
    {
      "cell_type": "markdown",
      "metadata": {
        "id": "NK8XhWDcD83J"
      },
      "source": [
        "# Decision Tree with Feature Selection\n"
      ]
    },
    {
      "cell_type": "code",
      "execution_count": null,
      "metadata": {
        "colab": {
          "base_uri": "https://localhost:8080/"
        },
        "id": "lYCxOcXSEFa0",
        "outputId": "53e443d4-fc9f-465a-9794-e864adb292f7"
      },
      "outputs": [
        {
          "name": "stdout",
          "output_type": "stream",
          "text": [
            "Best Parameters: {'max_depth': np.int64(2), 'max_leaf_nodes': 5, 'min_samples_leaf': np.int64(1), 'min_samples_split': np.int64(2)}\n",
            "Best Cross-Validation Score: 0.9144794816031215\n",
            "DecisionTreeClassifier(max_depth=np.int64(2), max_leaf_nodes=5,\n",
            "                       min_samples_leaf=np.int64(1),\n",
            "                       min_samples_split=np.int64(2), random_state=42)\n"
          ]
        }
      ],
      "source": [
        "# Decision Tree with Feature Selection 70 : 30\n",
        "\n",
        "# Define the Decision Tree model\n",
        "dt_classifier = DecisionTreeClassifier(random_state=42)\n",
        "\n",
        "# Define the parameter grid for tuning\n",
        "param_grid = {\n",
        "    'max_depth': np.arange(2,11),         # ความลึกสูงสุดของต้นไม้\n",
        "    'min_samples_split': np.arange(2,11),       # ขนาดขั้นต่ำของ sample ก่อนที่จะแบ่ง node\n",
        "    'min_samples_leaf': np.arange(1,11), # ขนาดขั้นต่ำของ sample ใน leaf node\n",
        "    'max_leaf_nodes' : [5,10,15,20]\n",
        "}\n",
        "\n",
        "# Set up GridSearchCV\n",
        "grid_search = GridSearchCV(estimator=dt_classifier,\n",
        "                           param_grid=param_grid,\n",
        "                           cv=5,                # 5-fold cross-validation\n",
        "                           scoring='accuracy',  # ใช้คะแนนความแม่นยำ\n",
        "                           n_jobs=-1)          # ใช้ทุก CPU core\n",
        "\n",
        "# Fit the model to find the best parameters\n",
        "\n",
        "grid_search.fit(x_train_selected70, y_train70)\n",
        "\n",
        "# Display the best parameters and score\n",
        "print(\"Best Parameters:\", grid_search.best_params_)\n",
        "print(\"Best Cross-Validation Score:\", grid_search.best_score_)\n",
        "\n",
        "# Use the best estimator for predictions\n",
        "best_model = grid_search.best_estimator_\n",
        "print(best_model)"
      ]
    },
    {
      "cell_type": "code",
      "execution_count": null,
      "metadata": {
        "colab": {
          "base_uri": "https://localhost:8080/"
        },
        "id": "oHTbvB-_gZKz",
        "outputId": "b9460e0d-00da-428d-b07f-dbd3fb15a503"
      },
      "outputs": [
        {
          "name": "stdout",
          "output_type": "stream",
          "text": [
            "Accuracy: 0.9096\n",
            "Precision: 0.0000\n",
            "Recall: 0.0000\n",
            "F1 Score: 0.0000\n"
          ]
        },
        {
          "name": "stderr",
          "output_type": "stream",
          "text": [
            "/usr/local/lib/python3.11/dist-packages/sklearn/metrics/_classification.py:1565: UndefinedMetricWarning: Precision is ill-defined and being set to 0.0 due to no predicted samples. Use `zero_division` parameter to control this behavior.\n",
            "  _warn_prf(average, modifier, f\"{metric.capitalize()} is\", len(result))\n"
          ]
        }
      ],
      "source": [
        "# Train Decistion tree 70 :30 With Selection\n",
        "dt_model = DecisionTreeClassifier(\n",
        "    max_depth=9,                # ความลึกสูงสุดของต้นไม้\n",
        "    max_leaf_nodes=20,           # จำนวน leaf nodes สูงสุด\n",
        "    min_samples_leaf=1,          # จำนวนขั้นต่ำของข้อมูลใน leaf node\n",
        "    min_samples_split=2,         # จำนวนขั้นต่ำของข้อมูลก่อนแยกโหนด\n",
        "    random_state=42              # สำหรับ reproducibility\n",
        ")\n",
        "\n",
        "# Train the model on the training data (70%)\n",
        "dt_model.fit(x_train_selected70, y_train70)\n",
        "\n",
        "# Make predictions on the test data (30%)\n",
        "y_pred30 = dt_model.predict(x_test_selected30)\n",
        "\n",
        "# แสดง Classification Report\n",
        "accuracy = accuracy_score(y_test30, y_pred30)\n",
        "precision = precision_score(y_test30, y_pred30)\n",
        "recall = recall_score(y_test30, y_pred30)\n",
        "f1 = f1_score(y_test30, y_pred30)\n",
        "print(\"Accuracy: {:.4f}\".format(accuracy))\n",
        "print(\"Precision: {:.4f}\".format(precision))\n",
        "print(\"Recall: {:.4f}\".format(recall))\n",
        "print(\"F1 Score: {:.4f}\".format(f1))"
      ]
    },
    {
      "cell_type": "code",
      "execution_count": null,
      "metadata": {
        "colab": {
          "base_uri": "https://localhost:8080/"
        },
        "id": "nkVdaN_vEKxb",
        "outputId": "519bc2b2-5128-449d-b725-0d0e54a2c606"
      },
      "outputs": [
        {
          "name": "stdout",
          "output_type": "stream",
          "text": [
            "Best Parameters: {'max_depth': np.int64(2), 'max_leaf_nodes': 5, 'min_samples_leaf': np.int64(1), 'min_samples_split': np.int64(2)}\n",
            "Best Cross-Validation Score: 0.9135583638172099\n",
            "DecisionTreeClassifier(max_depth=np.int64(2), max_leaf_nodes=5,\n",
            "                       min_samples_leaf=np.int64(1),\n",
            "                       min_samples_split=np.int64(2), random_state=42)\n"
          ]
        }
      ],
      "source": [
        "# Decision Tree with Feature Selection 80 : 20\n",
        "# Define the Decision Tree model\n",
        "dt_classifier = DecisionTreeClassifier(random_state=42)\n",
        "\n",
        "# Define the parameter grid for tuning\n",
        "param_grid = {\n",
        "    'max_depth': np.arange(2,11),         # ความลึกสูงสุดของต้นไม้\n",
        "    'min_samples_split': np.arange(2,11),       # ขนาดขั้นต่ำของ sample ก่อนที่จะแบ่ง node\n",
        "    'min_samples_leaf': np.arange(1,11), # ขนาดขั้นต่ำของ sample ใน leaf node\n",
        "    'max_leaf_nodes' : [5,10,15,20]\n",
        "}\n",
        "\n",
        "# Set up GridSearchCV\n",
        "grid_search = GridSearchCV(estimator=dt_classifier,\n",
        "                           param_grid=param_grid,\n",
        "                           cv=5,                # 5-fold cross-validation\n",
        "                           scoring='accuracy',  # ใช้คะแนนความแม่นยำ\n",
        "                           n_jobs=-1)          # ใช้ทุก CPU core\n",
        "\n",
        "# Fit the model to find the best parameters\n",
        "\n",
        "grid_search.fit(x_train_selected80, y_train80)\n",
        "\n",
        "# Display the best parameters and score\n",
        "print(\"Best Parameters:\", grid_search.best_params_)\n",
        "print(\"Best Cross-Validation Score:\", grid_search.best_score_)\n",
        "\n",
        "# Use the best estimator for predictions\n",
        "best_model = grid_search.best_estimator_\n",
        "print(best_model)"
      ]
    },
    {
      "cell_type": "code",
      "execution_count": null,
      "metadata": {
        "colab": {
          "base_uri": "https://localhost:8080/"
        },
        "id": "4ljCaClIhR1g",
        "outputId": "574d4747-f679-42c2-b629-3a544b1eecb7"
      },
      "outputs": [
        {
          "name": "stdout",
          "output_type": "stream",
          "text": [
            "Accuracy: 0.9366\n",
            "Precision: 0.9281\n",
            "Recall: 0.3126\n",
            "F1 Score: 0.4676\n"
          ]
        }
      ],
      "source": [
        "# Train Decistion tree 80 :20 With Selection\n",
        "dt_model = DecisionTreeClassifier(\n",
        "    max_depth=10,                # ความลึกสูงสุดของต้นไม้\n",
        "    max_leaf_nodes=20,           # จำนวน leaf nodes สูงสุด\n",
        "    min_samples_leaf=1,          # จำนวนขั้นต่ำของข้อมูลใน leaf node\n",
        "    min_samples_split=2,         # จำนวนขั้นต่ำของข้อมูลก่อนแยกโหนด\n",
        "    random_state=42              # สำหรับ reproducibility\n",
        ")\n",
        "\n",
        "# Train the model on the training data (70%)\n",
        "dt_model.fit(x_train_selected80, y_train80)\n",
        "\n",
        "# Make predictions on the test data (30%)\n",
        "y_pred20 = dt_model.predict(x_test_selected20)\n",
        "\n",
        "# แสดง Classification Report\n",
        "accuracy = accuracy_score(y_test20, y_pred20)\n",
        "precision = precision_score(y_test20, y_pred20)\n",
        "recall = recall_score(y_test20, y_pred20)\n",
        "f1 = f1_score(y_test20, y_pred20)\n",
        "print(\"Accuracy: {:.4f}\".format(accuracy))\n",
        "print(\"Precision: {:.4f}\".format(precision))\n",
        "print(\"Recall: {:.4f}\".format(recall))\n",
        "print(\"F1 Score: {:.4f}\".format(f1))"
      ]
    },
    {
      "cell_type": "markdown",
      "metadata": {
        "id": "KaA7LUjMETfH"
      },
      "source": [
        "# Decision Tree with SMOTE and Feature Selection"
      ]
    },
    {
      "cell_type": "code",
      "execution_count": null,
      "metadata": {
        "colab": {
          "base_uri": "https://localhost:8080/"
        },
        "id": "Wqs5v0PlEXWf",
        "outputId": "875fd0c6-4f21-45e4-8199-6c23ac6d0c12"
      },
      "outputs": [
        {
          "name": "stdout",
          "output_type": "stream",
          "text": [
            "Best Parameters: {'max_depth': 6, 'max_leaf_nodes': 20, 'min_samples_leaf': 1, 'min_samples_split': 2}\n",
            "Best Cross-Validation Score: 0.8344415409670525\n",
            "DecisionTreeClassifier(max_depth=6, max_leaf_nodes=20, random_state=42)\n"
          ]
        }
      ],
      "source": [
        "# Decision Tree with SMOTE and Feature Selection 70 : 30\n",
        "\n",
        "# Define the Decision Tree model\n",
        "dt_classifier = DecisionTreeClassifier(random_state=42)\n",
        "\n",
        "# Define the parameter grid for tuning\n",
        "param_grid = {\n",
        "    'max_depth': np.arange(2,11),         # ความลึกสูงสุดของต้นไม้\n",
        "    'min_samples_split': np.arange(2,11),       # ขนาดขั้นต่ำของ sample ก่อนที่จะแบ่ง node\n",
        "    'min_samples_leaf': np.arange(1,11), # ขนาดขั้นต่ำของ sample ใน leaf node\n",
        "    'max_leaf_nodes' : [5,10,15,20]\n",
        "}\n",
        "\n",
        "# Set up GridSearchCV\n",
        "grid_search = GridSearchCV(estimator=dt_classifier,\n",
        "                           param_grid=param_grid,\n",
        "                           cv=5,                # 5-fold cross-validation\n",
        "                           scoring='accuracy',  # ใช้คะแนนความแม่นยำ\n",
        "                           n_jobs=-1)          # ใช้ทุก CPU core\n",
        "\n",
        "# Fit the model to find the best parameters\n",
        "\n",
        "grid_search.fit(x_train_smoteselected70, y_train_smote70)\n",
        "\n",
        "# Display the best parameters and score\n",
        "print(\"Best Parameters:\", grid_search.best_params_)\n",
        "print(\"Best Cross-Validation Score:\", grid_search.best_score_)\n",
        "\n",
        "# Use the best estimator for predictions\n",
        "best_model = grid_search.best_estimator_\n",
        "print(best_model)"
      ]
    },
    {
      "cell_type": "code",
      "execution_count": null,
      "metadata": {
        "colab": {
          "base_uri": "https://localhost:8080/"
        },
        "id": "DjKbBOzlxGL9",
        "outputId": "0401fa73-9ea9-46b5-ac78-65dba8290f5b"
      },
      "outputs": [
        {
          "name": "stdout",
          "output_type": "stream",
          "text": [
            "Accuracy: 0.8438\n",
            "Precision: 0.8989\n",
            "Recall: 0.7748\n",
            "F1 Score: 0.8322\n"
          ]
        }
      ],
      "source": [
        "# Train Decistion tree 70 :30 With SMOTE and Selection\n",
        "dt_model = DecisionTreeClassifier(\n",
        "    max_depth=6,                # ความลึกสูงสุดของต้นไม้\n",
        "    max_leaf_nodes=20,           # จำนวน leaf nodes สูงสุด\n",
        "    min_samples_leaf=1,          # จำนวนขั้นต่ำของข้อมูลใน leaf node\n",
        "    min_samples_split=2,         # จำนวนขั้นต่ำของข้อมูลก่อนแยกโหนด\n",
        "    random_state=42              # สำหรับ reproducibility\n",
        ")\n",
        "\n",
        "# Train the model on the training data (70%)\n",
        "dt_model.fit(x_train_smoteselected70, y_train_smote70)\n",
        "\n",
        "# Make predictions on the test data (30%)\n",
        "y_pred30 = dt_model.predict(x_test_smoteselected30)\n",
        "\n",
        "# แสดง Classification Report\n",
        "accuracy = accuracy_score(y_test_smote70, y_pred30)\n",
        "precision = precision_score(y_test_smote70, y_pred30)\n",
        "recall = recall_score(y_test_smote70, y_pred30)\n",
        "f1 = f1_score(y_test_smote70, y_pred30)\n",
        "\n",
        "print(\"Accuracy: {:.4f}\".format(accuracy))\n",
        "print(\"Precision: {:.4f}\".format(precision))\n",
        "print(\"Recall: {:.4f}\".format(recall))\n",
        "print(\"F1 Score: {:.4f}\".format(f1))"
      ]
    },
    {
      "cell_type": "code",
      "execution_count": null,
      "metadata": {
        "colab": {
          "base_uri": "https://localhost:8080/"
        },
        "id": "ggmZZqAhEZ-C",
        "outputId": "78f2cfcd-d63a-4789-ea22-fd54d815e924"
      },
      "outputs": [
        {
          "name": "stdout",
          "output_type": "stream",
          "text": [
            "Best Parameters: {'max_depth': 8, 'max_leaf_nodes': 20, 'min_samples_leaf': 1, 'min_samples_split': 2}\n",
            "Best Cross-Validation Score: 0.8295991996633802\n",
            "DecisionTreeClassifier(max_depth=8, max_leaf_nodes=20, random_state=42)\n"
          ]
        }
      ],
      "source": [
        "# Decision Tree with SMOTE and Feature Selection 80 : 20\n",
        "\n",
        "# Define the Decision Tree model\n",
        "dt_classifier = DecisionTreeClassifier(random_state=42)\n",
        "\n",
        "# Define the parameter grid for tuning\n",
        "param_grid = {\n",
        "    'max_depth': np.arange(2,11),         # ความลึกสูงสุดของต้นไม้\n",
        "    'min_samples_split': np.arange(2,11),       # ขนาดขั้นต่ำของ sample ก่อนที่จะแบ่ง node\n",
        "    'min_samples_leaf': np.arange(1,11), # ขนาดขั้นต่ำของ sample ใน leaf node\n",
        "    'max_leaf_nodes' : [5,10,15,20]\n",
        "}\n",
        "\n",
        "# Set up GridSearchCV\n",
        "grid_search = GridSearchCV(estimator=dt_classifier,\n",
        "                           param_grid=param_grid,\n",
        "                           cv=5,                # 5-fold cross-validation\n",
        "                           scoring='accuracy',  # ใช้คะแนนความแม่นยำ\n",
        "                           n_jobs=-1)          # ใช้ทุก CPU core\n",
        "\n",
        "# Fit the model to find the best parameters\n",
        "\n",
        "grid_search.fit(x_train_smoteselected80, y_train_smote80)\n",
        "\n",
        "# Display the best parameters and score\n",
        "print(\"Best Parameters:\", grid_search.best_params_)\n",
        "print(\"Best Cross-Validation Score:\", grid_search.best_score_)\n",
        "\n",
        "# Use the best estimator for predictions\n",
        "best_model = grid_search.best_estimator_\n",
        "print(best_model)"
      ]
    },
    {
      "cell_type": "code",
      "execution_count": null,
      "metadata": {
        "colab": {
          "base_uri": "https://localhost:8080/"
        },
        "id": "fbojNN3GXCOS",
        "outputId": "69202e07-2550-4514-c645-be561559c6bd"
      },
      "outputs": [
        {
          "name": "stdout",
          "output_type": "stream",
          "text": [
            "Accuracy: 0.8500\n",
            "Precision: 0.8941\n",
            "Recall: 0.7941\n",
            "F1 Score: 0.8411\n"
          ]
        }
      ],
      "source": [
        "# Train Decistion tree 80 :20 With SMOTE and Selection\n",
        "dt_model = DecisionTreeClassifier(\n",
        "    max_depth=8,                # ความลึกสูงสุดของต้นไม้\n",
        "    max_leaf_nodes=20,           # จำนวน leaf nodes สูงสุด\n",
        "    min_samples_leaf=1,          # จำนวนขั้นต่ำของข้อมูลใน leaf node\n",
        "    min_samples_split=2,         # จำนวนขั้นต่ำของข้อมูลก่อนแยกโหนด\n",
        "    random_state=42              # สำหรับ reproducibility\n",
        ")\n",
        "\n",
        "# Train the model on the training data (80%)\n",
        "dt_model.fit(x_train_smoteselected80, y_train_smote80)\n",
        "\n",
        "# Make predictions on the test data (30%)\n",
        "y_pred20 = dt_model.predict(x_test_smoteselected20)\n",
        "\n",
        "# แสดง Classification Report\n",
        "accuracy = accuracy_score(y_test_smote80, y_pred20)\n",
        "precision = precision_score(y_test_smote80, y_pred20)\n",
        "recall = recall_score(y_test_smote80, y_pred20)\n",
        "f1 = f1_score(y_test_smote80, y_pred20)\n",
        "\n",
        "print(\"Accuracy: {:.4f}\".format(accuracy))\n",
        "print(\"Precision: {:.4f}\".format(precision))\n",
        "print(\"Recall: {:.4f}\".format(recall))\n",
        "print(\"F1 Score: {:.4f}\".format(f1))"
      ]
    },
    {
      "cell_type": "markdown",
      "metadata": {
        "id": "q0ZUbvxg3ezq"
      },
      "source": [
        "# Random forest without SMOTE and Feature Selection"
      ]
    },
    {
      "cell_type": "code",
      "execution_count": null,
      "metadata": {
        "colab": {
          "base_uri": "https://localhost:8080/"
        },
        "id": "g7g0c-b9Eo6h",
        "outputId": "71253ed4-e676-4dd3-c0c6-c04699f8ef8a"
      },
      "outputs": [
        {
          "name": "stdout",
          "output_type": "stream",
          "text": [
            "Best Parameters: {'max_depth': 10, 'min_samples_leaf': 1, 'min_samples_split': 2, 'n_estimators': 100}\n"
          ]
        }
      ],
      "source": [
        "# Random forest without SMOTE and Feature Selection 70 : 30\n",
        "\n",
        "# สร้างโมเดล Random Forest\n",
        "rf = RandomForestClassifier(random_state=42)\n",
        "\n",
        "# กำหนดพารามิเตอร์สำหรับปรับแต่ง\n",
        "param_grid = {\n",
        "    'max_depth': [2, 5 ,7, 10],  # ความลึกของต้นไม้\n",
        "    'min_samples_leaf': [1, 2, 4],   # จำนวนข้อมูลขั้นต่ำที่ต้องมีในใบ\n",
        "    'min_samples_split': [2, 5, 10], # จำนวนข้อมูลขั้นต่ำที่ต้องมีเพื่อแยกโหนด\n",
        "    'n_estimators': [100, 200, 300]   # จำนวนต้นไม้ในป่า\n",
        "}\n",
        "\n",
        "# ใช้ GridSearchCV สำหรับ Cross-Validation\n",
        "grid_search = GridSearchCV(estimator=rf, param_grid=param_grid, cv=5, scoring='accuracy', n_jobs=-1)\n",
        "grid_search.fit(x_train70_scaled, y_train70)\n",
        "\n",
        "# แสดงผลลัพธ์พารามิเตอร์ที่ดีที่สุด\n",
        "print(\"Best Parameters:\", grid_search.best_params_)\n"
      ]
    },
    {
      "cell_type": "code",
      "execution_count": null,
      "metadata": {
        "colab": {
          "base_uri": "https://localhost:8080/"
        },
        "id": "DqsJvSyzS3-N",
        "outputId": "6b6f8658-c45c-4293-f6c7-0f9c74d0c3a9"
      },
      "outputs": [
        {
          "name": "stdout",
          "output_type": "stream",
          "text": [
            "Accuracy: 0.9209\n",
            "Precision: 0.9769\n",
            "Recall: 0.1281\n",
            "F1 Score: 0.2265\n"
          ]
        }
      ],
      "source": [
        "# สร้างโมเดล Random Forest\n",
        "rf_model = RandomForestClassifier(\n",
        "    n_estimators=100,            # จำนวนต้นไม้ในป่า\n",
        "    max_depth=10,                # ความลึกสูงสุดของต้นไม้\n",
        "    min_samples_leaf=1,          # จำนวนขั้นต่ำของข้อมูลใน leaf node\n",
        "    min_samples_split=2,         # จำนวนขั้นต่ำของข้อมูลก่อนแยกโหนด\n",
        "    random_state=42              # สำหรับ reproducibility\n",
        ")\n",
        "\n",
        "# Train the model on the training data (70%)\n",
        "rf_model.fit(x_train70_scaled, y_train70)\n",
        "\n",
        "# Make predictions on the test data (30%)\n",
        "y_pred30 = rf_model.predict(x_test30_scaled)\n",
        "\n",
        "# แสดง Classification Report\n",
        "accuracy = accuracy_score(y_test30, y_pred30)\n",
        "precision = precision_score(y_test30, y_pred30)\n",
        "recall = recall_score(y_test30, y_pred30)\n",
        "f1 = f1_score(y_test30, y_pred30)\n",
        "\n",
        "print(\"Accuracy: {:.4f}\".format(accuracy))\n",
        "print(\"Precision: {:.4f}\".format(precision))\n",
        "print(\"Recall: {:.4f}\".format(recall))\n",
        "print(\"F1 Score: {:.4f}\".format(f1))\n"
      ]
    },
    {
      "cell_type": "code",
      "execution_count": null,
      "metadata": {
        "colab": {
          "base_uri": "https://localhost:8080/"
        },
        "id": "KcGuRSo-ErB2",
        "outputId": "1fc2769e-6438-4082-8da5-a5ef4a4a0e3c"
      },
      "outputs": [
        {
          "name": "stdout",
          "output_type": "stream",
          "text": [
            "Best Parameters: {'max_depth': 10, 'min_samples_leaf': 2, 'min_samples_split': 5, 'n_estimators': 300}\n",
            "Test Accuracy: 0.0891\n"
          ]
        },
        {
          "name": "stderr",
          "output_type": "stream",
          "text": [
            "/usr/local/lib/python3.11/dist-packages/sklearn/base.py:458: UserWarning: X has feature names, but RandomForestClassifier was fitted without feature names\n",
            "  warnings.warn(\n"
          ]
        }
      ],
      "source": [
        "# Random forest without SMOTE and Feature Selection 80 : 20\n",
        "\n",
        "# สร้างโมเดล Random Forest\n",
        "rf = RandomForestClassifier(random_state=42)\n",
        "\n",
        "# กำหนดพารามิเตอร์สำหรับปรับแต่ง\n",
        "param_grid = {\n",
        "    'max_depth': [2, 5 ,7, 10],  # ความลึกของต้นไม้\n",
        "    'min_samples_leaf': [1, 2, 4],   # จำนวนข้อมูลขั้นต่ำที่ต้องมีในใบ\n",
        "    'min_samples_split': [2, 5, 10], # จำนวนข้อมูลขั้นต่ำที่ต้องมีเพื่อแยกโหนด\n",
        "    'n_estimators': [100, 200, 300]   # จำนวนต้นไม้ในป่า\n",
        "}\n",
        "\n",
        "# ใช้ GridSearchCV สำหรับ Cross-Validation\n",
        "grid_search = GridSearchCV(estimator=rf, param_grid=param_grid, cv=5, scoring='accuracy', n_jobs=-1)\n",
        "grid_search.fit(x_train80_scaled, y_train80)\n",
        "\n",
        "# แสดงผลลัพธ์พารามิเตอร์ที่ดีที่สุด\n",
        "print(\"Best Parameters:\", grid_search.best_params_)"
      ]
    },
    {
      "cell_type": "code",
      "execution_count": null,
      "metadata": {
        "colab": {
          "base_uri": "https://localhost:8080/"
        },
        "id": "zKtMG2lRnXSv",
        "outputId": "24b1b67a-1805-4791-c0c3-b20d679d0f9d"
      },
      "outputs": [
        {
          "name": "stdout",
          "output_type": "stream",
          "text": [
            "Accuracy: 0.9229\n",
            "Precision: 0.9835\n",
            "Recall: 0.1373\n",
            "F1 Score: 0.2409\n"
          ]
        }
      ],
      "source": [
        "\n",
        "# สร้างโมเดล Random Forest   80 : 20\n",
        "rf_model = RandomForestClassifier(\n",
        "    n_estimators=300,            # จำนวนต้นไม้ในป่า\n",
        "    max_depth=10,                # ความลึกสูงสุดของต้นไม้\n",
        "    min_samples_leaf=2,          # จำนวนขั้นต่ำของข้อมูลใน leaf node\n",
        "    min_samples_split=5,         # จำนวนขั้นต่ำของข้อมูลก่อนแยกโหนด\n",
        "    random_state=42              # สำหรับ reproducibility\n",
        ")\n",
        "\n",
        "# Train the model on the training data (80%)\n",
        "rf_model.fit(x_train80_scaled, y_train80)\n",
        "\n",
        "# Make predictions on the test data (20%)\n",
        "y_pred20 = rf_model.predict(x_test20_scaled)\n",
        "\n",
        "# แสดง Classification Report\n",
        "accuracy = accuracy_score(y_test20, y_pred20)\n",
        "precision = precision_score(y_test20, y_pred20)\n",
        "recall = recall_score(y_test20, y_pred20)\n",
        "f1 = f1_score(y_test20, y_pred20)\n",
        "\n",
        "print(\"Accuracy: {:.4f}\".format(accuracy))\n",
        "print(\"Precision: {:.4f}\".format(precision))\n",
        "print(\"Recall: {:.4f}\".format(recall))\n",
        "print(\"F1 Score: {:.4f}\".format(f1))\n"
      ]
    },
    {
      "cell_type": "markdown",
      "metadata": {
        "id": "1O4C8W7lEvJC"
      },
      "source": [
        "# Random Forest with SMOTE"
      ]
    },
    {
      "cell_type": "code",
      "execution_count": null,
      "metadata": {
        "colab": {
          "base_uri": "https://localhost:8080/"
        },
        "id": "2W8E5vr3E1FN",
        "outputId": "7e8489c1-d6a7-4ec0-ab53-35f239a936dd"
      },
      "outputs": [
        {
          "name": "stdout",
          "output_type": "stream",
          "text": [
            "Best Parameters: {'max_depth': 10, 'min_samples_leaf': 1, 'min_samples_split': 10, 'n_estimators': 100}\n"
          ]
        }
      ],
      "source": [
        "# Random Forest with SMOTE 70 : 30\n",
        "# สร้างโมเดล Random Forest\n",
        "rf = RandomForestClassifier(random_state=42)\n",
        "\n",
        "# กำหนดพารามิเตอร์สำหรับปรับแต่ง\n",
        "param_grid = {\n",
        "    'max_depth': [2, 5 ,7, 10],  # ความลึกของต้นไม้\n",
        "    'min_samples_leaf': [1, 2, 4],   # จำนวนข้อมูลขั้นต่ำที่ต้องมีในใบ\n",
        "    'min_samples_split': [2, 5, 10], # จำนวนข้อมูลขั้นต่ำที่ต้องมีเพื่อแยกโหนด\n",
        "    'n_estimators': [100, 200, 300]   # จำนวนต้นไม้ในป่า\n",
        "}\n",
        "\n",
        "# ใช้ GridSearchCV สำหรับ Cross-Validation\n",
        "grid_search = GridSearchCV(estimator=rf, param_grid=param_grid, cv=5, scoring='accuracy', n_jobs=-1)\n",
        "grid_search.fit(x_train_smote70, y_train_smote70)\n",
        "\n",
        "# แสดงผลลัพธ์พารามิเตอร์ที่ดีที่สุด\n",
        "print(\"Best Parameters:\", grid_search.best_params_)"
      ]
    },
    {
      "cell_type": "code",
      "execution_count": null,
      "metadata": {
        "colab": {
          "base_uri": "https://localhost:8080/"
        },
        "id": "CNnT1OjTXKIZ",
        "outputId": "daa7a8ea-3594-4975-f030-24351b763b16"
      },
      "outputs": [
        {
          "name": "stdout",
          "output_type": "stream",
          "text": [
            "Accuracy: 0.8626\n",
            "Precision: 0.8690\n",
            "Recall: 0.8539\n",
            "F1 Score: 0.8614\n"
          ]
        }
      ],
      "source": [
        "# สร้างโมเดล Random Forest\n",
        "rf_model = RandomForestClassifier(\n",
        "    n_estimators=100,            # จำนวนต้นไม้ในป่า\n",
        "    max_depth=10,                # ความลึกสูงสุดของต้นไม้\n",
        "    min_samples_leaf=1,          # จำนวนขั้นต่ำของข้อมูลใน leaf node\n",
        "    min_samples_split=10,         # จำนวนขั้นต่ำของข้อมูลก่อนแยกโหนด\n",
        "    random_state=42              # สำหรับ reproducibility\n",
        ")\n",
        "\n",
        "# Train the model on the training data (70%)\n",
        "rf_model.fit(x_train_smote70, y_train_smote70)\n",
        "\n",
        "# Make predictions on the test data (30%)\n",
        "y_pred30 = rf_model.predict(x_test_smote70)\n",
        "\n",
        "# แสดง Classification Report\n",
        "accuracy = accuracy_score(y_test_smote70, y_pred30)\n",
        "precision = precision_score(y_test_smote70, y_pred30)\n",
        "recall = recall_score(y_test_smote70, y_pred30)\n",
        "f1 = f1_score(y_test_smote70, y_pred30)\n",
        "\n",
        "print(\"Accuracy: {:.4f}\".format(accuracy))\n",
        "print(\"Precision: {:.4f}\".format(precision))\n",
        "print(\"Recall: {:.4f}\".format(recall))\n",
        "print(\"F1 Score: {:.4f}\".format(f1))"
      ]
    },
    {
      "cell_type": "code",
      "execution_count": null,
      "metadata": {
        "colab": {
          "base_uri": "https://localhost:8080/"
        },
        "id": "iRVdPlw1E3kF",
        "outputId": "8c9a6b3f-3bdd-4f7c-b823-6fa68232b61b"
      },
      "outputs": [
        {
          "name": "stdout",
          "output_type": "stream",
          "text": [
            "Best Parameters: {'max_depth': 10, 'min_samples_leaf': 1, 'min_samples_split': 10, 'n_estimators': 200}\n"
          ]
        }
      ],
      "source": [
        "# Random Forest with SMOTE 80 : 20\n",
        "\n",
        "# สร้างโมเดล Random Forest\n",
        "rf = RandomForestClassifier(random_state=42)\n",
        "\n",
        "# กำหนดพารามิเตอร์สำหรับปรับแต่ง\n",
        "param_grid = {\n",
        "    'max_depth': [2, 5 ,7, 10],  # ความลึกของต้นไม้\n",
        "    'min_samples_leaf': [1, 2, 4],   # จำนวนข้อมูลขั้นต่ำที่ต้องมีในใบ\n",
        "    'min_samples_split': [2, 5, 10], # จำนวนข้อมูลขั้นต่ำที่ต้องมีเพื่อแยกโหนด\n",
        "    'n_estimators': [100, 200, 300]   # จำนวนต้นไม้ในป่า\n",
        "}\n",
        "\n",
        "# ใช้ GridSearchCV สำหรับ Cross-Validation\n",
        "grid_search = GridSearchCV(estimator=rf, param_grid=param_grid, cv=5, scoring='accuracy', n_jobs=-1)\n",
        "grid_search.fit(x_train_smote80, y_train_smote80)\n",
        "\n",
        "# แสดงผลลัพธ์พารามิเตอร์ที่ดีที่สุด\n",
        "print(\"Best Parameters:\", grid_search.best_params_)"
      ]
    },
    {
      "cell_type": "code",
      "execution_count": null,
      "metadata": {
        "colab": {
          "base_uri": "https://localhost:8080/"
        },
        "id": "3sbljllWXV84",
        "outputId": "05b0287e-cc7f-4709-c192-9fb2771f972a"
      },
      "outputs": [
        {
          "name": "stdout",
          "output_type": "stream",
          "text": [
            "Accuracy: 0.8756\n",
            "Precision: 0.8746\n",
            "Recall: 0.8769\n",
            "F1 Score: 0.8757\n"
          ]
        }
      ],
      "source": [
        "# สร้างโมเดล Random Forest   80 : 20\n",
        "rf_model = RandomForestClassifier(\n",
        "    n_estimators=200,            # จำนวนต้นไม้ในป่า\n",
        "    max_depth=10,                # ความลึกสูงสุดของต้นไม้\n",
        "    min_samples_leaf=1,          # จำนวนขั้นต่ำของข้อมูลใน leaf node\n",
        "    min_samples_split=10,         # จำนวนขั้นต่ำของข้อมูลก่อนแยกโหนด\n",
        "    random_state=42              # สำหรับ reproducibility\n",
        ")\n",
        "\n",
        "# Train the model on the training data (80%)\n",
        "rf_model.fit(x_train_smote80, y_train_smote80)\n",
        "\n",
        "# Make predictions on the test data (20%)\n",
        "y_pred20 = rf_model.predict(x_test_smote80)\n",
        "\n",
        "# แสดง Classification Report\n",
        "accuracy = accuracy_score(y_test_smote80, y_pred20)\n",
        "precision = precision_score(y_test_smote80, y_pred20)\n",
        "recall = recall_score(y_test_smote80, y_pred20)\n",
        "f1 = f1_score(y_test_smote80, y_pred20)\n",
        "\n",
        "print(\"Accuracy: {:.4f}\".format(accuracy))\n",
        "print(\"Precision: {:.4f}\".format(precision))\n",
        "print(\"Recall: {:.4f}\".format(recall))\n",
        "print(\"F1 Score: {:.4f}\".format(f1))"
      ]
    },
    {
      "cell_type": "markdown",
      "metadata": {
        "id": "1btZ_kHiE7Sn"
      },
      "source": [
        "# Random Forest with Feature Selection"
      ]
    },
    {
      "cell_type": "code",
      "execution_count": null,
      "metadata": {
        "colab": {
          "base_uri": "https://localhost:8080/"
        },
        "id": "gx4Q5CSdFAXn",
        "outputId": "f763b2a0-01a9-4be2-fa0e-711253b8d674"
      },
      "outputs": [
        {
          "name": "stdout",
          "output_type": "stream",
          "text": [
            "Best Parameters: {'max_depth': 10, 'min_samples_leaf': 4, 'min_samples_split': 2, 'n_estimators': 300}\n"
          ]
        }
      ],
      "source": [
        "# Random Forest with Feature Selection 70 : 30\n",
        "\n",
        "# สร้างโมเดล Random Forest\n",
        "rf = RandomForestClassifier(random_state=42)\n",
        "\n",
        "# กำหนดพารามิเตอร์สำหรับปรับแต่ง\n",
        "param_grid = {\n",
        "    'max_depth': [2, 5 ,7, 10],  # ความลึกของต้นไม้\n",
        "    'min_samples_leaf': [1, 2, 4],   # จำนวนข้อมูลขั้นต่ำที่ต้องมีในใบ\n",
        "    'min_samples_split': [2, 5, 10], # จำนวนข้อมูลขั้นต่ำที่ต้องมีเพื่อแยกโหนด\n",
        "    'n_estimators': [100, 200, 300]   # จำนวนต้นไม้ในป่า\n",
        "}\n",
        "\n",
        "# ใช้ GridSearchCV สำหรับ Cross-Validation\n",
        "grid_search = GridSearchCV(estimator=rf, param_grid=param_grid, cv=5, scoring='accuracy', n_jobs=-1)\n",
        "grid_search.fit(x_train_selected70, y_train70)\n",
        "\n",
        "# แสดงผลลัพธ์พารามิเตอร์ที่ดีที่สุด\n",
        "print(\"Best Parameters:\", grid_search.best_params_)"
      ]
    },
    {
      "cell_type": "code",
      "execution_count": null,
      "metadata": {
        "colab": {
          "base_uri": "https://localhost:8080/"
        },
        "id": "wr2OPNgNXc7v",
        "outputId": "c395498a-cea9-4e69-adfc-c251ab539577"
      },
      "outputs": [
        {
          "name": "stdout",
          "output_type": "stream",
          "text": [
            "Accuracy: 0.9358\n",
            "Precision: 0.9401\n",
            "Recall: 0.3093\n",
            "F1 Score: 0.4655\n"
          ]
        }
      ],
      "source": [
        "# สร้างโมเดล Random Forest\n",
        "rf_model = RandomForestClassifier(\n",
        "    n_estimators=300,            # จำนวนต้นไม้ในป่า\n",
        "    max_depth=10,                # ความลึกสูงสุดของต้นไม้\n",
        "    min_samples_leaf=4,          # จำนวนขั้นต่ำของข้อมูลใน leaf node\n",
        "    min_samples_split=2,         # จำนวนขั้นต่ำของข้อมูลก่อนแยกโหนด\n",
        "    random_state=42              # สำหรับ reproducibility\n",
        ")\n",
        "\n",
        "# Train the model on the training data (70%)\n",
        "rf_model.fit(x_train_selected70, y_train70)\n",
        "\n",
        "# Make predictions on the test data (30%)\n",
        "y_pred30 = rf_model.predict(x_test_selected30)\n",
        "\n",
        "# แสดง Classification Report\n",
        "accuracy = accuracy_score(y_test30, y_pred30)\n",
        "precision = precision_score(y_test30, y_pred30)\n",
        "recall = recall_score(y_test30, y_pred30)\n",
        "f1 = f1_score(y_test30, y_pred30)\n",
        "\n",
        "print(\"Accuracy: {:.4f}\".format(accuracy))\n",
        "print(\"Precision: {:.4f}\".format(precision))\n",
        "print(\"Recall: {:.4f}\".format(recall))\n",
        "print(\"F1 Score: {:.4f}\".format(f1))"
      ]
    },
    {
      "cell_type": "code",
      "execution_count": null,
      "metadata": {
        "colab": {
          "base_uri": "https://localhost:8080/"
        },
        "id": "E4wLREoNFCCB",
        "outputId": "2000e2a3-75b9-4c08-dcca-a5ed857e3eb0"
      },
      "outputs": [
        {
          "name": "stdout",
          "output_type": "stream",
          "text": [
            "Best Parameters: {'max_depth': 10, 'min_samples_leaf': 2, 'min_samples_split': 2, 'n_estimators': 300}\n"
          ]
        }
      ],
      "source": [
        "# Random Forest with Feature Selection 80 : 20\n",
        "# สร้างโมเดล Random Forest\n",
        "rf = RandomForestClassifier(random_state=42)\n",
        "\n",
        "# กำหนดพารามิเตอร์สำหรับปรับแต่ง\n",
        "param_grid = {\n",
        "    'max_depth': [2, 5 ,7, 10],  # ความลึกของต้นไม้\n",
        "    'min_samples_leaf': [1, 2, 4],   # จำนวนข้อมูลขั้นต่ำที่ต้องมีในใบ\n",
        "    'min_samples_split': [2, 5, 10], # จำนวนข้อมูลขั้นต่ำที่ต้องมีเพื่อแยกโหนด\n",
        "    'n_estimators': [100, 200, 300]   # จำนวนต้นไม้ในป่า\n",
        "}\n",
        "\n",
        "# ใช้ GridSearchCV สำหรับ Cross-Validation\n",
        "grid_search = GridSearchCV(estimator=rf, param_grid=param_grid, cv=5, scoring='accuracy', n_jobs=-1)\n",
        "grid_search.fit(x_train_selected80, y_train80)\n",
        "\n",
        "# แสดงผลลัพธ์พารามิเตอร์ที่ดีที่สุด\n",
        "print(\"Best Parameters:\", grid_search.best_params_)\n"
      ]
    },
    {
      "cell_type": "code",
      "execution_count": null,
      "metadata": {
        "colab": {
          "base_uri": "https://localhost:8080/"
        },
        "id": "j2t9pDxNXi2o",
        "outputId": "40e4f3d9-4a02-4406-9b47-a57395772f7e"
      },
      "outputs": [
        {
          "name": "stdout",
          "output_type": "stream",
          "text": [
            "Accuracy: 0.9367\n",
            "Precision: 0.9197\n",
            "Recall: 0.3172\n",
            "F1 Score: 0.4717\n"
          ]
        }
      ],
      "source": [
        "# สร้างโมเดล Random Forest   80 : 20\n",
        "rf_model = RandomForestClassifier(\n",
        "    n_estimators=300,            # จำนวนต้นไม้ในป่า\n",
        "    max_depth=10,                # ความลึกสูงสุดของต้นไม้\n",
        "    min_samples_leaf=2,          # จำนวนขั้นต่ำของข้อมูลใน leaf node\n",
        "    min_samples_split=2,         # จำนวนขั้นต่ำของข้อมูลก่อนแยกโหนด\n",
        "    random_state=42              # สำหรับ reproducibility\n",
        ")\n",
        "\n",
        "# Train the model on the training data (80%)\n",
        "rf_model.fit(x_train_selected80, y_train80)\n",
        "\n",
        "# Make predictions on the test data (20%)\n",
        "y_pred20 = rf_model.predict(x_test_selected20)\n",
        "\n",
        "# แสดง Classification Report\n",
        "accuracy = accuracy_score(y_test20, y_pred20)\n",
        "precision = precision_score(y_test20, y_pred20)\n",
        "recall = recall_score(y_test20, y_pred20)\n",
        "f1 = f1_score(y_test20, y_pred20)\n",
        "\n",
        "print(\"Accuracy: {:.4f}\".format(accuracy))\n",
        "print(\"Precision: {:.4f}\".format(precision))\n",
        "print(\"Recall: {:.4f}\".format(recall))\n",
        "print(\"F1 Score: {:.4f}\".format(f1))"
      ]
    },
    {
      "cell_type": "markdown",
      "metadata": {
        "id": "tQiLo7UEF3Ym"
      },
      "source": [
        "# Random Forest with SMOTE and Feature Selection"
      ]
    },
    {
      "cell_type": "code",
      "execution_count": null,
      "metadata": {
        "colab": {
          "base_uri": "https://localhost:8080/"
        },
        "id": "omVU6HVjF9k-",
        "outputId": "404bb971-21bd-4634-81e5-d85eabf37f5c"
      },
      "outputs": [
        {
          "name": "stdout",
          "output_type": "stream",
          "text": [
            "Best Parameters: {'max_depth': 10, 'min_samples_leaf': 1, 'min_samples_split': 10, 'n_estimators': 100}\n"
          ]
        }
      ],
      "source": [
        "# Random Forest with SMOTE and Feature Selection 70 : 30\n",
        "# สร้างโมเดล Random Forest\n",
        "rf = RandomForestClassifier(random_state=42)\n",
        "\n",
        "# กำหนดพารามิเตอร์สำหรับปรับแต่ง\n",
        "param_grid = {\n",
        "    'max_depth': [2, 5 ,7, 10],  # ความลึกของต้นไม้\n",
        "    'min_samples_leaf': [1, 2, 4],   # จำนวนข้อมูลขั้นต่ำที่ต้องมีในใบ\n",
        "    'min_samples_split': [2, 5, 10], # จำนวนข้อมูลขั้นต่ำที่ต้องมีเพื่อแยกโหนด\n",
        "    'n_estimators': [100, 200, 300]   # จำนวนต้นไม้ในป่า\n",
        "}\n",
        "\n",
        "# ใช้ GridSearchCV สำหรับ Cross-Validation\n",
        "grid_search = GridSearchCV(estimator=rf, param_grid=param_grid, cv=5, scoring='accuracy', n_jobs=-1)\n",
        "grid_search.fit(x_train_smoteselected70, y_train_smote70)\n",
        "\n",
        "# แสดงผลลัพธ์พารามิเตอร์ที่ดีที่สุด\n",
        "print(\"Best Parameters:\", grid_search.best_params_)"
      ]
    },
    {
      "cell_type": "code",
      "execution_count": null,
      "metadata": {
        "colab": {
          "base_uri": "https://localhost:8080/"
        },
        "id": "cae_X5Z7Ol0N",
        "outputId": "83bb4d0a-32c7-47ea-d3c9-5d56dbdab923"
      },
      "outputs": [
        {
          "name": "stdout",
          "output_type": "stream",
          "text": [
            "Accuracy: 0.8846\n",
            "Precision: 0.9219\n",
            "Recall: 0.8403\n",
            "F1 Score: 0.8792\n"
          ]
        }
      ],
      "source": [
        "# สร้างโมเดล Random Forest\n",
        "rf_model = RandomForestClassifier(\n",
        "    n_estimators=200,            # จำนวนต้นไม้ในป่า\n",
        "    max_depth=10,                # ความลึกสูงสุดของต้นไม้\n",
        "    min_samples_leaf=1,          # จำนวนขั้นต่ำของข้อมูลใน leaf node\n",
        "    min_samples_split=10,         # จำนวนขั้นต่ำของข้อมูลก่อนแยกโหนด\n",
        "    random_state=42              # สำหรับ reproducibility\n",
        ")\n",
        "\n",
        "# Train the model on the training data (70%)\n",
        "rf_model.fit(x_train_smoteselected70,  y_train_smote70)\n",
        "\n",
        "# Make predictions on the test data (30%)\n",
        "y_pred30 = rf_model.predict(x_test_smoteselected30)\n",
        "\n",
        "\n",
        "# แสดง Classification Report\n",
        "accuracy = accuracy_score(y_test_smote70, y_pred30)\n",
        "precision = precision_score(y_test_smote70, y_pred30)\n",
        "recall = recall_score(y_test_smote70, y_pred30)\n",
        "f1 = f1_score(y_test_smote70, y_pred30)\n",
        "\n",
        "print(\"Accuracy: {:.4f}\".format(accuracy))\n",
        "print(\"Precision: {:.4f}\".format(precision))\n",
        "print(\"Recall: {:.4f}\".format(recall))\n",
        "print(\"F1 Score: {:.4f}\".format(f1))"
      ]
    },
    {
      "cell_type": "code",
      "execution_count": null,
      "metadata": {
        "colab": {
          "base_uri": "https://localhost:8080/"
        },
        "id": "t1pO6AGEF_P-",
        "outputId": "d852d9e8-4d94-4bee-b7f8-2815b0639e00"
      },
      "outputs": [
        {
          "name": "stdout",
          "output_type": "stream",
          "text": [
            "Best Parameters: {'max_depth': 10, 'min_samples_leaf': 1, 'min_samples_split': 10, 'n_estimators': 300}\n"
          ]
        }
      ],
      "source": [
        "# Random Forest with SMOTE and Feature Selection 80 : 20\n",
        "# สร้างโมเดล Random Forest\n",
        "rf = RandomForestClassifier(random_state=42)\n",
        "\n",
        "# กำหนดพารามิเตอร์สำหรับปรับแต่ง\n",
        "param_grid = {\n",
        "    'max_depth': [2, 5 ,7, 10],  # ความลึกของต้นไม้\n",
        "    'min_samples_leaf': [1, 2, 4],   # จำนวนข้อมูลขั้นต่ำที่ต้องมีในใบ\n",
        "    'min_samples_split': [2, 5, 10], # จำนวนข้อมูลขั้นต่ำที่ต้องมีเพื่อแยกโหนด\n",
        "    'n_estimators': [100, 200, 300]   # จำนวนต้นไม้ในป่า\n",
        "}\n",
        "\n",
        "# ใช้ GridSearchCV สำหรับ Cross-Validation\n",
        "grid_search = GridSearchCV(estimator=rf, param_grid=param_grid, cv=5, scoring='accuracy', n_jobs=-1)\n",
        "grid_search.fit(x_train_smoteselected80, y_train_smote80)\n",
        "\n",
        "# แสดงผลลัพธ์พารามิเตอร์ที่ดีที่สุด\n",
        "print(\"Best Parameters:\", grid_search.best_params_)"
      ]
    },
    {
      "cell_type": "code",
      "execution_count": null,
      "metadata": {
        "colab": {
          "base_uri": "https://localhost:8080/"
        },
        "id": "Mg0EnFosRQEe",
        "outputId": "5e780dff-821f-47ad-e36b-40b33015e355"
      },
      "outputs": [
        {
          "name": "stdout",
          "output_type": "stream",
          "text": [
            "Accuracy: 0.8920\n",
            "Precision: 0.9280\n",
            "Recall: 0.8500\n",
            "F1 Score: 0.8873\n"
          ]
        }
      ],
      "source": [
        "# สร้างโมเดล Random Forest\n",
        "rf_model = RandomForestClassifier(\n",
        "    n_estimators=300,            # จำนวนต้นไม้ในป่า\n",
        "    max_depth=10,                # ความลึกสูงสุดของต้นไม้\n",
        "    min_samples_leaf=1,          # จำนวนขั้นต่ำของข้อมูลใน leaf node\n",
        "    min_samples_split=10,         # จำนวนขั้นต่ำของข้อมูลก่อนแยกโหนด\n",
        "    random_state=42              # สำหรับ reproducibility\n",
        ")\n",
        "\n",
        "# Train the model on the training data (80%)\n",
        "rf_model.fit(x_train_smoteselected80,  y_train_smote80)\n",
        "\n",
        "# Make predictions on the test data (20%)\n",
        "y_pred20 = rf_model.predict(x_test_smoteselected20)\n",
        "\n",
        "\n",
        "# แสดง Classification Report\n",
        "accuracy = accuracy_score(y_test_smote80, y_pred20)\n",
        "precision = precision_score(y_test_smote80, y_pred20)  # ใช้ average='weighted' สำหรับ multiclass\n",
        "recall = recall_score(y_test_smote80, y_pred20)\n",
        "f1 = f1_score(y_test_smote80, y_pred20)\n",
        "\n",
        "print(\"Accuracy: {:.4f}\".format(accuracy))\n",
        "print(\"Precision: {:.4f}\".format(precision))\n",
        "print(\"Recall: {:.4f}\".format(recall))\n",
        "print(\"F1 Score: {:.4f}\".format(f1))"
      ]
    },
    {
      "cell_type": "markdown",
      "metadata": {
        "id": "68pGzh7s3mV-"
      },
      "source": [
        "# XGBoost without SMOTE and Feature Selection"
      ]
    },
    {
      "cell_type": "code",
      "execution_count": null,
      "metadata": {
        "colab": {
          "base_uri": "https://localhost:8080/"
        },
        "id": "7f-CjjOGGlQu",
        "outputId": "185ec6bd-fc2b-4b23-e68c-da9191287b3c"
      },
      "outputs": [
        {
          "name": "stdout",
          "output_type": "stream",
          "text": [
            "Fitting 5 folds for each of 160 candidates, totalling 800 fits\n",
            "Best Parameters: {'learning_rate': 0.1, 'max_depth': 4, 'n_estimators': 500}\n",
            "Best Cross-Validation Accuracy: 0.942868789322751\n"
          ]
        }
      ],
      "source": [
        "# XGBoost without SMOTE and Feature Selection 70 : 30\n",
        "\n",
        "#x_train70['awards_won?'] = x_train70['awards_won?'].cat.codes\n",
        "#x_test30['awards_won?'] = x_test30['awards_won?'].cat.codes\n",
        "# Define model\n",
        "model = xgb.XGBClassifier(eval_metric='logloss', random_state=42)\n",
        "\n",
        "\n",
        "# Define hyperparameter grid\n",
        "param_grid = {\n",
        "    'n_estimators': [100, 200, 300, 400, 500],\n",
        "    'max_depth': np.arange(3, 11),\n",
        "    'learning_rate': [0.01, 0.1, 0.2, 0.3],\n",
        "}\n",
        "\n",
        "# Use GridSearchCV\n",
        "grid_search = GridSearchCV(\n",
        "    estimator=model,\n",
        "    param_grid=param_grid,\n",
        "    scoring='accuracy',  # Use an appropriate scoring metric for classification\n",
        "    cv=5,\n",
        "    verbose=1\n",
        ")\n",
        "\n",
        "# Fit model\n",
        "grid_search.fit(x_train70, y_train70)\n",
        "# Output results\n",
        "print(\"Best Parameters:\", grid_search.best_params_)\n",
        "print(\"Best Cross-Validation Accuracy:\", grid_search.best_score_)"
      ]
    },
    {
      "cell_type": "code",
      "execution_count": null,
      "metadata": {
        "colab": {
          "base_uri": "https://localhost:8080/"
        },
        "id": "ZjOKlrGQTsQ_",
        "outputId": "e5ad77e2-c643-49c3-8e4d-ede49a27c9eb"
      },
      "outputs": [
        {
          "name": "stdout",
          "output_type": "stream",
          "text": [
            "Accuracy: 0.9384\n",
            "Precision: 0.9449\n",
            "Recall: 0.3381\n",
            "F1 Score: 0.4980\n"
          ]
        }
      ],
      "source": [
        "# Training Model 70 : 30\n",
        "\n",
        "model  =xgb.XGBClassifier(n_estimators=500,\n",
        "                          max_depth=4,\n",
        "                          learning_rate=0.1)\n",
        "\n",
        "# Train the model\n",
        "model.fit(x_train70, y_train70)\n",
        "\n",
        "# Predict\n",
        "y_pred30 = model.predict(x_test30)\n",
        "\n",
        "# แสดง Classification Report\n",
        "accuracy = accuracy_score(y_test30, y_pred30)\n",
        "precision = precision_score(y_test30, y_pred30)\n",
        "recall = recall_score(y_test30, y_pred30)\n",
        "f1 = f1_score(y_test30, y_pred30)\n",
        "\n",
        "print(\"Accuracy: {:.4f}\".format(accuracy))\n",
        "print(\"Precision: {:.4f}\".format(precision))\n",
        "print(\"Recall: {:.4f}\".format(recall))\n",
        "print(\"F1 Score: {:.4f}\".format(f1))"
      ]
    },
    {
      "cell_type": "code",
      "execution_count": null,
      "metadata": {
        "colab": {
          "base_uri": "https://localhost:8080/"
        },
        "id": "uM8M9GpAGpPo",
        "outputId": "d81a2f9e-5544-42fc-aa98-2551103a53e4"
      },
      "outputs": [
        {
          "name": "stdout",
          "output_type": "stream",
          "text": [
            "Fitting 5 folds for each of 160 candidates, totalling 800 fits\n"
          ]
        },
        {
          "name": "stderr",
          "output_type": "stream",
          "text": [
            "/usr/local/lib/python3.11/dist-packages/xgboost/core.py:158: UserWarning: [18:40:07] WARNING: /workspace/src/learner.cc:740: \n",
            "Parameters: { \"use_label_encoder\" } are not used.\n",
            "\n",
            "  warnings.warn(smsg, UserWarning)\n"
          ]
        },
        {
          "name": "stdout",
          "output_type": "stream",
          "text": [
            "Best Parameters: {'learning_rate': 0.3, 'max_depth': 3, 'n_estimators': 200}\n",
            "Best Cross-Validation Accuracy: 0.9421238621236245\n"
          ]
        }
      ],
      "source": [
        "# XGBoost without SMOTE and Feature Selection 80 : 20\n",
        "\n",
        "# Define model\n",
        "model = XGBClassifier(use_label_encoder=False, eval_metric='logloss')\n",
        "\n",
        "# Define hyperparameter grid\n",
        "param_grid = {\n",
        "    'n_estimators': [100, 200, 300,400,500],\n",
        "    'max_depth':np.arange(3,11),\n",
        "    'learning_rate': [0.01, 0.1, 0.2,0.3],\n",
        "}\n",
        "\n",
        "# Set up GridSearchCV\n",
        "grid_search = GridSearchCV(\n",
        "    estimator=model,\n",
        "    param_grid=param_grid,\n",
        "    scoring='accuracy',\n",
        "    cv=5,\n",
        "    verbose=2,\n",
        "    n_jobs=-1\n",
        ")\n",
        "\n",
        "# Fit model\n",
        "grid_search.fit(x_train80, y_train80)\n",
        "\n",
        "# Output results\n",
        "print(\"Best Parameters:\", grid_search.best_params_)\n",
        "print(\"Best Cross-Validation Accuracy:\", grid_search.best_score_)\n"
      ]
    },
    {
      "cell_type": "code",
      "execution_count": null,
      "metadata": {
        "colab": {
          "base_uri": "https://localhost:8080/"
        },
        "id": "mYGo0yxfVBwW",
        "outputId": "87a4c5b9-f9d6-4b2c-a0c8-2f6cf9810846"
      },
      "outputs": [
        {
          "name": "stderr",
          "output_type": "stream",
          "text": [
            "/usr/local/lib/python3.11/dist-packages/xgboost/core.py:158: UserWarning: [18:54:47] WARNING: /workspace/src/learner.cc:740: \n",
            "Parameters: { \"use_label_encoder\" } are not used.\n",
            "\n",
            "  warnings.warn(smsg, UserWarning)\n"
          ]
        },
        {
          "name": "stdout",
          "output_type": "stream",
          "text": [
            "Accuracy: 0.9408\n",
            "Precision: 0.9619\n",
            "Recall: 0.3495\n",
            "F1 Score: 0.5127\n"
          ]
        }
      ],
      "source": [
        "# Training Model 80 : 20\n",
        "\n",
        "model = XGBClassifier(\n",
        "    use_label_encoder=False,\n",
        "    eval_metric='logloss',\n",
        "    n_estimators=200,       # จำนวนต้นไม้\n",
        "    max_depth=3,            # ความลึกสูงสุดของต้นไม้\n",
        "    learning_rate=0.3,      # อัตราการเรียนรู้\n",
        ")\n",
        "\n",
        "#x_train80['awards_won?'] = x_train80['awards_won?'].cat.codes\n",
        "# Train the model\n",
        "model.fit(x_train80, y_train80)\n",
        "\n",
        "\n",
        "# Predict\n",
        "y_pred20 = model.predict(x_test20)\n",
        "\n",
        "# แสดง Classification Report\n",
        "accuracy = accuracy_score(y_test20, y_pred20)\n",
        "precision = precision_score(y_test20, y_pred20)\n",
        "recall = recall_score(y_test20, y_pred20)\n",
        "f1 = f1_score(y_test20, y_pred20)\n",
        "\n",
        "print(\"Accuracy: {:.4f}\".format(accuracy))\n",
        "print(\"Precision: {:.4f}\".format(precision))\n",
        "print(\"Recall: {:.4f}\".format(recall))\n",
        "print(\"F1 Score: {:.4f}\".format(f1))"
      ]
    },
    {
      "cell_type": "markdown",
      "metadata": {
        "id": "Rcr9Kb7uGsXn"
      },
      "source": [
        "# XGBoost with SMOTE"
      ]
    },
    {
      "cell_type": "code",
      "execution_count": null,
      "metadata": {
        "colab": {
          "base_uri": "https://localhost:8080/"
        },
        "id": "oJOR-TrSVU2m",
        "outputId": "c053201f-c156-4167-b807-2352d5c0094a"
      },
      "outputs": [
        {
          "name": "stdout",
          "output_type": "stream",
          "text": [
            "Fitting 5 folds for each of 160 candidates, totalling 800 fits\n"
          ]
        },
        {
          "name": "stderr",
          "output_type": "stream",
          "text": [
            "/usr/local/lib/python3.11/dist-packages/joblib/externals/loky/process_executor.py:752: UserWarning: A worker stopped while some jobs were given to the executor. This can be caused by a too short worker timeout or by a memory leak.\n",
            "  warnings.warn(\n",
            "/usr/local/lib/python3.11/dist-packages/xgboost/core.py:158: UserWarning: [19:22:29] WARNING: /workspace/src/learner.cc:740: \n",
            "Parameters: { \"use_label_encoder\" } are not used.\n",
            "\n",
            "  warnings.warn(smsg, UserWarning)\n"
          ]
        },
        {
          "name": "stdout",
          "output_type": "stream",
          "text": [
            "Best Parameters: {'learning_rate': 0.1, 'max_depth': np.int64(10), 'n_estimators': 500}\n",
            "Best Cross-Validation Accuracy: 0.9582982178334666\n"
          ]
        }
      ],
      "source": [
        "# XGBoost with SMOTE 70 : 30\n",
        "\n",
        "# Define model\n",
        "model = XGBClassifier(use_label_encoder=False, eval_metric='logloss')\n",
        "\n",
        "# Define hyperparameter grid\n",
        "param_grid = {\n",
        "    'n_estimators': [100, 200, 300,400,500],\n",
        "    'max_depth':np.arange(3,11),\n",
        "    'learning_rate': [0.01, 0.1, 0.2,0.3],\n",
        "}\n",
        "\n",
        "# Set up GridSearchCV\n",
        "grid_search = GridSearchCV(\n",
        "    estimator=model,\n",
        "    param_grid=param_grid,\n",
        "    scoring='accuracy',\n",
        "    cv=5,\n",
        "    verbose=2,\n",
        "    n_jobs=-1\n",
        ")\n",
        "\n",
        "# Fit model\n",
        "grid_search.fit(x_train_smote70, y_train_smote70)\n",
        "\n",
        "# Output results\n",
        "print(\"Best Parameters:\", grid_search.best_params_)\n",
        "print(\"Best Cross-Validation Accuracy:\", grid_search.best_score_)"
      ]
    },
    {
      "cell_type": "code",
      "execution_count": null,
      "metadata": {
        "colab": {
          "base_uri": "https://localhost:8080/"
        },
        "id": "CFndcdjbVado",
        "outputId": "d6f08617-e2fb-4f54-d7de-b8fa02f4c020"
      },
      "outputs": [
        {
          "name": "stderr",
          "output_type": "stream",
          "text": [
            "/usr/local/lib/python3.11/dist-packages/xgboost/core.py:158: UserWarning: [13:53:29] WARNING: /workspace/src/learner.cc:740: \n",
            "Parameters: { \"use_label_encoder\" } are not used.\n",
            "\n",
            "  warnings.warn(smsg, UserWarning)\n"
          ]
        },
        {
          "name": "stdout",
          "output_type": "stream",
          "text": [
            "Accuracy: 0.9522\n",
            "Precision: 0.9891\n",
            "Recall: 0.9145\n",
            "F1 Score: 0.9503\n"
          ]
        }
      ],
      "source": [
        "# Training Model 70 : 30  with SMOTE\n",
        "\n",
        "model = XGBClassifier(\n",
        "    use_label_encoder=False,\n",
        "    eval_metric='logloss',\n",
        "    n_estimators=500,       # จำนวนต้นไม้\n",
        "    max_depth=10,            # ความลึกสูงสุดของต้นไม้\n",
        "    learning_rate=0.1,      # อัตราการเรียนรู้\n",
        ")\n",
        "\n",
        "#x_train_smote70['awards_won?'] =x_train_smote70['awards_won?'].cat.codes\n",
        "# Train the model\n",
        "model.fit(x_train_smote70, y_train_smote70)\n",
        "\n",
        "\n",
        "# Predict\n",
        "y_pred30 = model.predict(x_test_smote70)\n",
        "\n",
        "# แสดง Classification Report\n",
        "accuracy = accuracy_score( y_test_smote70,y_pred30)\n",
        "precision = precision_score( y_test_smote70, y_pred30)\n",
        "recall = recall_score( y_test_smote70, y_pred30)\n",
        "f1 = f1_score( y_test_smote70, y_pred30)\n",
        "\n",
        "print(\"Accuracy: {:.4f}\".format(accuracy))\n",
        "print(\"Precision: {:.4f}\".format(precision))\n",
        "print(\"Recall: {:.4f}\".format(recall))\n",
        "print(\"F1 Score: {:.4f}\".format(f1))"
      ]
    },
    {
      "cell_type": "code",
      "execution_count": null,
      "metadata": {
        "colab": {
          "base_uri": "https://localhost:8080/"
        },
        "id": "lWVp4aVFG4FI",
        "outputId": "afeed964-4a7d-48f3-838a-8a757b05f20d"
      },
      "outputs": [
        {
          "name": "stdout",
          "output_type": "stream",
          "text": [
            "Fitting 5 folds for each of 160 candidates, totalling 800 fits\n"
          ]
        },
        {
          "name": "stderr",
          "output_type": "stream",
          "text": [
            "/usr/local/lib/python3.11/dist-packages/joblib/externals/loky/process_executor.py:752: UserWarning: A worker stopped while some jobs were given to the executor. This can be caused by a too short worker timeout or by a memory leak.\n",
            "  warnings.warn(\n",
            "/usr/local/lib/python3.11/dist-packages/xgboost/core.py:158: UserWarning: [15:19:08] WARNING: /workspace/src/learner.cc:740: \n",
            "Parameters: { \"use_label_encoder\" } are not used.\n",
            "\n",
            "  warnings.warn(smsg, UserWarning)\n"
          ]
        },
        {
          "name": "stdout",
          "output_type": "stream",
          "text": [
            "Best Parameters: {'learning_rate': 0.1, 'max_depth': np.int64(10), 'n_estimators': 500}\n",
            "Best Cross-Validation Accuracy: 0.9580620735270973\n"
          ]
        }
      ],
      "source": [
        "# XGBoost with SMOTE 80 : 20\n",
        "\n",
        "# Define model\n",
        "model = XGBClassifier(use_label_encoder=False, eval_metric='logloss')\n",
        "\n",
        "# Define hyperparameter grid\n",
        "param_grid = {\n",
        "    'n_estimators': [100, 200, 300,400,500],\n",
        "    'max_depth':np.arange(3,11),\n",
        "    'learning_rate': [0.01, 0.1, 0.2,0.3],\n",
        "}\n",
        "\n",
        "# Set up GridSearchCV\n",
        "grid_search = GridSearchCV(\n",
        "    estimator=model,\n",
        "    param_grid=param_grid,\n",
        "    scoring='accuracy',\n",
        "    cv=5,\n",
        "    verbose=2,\n",
        "    n_jobs=-1\n",
        ")\n",
        "\n",
        "# Fit model\n",
        "grid_search.fit(x_train_smote80, y_train_smote80)\n",
        "\n",
        "# Output results\n",
        "print(\"Best Parameters:\", grid_search.best_params_)\n",
        "print(\"Best Cross-Validation Accuracy:\", grid_search.best_score_)\n"
      ]
    },
    {
      "cell_type": "code",
      "execution_count": null,
      "metadata": {
        "colab": {
          "base_uri": "https://localhost:8080/"
        },
        "id": "sCk1ZXurVoFC",
        "outputId": "30f18772-c655-401e-8b76-2be1b5d80588"
      },
      "outputs": [
        {
          "name": "stderr",
          "output_type": "stream",
          "text": [
            "/usr/local/lib/python3.11/dist-packages/xgboost/core.py:158: UserWarning: [15:51:16] WARNING: /workspace/src/learner.cc:740: \n",
            "Parameters: { \"use_label_encoder\" } are not used.\n",
            "\n",
            "  warnings.warn(smsg, UserWarning)\n"
          ]
        },
        {
          "name": "stdout",
          "output_type": "stream",
          "text": [
            "Accuracy: 0.9528\n",
            "Precision: 0.9875\n",
            "Recall: 0.9173\n",
            "F1 Score: 0.9511\n"
          ]
        }
      ],
      "source": [
        "# Training Model 80 : 20\n",
        "\n",
        "model = XGBClassifier(\n",
        "    use_label_encoder=False,\n",
        "    eval_metric='logloss',\n",
        "    n_estimators=500,       # จำนวนต้นไม้\n",
        "    max_depth=10,            # ความลึกสูงสุดของต้นไม้\n",
        "    learning_rate=0.1,      # อัตราการเรียนรู้\n",
        ")\n",
        "\n",
        "#x_train_smote80['awards_won?'] =x_train_smote80['awards_won?'].cat.codes\n",
        "# Train the model\n",
        "model.fit(x_train_smote80, y_train_smote80)\n",
        "\n",
        "\n",
        "# Predict\n",
        "y_pred20 = model.predict(x_test_smote80)\n",
        "\n",
        "# แสดง Classification Report\n",
        "accuracy = accuracy_score( y_test_smote80,y_pred20)\n",
        "precision = precision_score( y_test_smote80, y_pred20)\n",
        "recall = recall_score( y_test_smote80, y_pred20)\n",
        "f1 = f1_score( y_test_smote80, y_pred20)\n",
        "\n",
        "print(\"Accuracy: {:.4f}\".format(accuracy))\n",
        "print(\"Precision: {:.4f}\".format(precision))\n",
        "print(\"Recall: {:.4f}\".format(recall))\n",
        "print(\"F1 Score: {:.4f}\".format(f1))"
      ]
    },
    {
      "cell_type": "markdown",
      "metadata": {
        "id": "lodQqTY7G6R_"
      },
      "source": [
        "# XGBoost with Feature Selection"
      ]
    },
    {
      "cell_type": "code",
      "execution_count": null,
      "metadata": {
        "colab": {
          "base_uri": "https://localhost:8080/"
        },
        "id": "9ChjfIQuG_Nt",
        "outputId": "43d13652-040e-4be7-b227-5a5169afa331"
      },
      "outputs": [
        {
          "name": "stdout",
          "output_type": "stream",
          "text": [
            "Fitting 5 folds for each of 160 candidates, totalling 800 fits\n"
          ]
        },
        {
          "name": "stderr",
          "output_type": "stream",
          "text": [
            "/usr/local/lib/python3.11/dist-packages/xgboost/core.py:158: UserWarning: [15:59:38] WARNING: /workspace/src/learner.cc:740: \n",
            "Parameters: { \"use_label_encoder\" } are not used.\n",
            "\n",
            "  warnings.warn(smsg, UserWarning)\n"
          ]
        },
        {
          "name": "stdout",
          "output_type": "stream",
          "text": [
            "Best Parameters: {'learning_rate': 0.01, 'max_depth': np.int64(3), 'n_estimators': 100}\n",
            "Best Cross-Validation Accuracy: 0.9144794816031215\n"
          ]
        }
      ],
      "source": [
        "# XGBoost with Feature Selection 70 : 30\n",
        "\n",
        "# Define hyperparameter grid\n",
        "param_grid = {\n",
        "    'n_estimators': [100, 200, 300,400,500],\n",
        "    'max_depth':np.arange(3,11),\n",
        "    'learning_rate': [0.01, 0.1, 0.2,0.3],\n",
        "}\n",
        "\n",
        "# Set up GridSearchCV\n",
        "grid_search = GridSearchCV(\n",
        "    estimator=model,\n",
        "    param_grid=param_grid,\n",
        "    scoring='accuracy',\n",
        "    cv=5,\n",
        "    verbose=2,\n",
        "    n_jobs=-1\n",
        ")\n",
        "\n",
        "# Fit model\n",
        "grid_search.fit(x_train_selected70, y_train70)\n",
        "\n",
        "# Output results\n",
        "print(\"Best Parameters:\", grid_search.best_params_)\n",
        "print(\"Best Cross-Validation Accuracy:\", grid_search.best_score_)\n"
      ]
    },
    {
      "cell_type": "code",
      "execution_count": null,
      "metadata": {
        "colab": {
          "base_uri": "https://localhost:8080/"
        },
        "id": "9AmLPQrGWtOd",
        "outputId": "5675220c-23e0-44ad-f8c4-12a5264abbc6"
      },
      "outputs": [
        {
          "name": "stderr",
          "output_type": "stream",
          "text": [
            "/usr/local/lib/python3.11/dist-packages/xgboost/core.py:158: UserWarning: [16:01:11] WARNING: /workspace/src/learner.cc:740: \n",
            "Parameters: { \"use_label_encoder\" } are not used.\n",
            "\n",
            "  warnings.warn(smsg, UserWarning)\n"
          ]
        },
        {
          "name": "stdout",
          "output_type": "stream",
          "text": [
            "Accuracy: 0.9096\n",
            "Precision: 0.0000\n",
            "Recall: 0.0000\n",
            "F1 Score: 0.0000\n"
          ]
        },
        {
          "name": "stderr",
          "output_type": "stream",
          "text": [
            "/usr/local/lib/python3.11/dist-packages/sklearn/metrics/_classification.py:1565: UndefinedMetricWarning: Precision is ill-defined and being set to 0.0 due to no predicted samples. Use `zero_division` parameter to control this behavior.\n",
            "  _warn_prf(average, modifier, f\"{metric.capitalize()} is\", len(result))\n"
          ]
        }
      ],
      "source": [
        "# Training Model 70 : 30  with Feature Selection\n",
        "\n",
        "model = XGBClassifier(\n",
        "    use_label_encoder=False,\n",
        "    eval_metric='logloss',\n",
        "    n_estimators=100,       # จำนวนต้นไม้\n",
        "    max_depth=3,            # ความลึกสูงสุดของต้นไม้\n",
        "    learning_rate=0.01,      # อัตราการเรียนรู้\n",
        ")\n",
        "\n",
        "\n",
        "# Train the model\n",
        "model.fit(x_train_selected70, y_train70)\n",
        "\n",
        "\n",
        "# Make predictions on the test data (30%)\n",
        "y_pred30 = model.predict(x_test_selected30)\n",
        "\n",
        "# แสดง Classification Report\n",
        "accuracy = accuracy_score(y_test30, y_pred30)\n",
        "precision = precision_score(y_test30, y_pred30)\n",
        "recall = recall_score(y_test30, y_pred30)\n",
        "f1 = f1_score(y_test30, y_pred30)\n",
        "\n",
        "print(\"Accuracy: {:.4f}\".format(accuracy))\n",
        "print(\"Precision: {:.4f}\".format(precision))\n",
        "print(\"Recall: {:.4f}\".format(recall))\n",
        "print(\"F1 Score: {:.4f}\".format(f1))"
      ]
    },
    {
      "cell_type": "code",
      "execution_count": null,
      "metadata": {
        "colab": {
          "base_uri": "https://localhost:8080/"
        },
        "id": "ssQ0ZAIaHAiB",
        "outputId": "15999709-429c-4b1d-8f8c-d722e765f43a"
      },
      "outputs": [
        {
          "name": "stdout",
          "output_type": "stream",
          "text": [
            "Fitting 5 folds for each of 160 candidates, totalling 800 fits\n"
          ]
        },
        {
          "name": "stderr",
          "output_type": "stream",
          "text": [
            "/usr/local/lib/python3.11/dist-packages/xgboost/core.py:158: UserWarning: [19:14:50] WARNING: /workspace/src/learner.cc:740: \n",
            "Parameters: { \"use_label_encoder\" } are not used.\n",
            "\n",
            "  warnings.warn(smsg, UserWarning)\n"
          ]
        },
        {
          "name": "stdout",
          "output_type": "stream",
          "text": [
            "Best Parameters: {'learning_rate': 0.1, 'max_depth': 3, 'n_estimators': 300}\n",
            "Best Cross-Validation Accuracy: 0.9393751807544163\n"
          ]
        }
      ],
      "source": [
        "# XGBoost with Feature Selection 80 : 20\n",
        "\n",
        "# Define model\n",
        "model = XGBClassifier(use_label_encoder=False, eval_metric='logloss')\n",
        "\n",
        "# Define hyperparameter grid\n",
        "param_grid = {\n",
        "    'n_estimators': [100, 200, 300,400,500],\n",
        "    'max_depth':np.arange(3,11),\n",
        "    'learning_rate': [0.01, 0.1, 0.2,0.3],\n",
        "}\n",
        "\n",
        "# Set up GridSearchCV\n",
        "grid_search = GridSearchCV(\n",
        "    estimator=model,\n",
        "    param_grid=param_grid,\n",
        "    scoring='accuracy',\n",
        "    cv=5,\n",
        "    verbose=2,\n",
        "    n_jobs=-1\n",
        ")\n",
        "\n",
        "# Fit model\n",
        "grid_search.fit(x_train_selected80, y_train80)\n",
        "\n",
        "# Output results\n",
        "print(\"Best Parameters:\", grid_search.best_params_)\n",
        "print(\"Best Cross-Validation Accuracy:\", grid_search.best_score_)"
      ]
    },
    {
      "cell_type": "code",
      "execution_count": null,
      "metadata": {
        "colab": {
          "base_uri": "https://localhost:8080/"
        },
        "id": "P4giIgNOW6Xs",
        "outputId": "eb565911-0833-4871-a948-3e842f368d3b"
      },
      "outputs": [
        {
          "name": "stderr",
          "output_type": "stream",
          "text": [
            "/usr/local/lib/python3.11/dist-packages/xgboost/core.py:158: UserWarning: [16:02:03] WARNING: /workspace/src/learner.cc:740: \n",
            "Parameters: { \"use_label_encoder\" } are not used.\n",
            "\n",
            "  warnings.warn(smsg, UserWarning)\n"
          ]
        },
        {
          "name": "stdout",
          "output_type": "stream",
          "text": [
            "Accuracy: 0.9109\n",
            "Precision: 0.0000\n",
            "Recall: 0.0000\n",
            "F1 Score: 0.0000\n"
          ]
        },
        {
          "name": "stderr",
          "output_type": "stream",
          "text": [
            "/usr/local/lib/python3.11/dist-packages/sklearn/metrics/_classification.py:1565: UndefinedMetricWarning: Precision is ill-defined and being set to 0.0 due to no predicted samples. Use `zero_division` parameter to control this behavior.\n",
            "  _warn_prf(average, modifier, f\"{metric.capitalize()} is\", len(result))\n"
          ]
        }
      ],
      "source": [
        "# Training Model 80 : 20\n",
        "\n",
        "model = XGBClassifier(\n",
        "    use_label_encoder=False,\n",
        "    eval_metric='logloss',\n",
        "    n_estimators=100,       # จำนวนต้นไม้\n",
        "    max_depth=3,            # ความลึกสูงสุดของต้นไม้\n",
        "    learning_rate=0.01,      # อัตราการเรียนรู้\n",
        ")\n",
        "\n",
        "# Train the model\n",
        "model.fit(x_train_selected80, y_train80)\n",
        "\n",
        "\n",
        "# Make predictions on the test data (30%)\n",
        "y_pred30 = model.predict(x_test_selected20)\n",
        "\n",
        "# แสดง Classification Report\n",
        "accuracy = accuracy_score(y_test20, y_pred30)\n",
        "precision = precision_score(y_test20, y_pred30)\n",
        "recall = recall_score(y_test20, y_pred30)\n",
        "f1 = f1_score(y_test20, y_pred30)\n",
        "\n",
        "print(\"Accuracy: {:.4f}\".format(accuracy))\n",
        "print(\"Precision: {:.4f}\".format(precision))\n",
        "print(\"Recall: {:.4f}\".format(recall))\n",
        "print(\"F1 Score: {:.4f}\".format(f1))"
      ]
    },
    {
      "cell_type": "markdown",
      "metadata": {
        "id": "Vc9bc1QtHCaE"
      },
      "source": [
        "# XGBoost with SMOTE and Feature Selection"
      ]
    },
    {
      "cell_type": "code",
      "execution_count": null,
      "metadata": {
        "colab": {
          "base_uri": "https://localhost:8080/"
        },
        "id": "pjk5N1vYHomN",
        "outputId": "1d66979c-b560-4357-a652-ec02e91cbedb"
      },
      "outputs": [
        {
          "name": "stdout",
          "output_type": "stream",
          "text": [
            "Fitting 5 folds for each of 160 candidates, totalling 800 fits\n"
          ]
        },
        {
          "name": "stderr",
          "output_type": "stream",
          "text": [
            "/usr/local/lib/python3.11/dist-packages/xgboost/core.py:158: UserWarning: [19:17:51] WARNING: /workspace/src/learner.cc:740: \n",
            "Parameters: { \"use_label_encoder\" } are not used.\n",
            "\n",
            "  warnings.warn(smsg, UserWarning)\n"
          ]
        },
        {
          "name": "stdout",
          "output_type": "stream",
          "text": [
            "Best Parameters: {'learning_rate': 0.2, 'max_depth': 4, 'n_estimators': 400}\n",
            "Best Cross-Validation Accuracy: 0.91950074317598\n"
          ]
        }
      ],
      "source": [
        "# XGBoost with SMOTE and Feature Selection 70 : 30\n",
        "\n",
        "# Define hyperparameter grid\n",
        "param_grid = {\n",
        "    'n_estimators': [100, 200, 300,400,500],\n",
        "    'max_depth':np.arange(3,11),\n",
        "    'learning_rate': [0.01, 0.1, 0.2,0.3],\n",
        "}\n",
        "\n",
        "# Set up GridSearchCV\n",
        "grid_search = GridSearchCV(\n",
        "    estimator=model,\n",
        "    param_grid=param_grid,\n",
        "    scoring='accuracy',\n",
        "    cv=5,\n",
        "    verbose=2,\n",
        "    n_jobs=-1\n",
        ")\n",
        "\n",
        "# Fit model\n",
        "grid_search.fit(x_train_smoteselected70,  y_train_smote70)\n",
        "\n",
        "# Output results\n",
        "print(\"Best Parameters:\", grid_search.best_params_)\n",
        "print(\"Best Cross-Validation Accuracy:\", grid_search.best_score_)\n"
      ]
    },
    {
      "cell_type": "code",
      "execution_count": null,
      "metadata": {
        "colab": {
          "base_uri": "https://localhost:8080/"
        },
        "id": "wzCqLTOYHKhR",
        "outputId": "905503c9-3aa6-4edd-d890-bf49933a4133"
      },
      "outputs": [
        {
          "name": "stderr",
          "output_type": "stream",
          "text": [
            "/usr/local/lib/python3.11/dist-packages/xgboost/core.py:158: UserWarning: [19:25:06] WARNING: /workspace/src/learner.cc:740: \n",
            "Parameters: { \"use_label_encoder\" } are not used.\n",
            "\n",
            "  warnings.warn(smsg, UserWarning)\n"
          ]
        },
        {
          "name": "stdout",
          "output_type": "stream",
          "text": [
            "Accuracy: 0.9243\n",
            "Precision: 0.9799\n",
            "Recall: 0.8663\n",
            "F1 Score: 0.9196\n"
          ]
        }
      ],
      "source": [
        "# XGBoost with SMOTE and Feature Selection 70 : 30\n",
        "# Training Model 70 : 30  with Feature Selection\n",
        "\n",
        "model = XGBClassifier(\n",
        "    use_label_encoder=False,\n",
        "    eval_metric='logloss',\n",
        "    n_estimators=400,       # จำนวนต้นไม้\n",
        "    max_depth=4,            # ความลึกสูงสุดของต้นไม้\n",
        "    learning_rate=0.2,      # อัตราการเรียนรู้\n",
        ")\n",
        "\n",
        "# Train the model on the training data (70%)\n",
        "model.fit(x_train_smoteselected70,  y_train_smote70)\n",
        "\n",
        "# Make predictions on the test data (30%)\n",
        "y_pred30 = model.predict(x_test_smoteselected30)\n",
        "\n",
        "\n",
        "# แสดง Classification Report\n",
        "accuracy = accuracy_score(y_test_smote70, y_pred30)\n",
        "precision = precision_score(y_test_smote70, y_pred30)\n",
        "recall = recall_score(y_test_smote70, y_pred30)\n",
        "f1 = f1_score(y_test_smote70, y_pred30)\n",
        "\n",
        "print(\"Accuracy: {:.4f}\".format(accuracy))\n",
        "print(\"Precision: {:.4f}\".format(precision))\n",
        "print(\"Recall: {:.4f}\".format(recall))\n",
        "print(\"F1 Score: {:.4f}\".format(f1))\n"
      ]
    },
    {
      "cell_type": "code",
      "execution_count": null,
      "metadata": {
        "colab": {
          "base_uri": "https://localhost:8080/"
        },
        "id": "OTIAJIR_Hw5U",
        "outputId": "0efed603-f9bf-43c6-91fc-44581e34167f"
      },
      "outputs": [
        {
          "name": "stdout",
          "output_type": "stream",
          "text": [
            "Fitting 5 folds for each of 160 candidates, totalling 800 fits\n"
          ]
        },
        {
          "name": "stderr",
          "output_type": "stream",
          "text": [
            "/usr/local/lib/python3.11/dist-packages/xgboost/core.py:158: UserWarning: [19:21:14] WARNING: /workspace/src/learner.cc:740: \n",
            "Parameters: { \"use_label_encoder\" } are not used.\n",
            "\n",
            "  warnings.warn(smsg, UserWarning)\n"
          ]
        },
        {
          "name": "stdout",
          "output_type": "stream",
          "text": [
            "Best Parameters: {'learning_rate': 0.3, 'max_depth': 4, 'n_estimators': 500}\n",
            "Best Cross-Validation Accuracy: 0.9166426422375229\n"
          ]
        }
      ],
      "source": [
        "# XGBoost with SMOTE and Feature Selection 80 : 20\n",
        "\n",
        "# Define hyperparameter grid\n",
        "param_grid = {\n",
        "    'n_estimators': [100, 200, 300,400,500],\n",
        "    'max_depth':np.arange(3,11),\n",
        "    'learning_rate': [0.01, 0.1, 0.2,0.3],\n",
        "}\n",
        "\n",
        "# Set up GridSearchCV\n",
        "grid_search = GridSearchCV(\n",
        "    estimator=model,\n",
        "    param_grid=param_grid,\n",
        "    scoring='accuracy',\n",
        "    cv=5,\n",
        "    verbose=2,\n",
        "    n_jobs=-1\n",
        ")\n",
        "\n",
        "# Fit model\n",
        "grid_search.fit(x_train_smoteselected80,  y_train_smote80)\n",
        "\n",
        "# Output results\n",
        "print(\"Best Parameters:\", grid_search.best_params_)\n",
        "print(\"Best Cross-Validation Accuracy:\", grid_search.best_score_)\n"
      ]
    },
    {
      "cell_type": "code",
      "execution_count": null,
      "metadata": {
        "colab": {
          "base_uri": "https://localhost:8080/"
        },
        "id": "uVV472O2HLx1",
        "outputId": "c08f973f-1e7c-4962-ed3a-8a3cc284737f"
      },
      "outputs": [
        {
          "name": "stderr",
          "output_type": "stream",
          "text": [
            "/usr/local/lib/python3.11/dist-packages/xgboost/core.py:158: UserWarning: [19:23:31] WARNING: /workspace/src/learner.cc:740: \n",
            "Parameters: { \"use_label_encoder\" } are not used.\n",
            "\n",
            "  warnings.warn(smsg, UserWarning)\n"
          ]
        },
        {
          "name": "stdout",
          "output_type": "stream",
          "text": [
            "Accuracy: 0.9239\n",
            "Precision: 0.9771\n",
            "Recall: 0.8680\n",
            "F1 Score: 0.9194\n"
          ]
        }
      ],
      "source": [
        "# XGBoost with SMOTE and Feature Selection 80 : 20\n",
        "\n",
        "model = XGBClassifier(\n",
        "    use_label_encoder=False,\n",
        "    eval_metric='logloss',\n",
        "    n_estimators=500,       # จำนวนต้นไม้\n",
        "    max_depth=4,            # ความลึกสูงสุดของต้นไม้\n",
        "    learning_rate=0.3,      # อัตราการเรียนรู้\n",
        ")\n",
        "\n",
        "# Train the model on the training data (70%)\n",
        "model.fit(x_train_smoteselected80,  y_train_smote80)\n",
        "\n",
        "# Make predictions on the test data (30%)\n",
        "y_pred30 = model.predict(x_test_smoteselected20)\n",
        "\n",
        "\n",
        "# แสดง Classification Report\n",
        "accuracy = accuracy_score(y_test_smote80, y_pred30)\n",
        "precision = precision_score(y_test_smote80, y_pred30)\n",
        "recall = recall_score(y_test_smote80, y_pred30)\n",
        "f1 = f1_score(y_test_smote80, y_pred30)\n",
        "\n",
        "print(\"Accuracy: {:.4f}\".format(accuracy))\n",
        "print(\"Precision: {:.4f}\".format(precision))\n",
        "print(\"Recall: {:.4f}\".format(recall))\n",
        "print(\"F1 Score: {:.4f}\".format(f1))"
      ]
    }
  ],
  "metadata": {
    "accelerator": "GPU",
    "colab": {
      "collapsed_sections": [
        "Gvr8S9gMJnzv",
        "esmSC79_3SuH"
      ],
      "gpuType": "T4",
      "machine_shape": "hm",
      "provenance": []
    },
    "kernelspec": {
      "display_name": "Python 3",
      "name": "python3"
    },
    "language_info": {
      "codemirror_mode": {
        "name": "ipython",
        "version": 3
      },
      "file_extension": ".py",
      "mimetype": "text/x-python",
      "name": "python",
      "nbconvert_exporter": "python",
      "pygments_lexer": "ipython3",
      "version": "3.11.9"
    }
  },
  "nbformat": 4,
  "nbformat_minor": 0
}
